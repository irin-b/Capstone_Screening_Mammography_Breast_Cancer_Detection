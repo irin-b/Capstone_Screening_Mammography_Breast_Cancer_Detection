{
 "cells": [
  {
   "cell_type": "code",
   "execution_count": 3,
   "id": "88f81794-f5c5-4cb3-a3c9-5822ebface75",
   "metadata": {},
   "outputs": [],
   "source": [
    "import pandas as pd\n",
    "import numpy as np\n",
    "import tensorflow as tf\n",
    "import keras\n",
    "\n",
    "from sklearn.decomposition import IncrementalPCA, MiniBatchNMF\n",
    "from sklearn.pipeline import Pipeline\n",
    "from sklearn.linear_model import LogisticRegression\n",
    "from sklearn.model_selection import StratifiedKFold\n",
    "from sklearn.metrics import average_precision_score, make_scorer\n",
    "\n",
    "import random\n",
    "import pickle\n",
    "import pydicom\n",
    "import matplotlib.pyplot as plt\n",
    "\n",
    "\n",
    "import data_splitter as ds\n",
    "import data_loader as dl\n",
    "import feature_extraction as fex\n",
    "import run_model as rm"
   ]
  },
  {
   "cell_type": "code",
   "execution_count": 2,
   "id": "0080977d-9f3c-486b-86fb-0df1b8a1286f",
   "metadata": {},
   "outputs": [],
   "source": [
    "# explicitly require this experimental feature\n",
    "from sklearn.experimental import enable_halving_search_cv # noqa\n",
    "# now you can import normally from model_selection\n",
    "from sklearn.model_selection import HalvingGridSearchCV, HalvingRandomSearchCV"
   ]
  },
  {
   "cell_type": "markdown",
   "id": "1d70c657",
   "metadata": {},
   "source": [
    "## Image Resolution 256 x 256"
   ]
  },
  {
   "cell_type": "code",
   "execution_count": 4,
   "id": "38676ec3",
   "metadata": {},
   "outputs": [],
   "source": [
    "X = np.load('sample_flatten_X.npy')\n",
    "y = np.load('sample_flatten_y.npy')"
   ]
  },
  {
   "cell_type": "code",
   "execution_count": 5,
   "id": "f673bcca",
   "metadata": {},
   "outputs": [
    {
     "data": {
      "text/plain": [
       "Counter({0.0: 8570, 1.0: 181})"
      ]
     },
     "execution_count": 5,
     "metadata": {},
     "output_type": "execute_result"
    }
   ],
   "source": [
    "from collections import Counter\n",
    "Counter(y)"
   ]
  },
  {
   "cell_type": "code",
   "execution_count": 7,
   "id": "1340a222",
   "metadata": {},
   "outputs": [],
   "source": [
    "nmf = MiniBatchNMF(\n",
    "    max_iter = 100000,\n",
    "    tol = 1e-4, #control early stopping based on changes in H\n",
    "    max_no_improvement = 3, #control early stopping based on smoothed cost function\n",
    "    forget_factor = 1, #rescaling factor of past\n",
    "    fresh_restarts = False, #completely solve for W at each step \n",
    "    random_state = 42\n",
    "    )\n",
    "\n",
    "logit = LogisticRegression(\n",
    "    warm_start = True,\n",
    "    solver = 'saga',\n",
    "    max_iter = 20,\n",
    "    l1_ratio = 0.5,\n",
    "    random_state = 42\n",
    "    )\n",
    "\n",
    "pipe = Pipeline([\n",
    "    ('feature_extraction', nmf),\n",
    "    ('classify', logit)\n",
    "])\n",
    "\n",
    "param_grid = {\n",
    "    'feature_extraction__n_components': np.arange(2, 51, step=1),\n",
    "    'feature_extraction__init': ['random', 'nndsvd', 'nndsvda'],\n",
    "    'feature_extraction__beta_loss': ['frobenius', 'kullback-leibler'],\n",
    "    'feature_extraction__alpha_W': np.arange(0, 1, step=0.1), #np.logspace(0, -4, num=5, base=10, endpoint=True),\n",
    "    'feature_extraction__l1_ratio': np.arange(0, 1, step=0.1)\n",
    "}"
   ]
  },
  {
   "cell_type": "code",
   "execution_count": 8,
   "id": "fd1a3306",
   "metadata": {},
   "outputs": [
    {
     "name": "stdout",
     "output_type": "stream",
     "text": [
      "n_iterations: 2\n",
      "n_required_iterations: 2\n",
      "n_possible_iterations: 2\n",
      "min_resources_: 400\n",
      "max_resources_: 8751\n",
      "aggressive_elimination: True\n",
      "factor: 5\n",
      "----------\n",
      "iter: 0\n",
      "n_candidates: 21\n",
      "n_resources: 400\n",
      "Fitting 5 folds for each of 21 candidates, totalling 105 fits\n"
     ]
    },
    {
     "name": "stderr",
     "output_type": "stream",
     "text": [
      "/home/irinb/.local/lib/python3.9/site-packages/sklearn/linear_model/_logistic.py:1165: UserWarning: l1_ratio parameter is only used when penalty is 'elasticnet'. Got (penalty=l2)\n",
      "  warnings.warn(\n",
      "/home/irinb/.local/lib/python3.9/site-packages/sklearn/linear_model/_sag.py:350: ConvergenceWarning: The max_iter was reached which means the coef_ did not converge\n",
      "  warnings.warn(\n",
      "/home/irinb/.local/lib/python3.9/site-packages/sklearn/linear_model/_logistic.py:1165: UserWarning: l1_ratio parameter is only used when penalty is 'elasticnet'. Got (penalty=l2)\n",
      "  warnings.warn(\n",
      "/home/irinb/.local/lib/python3.9/site-packages/sklearn/linear_model/_sag.py:350: ConvergenceWarning: The max_iter was reached which means the coef_ did not converge\n",
      "  warnings.warn(\n",
      "/home/irinb/.local/lib/python3.9/site-packages/sklearn/linear_model/_logistic.py:1165: UserWarning: l1_ratio parameter is only used when penalty is 'elasticnet'. Got (penalty=l2)\n",
      "  warnings.warn(\n",
      "/home/irinb/.local/lib/python3.9/site-packages/sklearn/linear_model/_sag.py:350: ConvergenceWarning: The max_iter was reached which means the coef_ did not converge\n",
      "  warnings.warn(\n",
      "/home/irinb/.local/lib/python3.9/site-packages/sklearn/linear_model/_logistic.py:1165: UserWarning: l1_ratio parameter is only used when penalty is 'elasticnet'. Got (penalty=l2)\n",
      "  warnings.warn(\n",
      "/home/irinb/.local/lib/python3.9/site-packages/sklearn/linear_model/_sag.py:350: ConvergenceWarning: The max_iter was reached which means the coef_ did not converge\n",
      "  warnings.warn(\n",
      "/home/irinb/.local/lib/python3.9/site-packages/sklearn/linear_model/_logistic.py:1165: UserWarning: l1_ratio parameter is only used when penalty is 'elasticnet'. Got (penalty=l2)\n",
      "  warnings.warn(\n",
      "/home/irinb/.local/lib/python3.9/site-packages/sklearn/linear_model/_sag.py:350: ConvergenceWarning: The max_iter was reached which means the coef_ did not converge\n",
      "  warnings.warn(\n",
      "/home/irinb/.local/lib/python3.9/site-packages/sklearn/linear_model/_logistic.py:1165: UserWarning: l1_ratio parameter is only used when penalty is 'elasticnet'. Got (penalty=l2)\n",
      "  warnings.warn(\n",
      "/home/irinb/.local/lib/python3.9/site-packages/sklearn/linear_model/_sag.py:350: ConvergenceWarning: The max_iter was reached which means the coef_ did not converge\n",
      "  warnings.warn(\n",
      "/home/irinb/.local/lib/python3.9/site-packages/sklearn/linear_model/_logistic.py:1165: UserWarning: l1_ratio parameter is only used when penalty is 'elasticnet'. Got (penalty=l2)\n",
      "  warnings.warn(\n",
      "/home/irinb/.local/lib/python3.9/site-packages/sklearn/linear_model/_sag.py:350: ConvergenceWarning: The max_iter was reached which means the coef_ did not converge\n",
      "  warnings.warn(\n",
      "/home/irinb/.local/lib/python3.9/site-packages/sklearn/linear_model/_logistic.py:1165: UserWarning: l1_ratio parameter is only used when penalty is 'elasticnet'. Got (penalty=l2)\n",
      "  warnings.warn(\n",
      "/home/irinb/.local/lib/python3.9/site-packages/sklearn/linear_model/_sag.py:350: ConvergenceWarning: The max_iter was reached which means the coef_ did not converge\n",
      "  warnings.warn(\n",
      "/home/irinb/.local/lib/python3.9/site-packages/sklearn/linear_model/_logistic.py:1165: UserWarning: l1_ratio parameter is only used when penalty is 'elasticnet'. Got (penalty=l2)\n",
      "  warnings.warn(\n",
      "/home/irinb/.local/lib/python3.9/site-packages/sklearn/linear_model/_sag.py:350: ConvergenceWarning: The max_iter was reached which means the coef_ did not converge\n",
      "  warnings.warn(\n",
      "/home/irinb/.local/lib/python3.9/site-packages/sklearn/linear_model/_logistic.py:1165: UserWarning: l1_ratio parameter is only used when penalty is 'elasticnet'. Got (penalty=l2)\n",
      "  warnings.warn(\n",
      "/home/irinb/.local/lib/python3.9/site-packages/sklearn/linear_model/_sag.py:350: ConvergenceWarning: The max_iter was reached which means the coef_ did not converge\n",
      "  warnings.warn(\n",
      "/home/irinb/.local/lib/python3.9/site-packages/sklearn/linear_model/_logistic.py:1165: UserWarning: l1_ratio parameter is only used when penalty is 'elasticnet'. Got (penalty=l2)\n",
      "  warnings.warn(\n",
      "/home/irinb/.local/lib/python3.9/site-packages/sklearn/linear_model/_sag.py:350: ConvergenceWarning: The max_iter was reached which means the coef_ did not converge\n",
      "  warnings.warn(\n",
      "/home/irinb/.local/lib/python3.9/site-packages/sklearn/linear_model/_logistic.py:1165: UserWarning: l1_ratio parameter is only used when penalty is 'elasticnet'. Got (penalty=l2)\n",
      "  warnings.warn(\n",
      "/home/irinb/.local/lib/python3.9/site-packages/sklearn/linear_model/_sag.py:350: ConvergenceWarning: The max_iter was reached which means the coef_ did not converge\n",
      "  warnings.warn(\n",
      "/home/irinb/.local/lib/python3.9/site-packages/sklearn/linear_model/_logistic.py:1165: UserWarning: l1_ratio parameter is only used when penalty is 'elasticnet'. Got (penalty=l2)\n",
      "  warnings.warn(\n",
      "/home/irinb/.local/lib/python3.9/site-packages/sklearn/linear_model/_sag.py:350: ConvergenceWarning: The max_iter was reached which means the coef_ did not converge\n",
      "  warnings.warn(\n",
      "/home/irinb/.local/lib/python3.9/site-packages/sklearn/linear_model/_logistic.py:1165: UserWarning: l1_ratio parameter is only used when penalty is 'elasticnet'. Got (penalty=l2)\n",
      "  warnings.warn(\n",
      "/home/irinb/.local/lib/python3.9/site-packages/sklearn/linear_model/_sag.py:350: ConvergenceWarning: The max_iter was reached which means the coef_ did not converge\n",
      "  warnings.warn(\n",
      "/home/irinb/.local/lib/python3.9/site-packages/sklearn/linear_model/_logistic.py:1165: UserWarning: l1_ratio parameter is only used when penalty is 'elasticnet'. Got (penalty=l2)\n",
      "  warnings.warn(\n",
      "/home/irinb/.local/lib/python3.9/site-packages/sklearn/linear_model/_sag.py:350: ConvergenceWarning: The max_iter was reached which means the coef_ did not converge\n",
      "  warnings.warn(\n",
      "/home/irinb/.local/lib/python3.9/site-packages/sklearn/linear_model/_logistic.py:1165: UserWarning: l1_ratio parameter is only used when penalty is 'elasticnet'. Got (penalty=l2)\n",
      "  warnings.warn(\n",
      "/home/irinb/.local/lib/python3.9/site-packages/sklearn/linear_model/_sag.py:350: ConvergenceWarning: The max_iter was reached which means the coef_ did not converge\n",
      "  warnings.warn(\n",
      "/home/irinb/.local/lib/python3.9/site-packages/sklearn/linear_model/_logistic.py:1165: UserWarning: l1_ratio parameter is only used when penalty is 'elasticnet'. Got (penalty=l2)\n",
      "  warnings.warn(\n",
      "/home/irinb/.local/lib/python3.9/site-packages/sklearn/linear_model/_sag.py:350: ConvergenceWarning: The max_iter was reached which means the coef_ did not converge\n",
      "  warnings.warn(\n",
      "/home/irinb/.local/lib/python3.9/site-packages/sklearn/linear_model/_logistic.py:1165: UserWarning: l1_ratio parameter is only used when penalty is 'elasticnet'. Got (penalty=l2)\n",
      "  warnings.warn(\n",
      "/home/irinb/.local/lib/python3.9/site-packages/sklearn/linear_model/_sag.py:350: ConvergenceWarning: The max_iter was reached which means the coef_ did not converge\n",
      "  warnings.warn(\n",
      "/home/irinb/.local/lib/python3.9/site-packages/sklearn/linear_model/_logistic.py:1165: UserWarning: l1_ratio parameter is only used when penalty is 'elasticnet'. Got (penalty=l2)\n",
      "  warnings.warn(\n",
      "/home/irinb/.local/lib/python3.9/site-packages/sklearn/linear_model/_sag.py:350: ConvergenceWarning: The max_iter was reached which means the coef_ did not converge\n",
      "  warnings.warn(\n",
      "/home/irinb/.local/lib/python3.9/site-packages/sklearn/linear_model/_logistic.py:1165: UserWarning: l1_ratio parameter is only used when penalty is 'elasticnet'. Got (penalty=l2)\n",
      "  warnings.warn(\n",
      "/home/irinb/.local/lib/python3.9/site-packages/sklearn/linear_model/_sag.py:350: ConvergenceWarning: The max_iter was reached which means the coef_ did not converge\n",
      "  warnings.warn(\n",
      "/home/irinb/.local/lib/python3.9/site-packages/sklearn/linear_model/_logistic.py:1165: UserWarning: l1_ratio parameter is only used when penalty is 'elasticnet'. Got (penalty=l2)\n",
      "  warnings.warn(\n",
      "/home/irinb/.local/lib/python3.9/site-packages/sklearn/linear_model/_sag.py:350: ConvergenceWarning: The max_iter was reached which means the coef_ did not converge\n",
      "  warnings.warn(\n",
      "/home/irinb/.local/lib/python3.9/site-packages/sklearn/linear_model/_logistic.py:1165: UserWarning: l1_ratio parameter is only used when penalty is 'elasticnet'. Got (penalty=l2)\n",
      "  warnings.warn(\n",
      "/home/irinb/.local/lib/python3.9/site-packages/sklearn/linear_model/_sag.py:350: ConvergenceWarning: The max_iter was reached which means the coef_ did not converge\n",
      "  warnings.warn(\n"
     ]
    },
    {
     "name": "stderr",
     "output_type": "stream",
     "text": [
      "/home/irinb/.local/lib/python3.9/site-packages/sklearn/linear_model/_logistic.py:1165: UserWarning: l1_ratio parameter is only used when penalty is 'elasticnet'. Got (penalty=l2)\n",
      "  warnings.warn(\n",
      "/home/irinb/.local/lib/python3.9/site-packages/sklearn/linear_model/_sag.py:350: ConvergenceWarning: The max_iter was reached which means the coef_ did not converge\n",
      "  warnings.warn(\n",
      "/home/irinb/.local/lib/python3.9/site-packages/sklearn/linear_model/_logistic.py:1165: UserWarning: l1_ratio parameter is only used when penalty is 'elasticnet'. Got (penalty=l2)\n",
      "  warnings.warn(\n",
      "/home/irinb/.local/lib/python3.9/site-packages/sklearn/linear_model/_sag.py:350: ConvergenceWarning: The max_iter was reached which means the coef_ did not converge\n",
      "  warnings.warn(\n",
      "/home/irinb/.local/lib/python3.9/site-packages/sklearn/linear_model/_logistic.py:1165: UserWarning: l1_ratio parameter is only used when penalty is 'elasticnet'. Got (penalty=l2)\n",
      "  warnings.warn(\n",
      "/home/irinb/.local/lib/python3.9/site-packages/sklearn/linear_model/_sag.py:350: ConvergenceWarning: The max_iter was reached which means the coef_ did not converge\n",
      "  warnings.warn(\n",
      "/home/irinb/.local/lib/python3.9/site-packages/sklearn/linear_model/_logistic.py:1165: UserWarning: l1_ratio parameter is only used when penalty is 'elasticnet'. Got (penalty=l2)\n",
      "  warnings.warn(\n",
      "/home/irinb/.local/lib/python3.9/site-packages/sklearn/linear_model/_sag.py:350: ConvergenceWarning: The max_iter was reached which means the coef_ did not converge\n",
      "  warnings.warn(\n",
      "/home/irinb/.local/lib/python3.9/site-packages/sklearn/linear_model/_logistic.py:1165: UserWarning: l1_ratio parameter is only used when penalty is 'elasticnet'. Got (penalty=l2)\n",
      "  warnings.warn(\n",
      "/home/irinb/.local/lib/python3.9/site-packages/sklearn/linear_model/_sag.py:350: ConvergenceWarning: The max_iter was reached which means the coef_ did not converge\n",
      "  warnings.warn(\n",
      "/home/irinb/.local/lib/python3.9/site-packages/sklearn/linear_model/_logistic.py:1165: UserWarning: l1_ratio parameter is only used when penalty is 'elasticnet'. Got (penalty=l2)\n",
      "  warnings.warn(\n",
      "/home/irinb/.local/lib/python3.9/site-packages/sklearn/linear_model/_sag.py:350: ConvergenceWarning: The max_iter was reached which means the coef_ did not converge\n",
      "  warnings.warn(\n",
      "/home/irinb/.local/lib/python3.9/site-packages/sklearn/linear_model/_logistic.py:1165: UserWarning: l1_ratio parameter is only used when penalty is 'elasticnet'. Got (penalty=l2)\n",
      "  warnings.warn(\n",
      "/home/irinb/.local/lib/python3.9/site-packages/sklearn/linear_model/_sag.py:350: ConvergenceWarning: The max_iter was reached which means the coef_ did not converge\n",
      "  warnings.warn(\n",
      "/home/irinb/.local/lib/python3.9/site-packages/sklearn/linear_model/_logistic.py:1165: UserWarning: l1_ratio parameter is only used when penalty is 'elasticnet'. Got (penalty=l2)\n",
      "  warnings.warn(\n",
      "/home/irinb/.local/lib/python3.9/site-packages/sklearn/linear_model/_sag.py:350: ConvergenceWarning: The max_iter was reached which means the coef_ did not converge\n",
      "  warnings.warn(\n",
      "/home/irinb/.local/lib/python3.9/site-packages/sklearn/linear_model/_logistic.py:1165: UserWarning: l1_ratio parameter is only used when penalty is 'elasticnet'. Got (penalty=l2)\n",
      "  warnings.warn(\n",
      "/home/irinb/.local/lib/python3.9/site-packages/sklearn/linear_model/_sag.py:350: ConvergenceWarning: The max_iter was reached which means the coef_ did not converge\n",
      "  warnings.warn(\n",
      "/home/irinb/.local/lib/python3.9/site-packages/sklearn/linear_model/_logistic.py:1165: UserWarning: l1_ratio parameter is only used when penalty is 'elasticnet'. Got (penalty=l2)\n",
      "  warnings.warn(\n",
      "/home/irinb/.local/lib/python3.9/site-packages/sklearn/linear_model/_sag.py:350: ConvergenceWarning: The max_iter was reached which means the coef_ did not converge\n",
      "  warnings.warn(\n",
      "/home/irinb/.local/lib/python3.9/site-packages/sklearn/linear_model/_logistic.py:1165: UserWarning: l1_ratio parameter is only used when penalty is 'elasticnet'. Got (penalty=l2)\n",
      "  warnings.warn(\n",
      "/home/irinb/.local/lib/python3.9/site-packages/sklearn/linear_model/_sag.py:350: ConvergenceWarning: The max_iter was reached which means the coef_ did not converge\n",
      "  warnings.warn(\n",
      "/home/irinb/.local/lib/python3.9/site-packages/sklearn/linear_model/_logistic.py:1165: UserWarning: l1_ratio parameter is only used when penalty is 'elasticnet'. Got (penalty=l2)\n",
      "  warnings.warn(\n",
      "/home/irinb/.local/lib/python3.9/site-packages/sklearn/linear_model/_sag.py:350: ConvergenceWarning: The max_iter was reached which means the coef_ did not converge\n",
      "  warnings.warn(\n",
      "/home/irinb/.local/lib/python3.9/site-packages/sklearn/linear_model/_logistic.py:1165: UserWarning: l1_ratio parameter is only used when penalty is 'elasticnet'. Got (penalty=l2)\n",
      "  warnings.warn(\n",
      "/home/irinb/.local/lib/python3.9/site-packages/sklearn/linear_model/_sag.py:350: ConvergenceWarning: The max_iter was reached which means the coef_ did not converge\n",
      "  warnings.warn(\n",
      "/home/irinb/.local/lib/python3.9/site-packages/sklearn/linear_model/_logistic.py:1165: UserWarning: l1_ratio parameter is only used when penalty is 'elasticnet'. Got (penalty=l2)\n",
      "  warnings.warn(\n",
      "/home/irinb/.local/lib/python3.9/site-packages/sklearn/linear_model/_sag.py:350: ConvergenceWarning: The max_iter was reached which means the coef_ did not converge\n",
      "  warnings.warn(\n",
      "/home/irinb/.local/lib/python3.9/site-packages/sklearn/linear_model/_logistic.py:1165: UserWarning: l1_ratio parameter is only used when penalty is 'elasticnet'. Got (penalty=l2)\n",
      "  warnings.warn(\n",
      "/home/irinb/.local/lib/python3.9/site-packages/sklearn/linear_model/_sag.py:350: ConvergenceWarning: The max_iter was reached which means the coef_ did not converge\n",
      "  warnings.warn(\n",
      "/home/irinb/.local/lib/python3.9/site-packages/sklearn/linear_model/_logistic.py:1165: UserWarning: l1_ratio parameter is only used when penalty is 'elasticnet'. Got (penalty=l2)\n",
      "  warnings.warn(\n",
      "/home/irinb/.local/lib/python3.9/site-packages/sklearn/linear_model/_sag.py:350: ConvergenceWarning: The max_iter was reached which means the coef_ did not converge\n",
      "  warnings.warn(\n",
      "/home/irinb/.local/lib/python3.9/site-packages/sklearn/linear_model/_logistic.py:1165: UserWarning: l1_ratio parameter is only used when penalty is 'elasticnet'. Got (penalty=l2)\n",
      "  warnings.warn(\n",
      "/home/irinb/.local/lib/python3.9/site-packages/sklearn/linear_model/_sag.py:350: ConvergenceWarning: The max_iter was reached which means the coef_ did not converge\n",
      "  warnings.warn(\n",
      "/home/irinb/.local/lib/python3.9/site-packages/sklearn/linear_model/_logistic.py:1165: UserWarning: l1_ratio parameter is only used when penalty is 'elasticnet'. Got (penalty=l2)\n",
      "  warnings.warn(\n",
      "/home/irinb/.local/lib/python3.9/site-packages/sklearn/linear_model/_sag.py:350: ConvergenceWarning: The max_iter was reached which means the coef_ did not converge\n",
      "  warnings.warn(\n",
      "/home/irinb/.local/lib/python3.9/site-packages/sklearn/linear_model/_logistic.py:1165: UserWarning: l1_ratio parameter is only used when penalty is 'elasticnet'. Got (penalty=l2)\n",
      "  warnings.warn(\n",
      "/home/irinb/.local/lib/python3.9/site-packages/sklearn/linear_model/_sag.py:350: ConvergenceWarning: The max_iter was reached which means the coef_ did not converge\n",
      "  warnings.warn(\n",
      "/home/irinb/.local/lib/python3.9/site-packages/sklearn/linear_model/_logistic.py:1165: UserWarning: l1_ratio parameter is only used when penalty is 'elasticnet'. Got (penalty=l2)\n",
      "  warnings.warn(\n",
      "/home/irinb/.local/lib/python3.9/site-packages/sklearn/linear_model/_sag.py:350: ConvergenceWarning: The max_iter was reached which means the coef_ did not converge\n",
      "  warnings.warn(\n",
      "/home/irinb/.local/lib/python3.9/site-packages/sklearn/linear_model/_logistic.py:1165: UserWarning: l1_ratio parameter is only used when penalty is 'elasticnet'. Got (penalty=l2)\n",
      "  warnings.warn(\n",
      "/home/irinb/.local/lib/python3.9/site-packages/sklearn/linear_model/_sag.py:350: ConvergenceWarning: The max_iter was reached which means the coef_ did not converge\n",
      "  warnings.warn(\n",
      "/home/irinb/.local/lib/python3.9/site-packages/sklearn/linear_model/_logistic.py:1165: UserWarning: l1_ratio parameter is only used when penalty is 'elasticnet'. Got (penalty=l2)\n",
      "  warnings.warn(\n",
      "/home/irinb/.local/lib/python3.9/site-packages/sklearn/linear_model/_sag.py:350: ConvergenceWarning: The max_iter was reached which means the coef_ did not converge\n",
      "  warnings.warn(\n"
     ]
    },
    {
     "name": "stderr",
     "output_type": "stream",
     "text": [
      "/home/irinb/.local/lib/python3.9/site-packages/sklearn/linear_model/_logistic.py:1165: UserWarning: l1_ratio parameter is only used when penalty is 'elasticnet'. Got (penalty=l2)\n",
      "  warnings.warn(\n",
      "/home/irinb/.local/lib/python3.9/site-packages/sklearn/linear_model/_sag.py:350: ConvergenceWarning: The max_iter was reached which means the coef_ did not converge\n",
      "  warnings.warn(\n",
      "/home/irinb/.local/lib/python3.9/site-packages/sklearn/linear_model/_logistic.py:1165: UserWarning: l1_ratio parameter is only used when penalty is 'elasticnet'. Got (penalty=l2)\n",
      "  warnings.warn(\n",
      "/home/irinb/.local/lib/python3.9/site-packages/sklearn/linear_model/_sag.py:350: ConvergenceWarning: The max_iter was reached which means the coef_ did not converge\n",
      "  warnings.warn(\n",
      "/home/irinb/.local/lib/python3.9/site-packages/sklearn/linear_model/_logistic.py:1165: UserWarning: l1_ratio parameter is only used when penalty is 'elasticnet'. Got (penalty=l2)\n",
      "  warnings.warn(\n",
      "/home/irinb/.local/lib/python3.9/site-packages/sklearn/linear_model/_sag.py:350: ConvergenceWarning: The max_iter was reached which means the coef_ did not converge\n",
      "  warnings.warn(\n",
      "/home/irinb/.local/lib/python3.9/site-packages/sklearn/linear_model/_logistic.py:1165: UserWarning: l1_ratio parameter is only used when penalty is 'elasticnet'. Got (penalty=l2)\n",
      "  warnings.warn(\n",
      "/home/irinb/.local/lib/python3.9/site-packages/sklearn/linear_model/_sag.py:350: ConvergenceWarning: The max_iter was reached which means the coef_ did not converge\n",
      "  warnings.warn(\n",
      "/home/irinb/.local/lib/python3.9/site-packages/sklearn/linear_model/_logistic.py:1165: UserWarning: l1_ratio parameter is only used when penalty is 'elasticnet'. Got (penalty=l2)\n",
      "  warnings.warn(\n",
      "/home/irinb/.local/lib/python3.9/site-packages/sklearn/linear_model/_sag.py:350: ConvergenceWarning: The max_iter was reached which means the coef_ did not converge\n",
      "  warnings.warn(\n",
      "/home/irinb/.local/lib/python3.9/site-packages/sklearn/linear_model/_logistic.py:1165: UserWarning: l1_ratio parameter is only used when penalty is 'elasticnet'. Got (penalty=l2)\n",
      "  warnings.warn(\n",
      "/home/irinb/.local/lib/python3.9/site-packages/sklearn/linear_model/_sag.py:350: ConvergenceWarning: The max_iter was reached which means the coef_ did not converge\n",
      "  warnings.warn(\n",
      "/home/irinb/.local/lib/python3.9/site-packages/sklearn/linear_model/_logistic.py:1165: UserWarning: l1_ratio parameter is only used when penalty is 'elasticnet'. Got (penalty=l2)\n",
      "  warnings.warn(\n",
      "/home/irinb/.local/lib/python3.9/site-packages/sklearn/linear_model/_sag.py:350: ConvergenceWarning: The max_iter was reached which means the coef_ did not converge\n",
      "  warnings.warn(\n",
      "/home/irinb/.local/lib/python3.9/site-packages/sklearn/linear_model/_logistic.py:1165: UserWarning: l1_ratio parameter is only used when penalty is 'elasticnet'. Got (penalty=l2)\n",
      "  warnings.warn(\n",
      "/home/irinb/.local/lib/python3.9/site-packages/sklearn/linear_model/_sag.py:350: ConvergenceWarning: The max_iter was reached which means the coef_ did not converge\n",
      "  warnings.warn(\n",
      "/home/irinb/.local/lib/python3.9/site-packages/sklearn/linear_model/_logistic.py:1165: UserWarning: l1_ratio parameter is only used when penalty is 'elasticnet'. Got (penalty=l2)\n",
      "  warnings.warn(\n",
      "/home/irinb/.local/lib/python3.9/site-packages/sklearn/linear_model/_sag.py:350: ConvergenceWarning: The max_iter was reached which means the coef_ did not converge\n",
      "  warnings.warn(\n",
      "/home/irinb/.local/lib/python3.9/site-packages/sklearn/linear_model/_logistic.py:1165: UserWarning: l1_ratio parameter is only used when penalty is 'elasticnet'. Got (penalty=l2)\n",
      "  warnings.warn(\n",
      "/home/irinb/.local/lib/python3.9/site-packages/sklearn/linear_model/_sag.py:350: ConvergenceWarning: The max_iter was reached which means the coef_ did not converge\n",
      "  warnings.warn(\n",
      "/home/irinb/.local/lib/python3.9/site-packages/sklearn/linear_model/_logistic.py:1165: UserWarning: l1_ratio parameter is only used when penalty is 'elasticnet'. Got (penalty=l2)\n",
      "  warnings.warn(\n",
      "/home/irinb/.local/lib/python3.9/site-packages/sklearn/linear_model/_sag.py:350: ConvergenceWarning: The max_iter was reached which means the coef_ did not converge\n",
      "  warnings.warn(\n",
      "/home/irinb/.local/lib/python3.9/site-packages/sklearn/linear_model/_logistic.py:1165: UserWarning: l1_ratio parameter is only used when penalty is 'elasticnet'. Got (penalty=l2)\n",
      "  warnings.warn(\n",
      "/home/irinb/.local/lib/python3.9/site-packages/sklearn/linear_model/_sag.py:350: ConvergenceWarning: The max_iter was reached which means the coef_ did not converge\n",
      "  warnings.warn(\n",
      "/home/irinb/.local/lib/python3.9/site-packages/sklearn/linear_model/_logistic.py:1165: UserWarning: l1_ratio parameter is only used when penalty is 'elasticnet'. Got (penalty=l2)\n",
      "  warnings.warn(\n",
      "/home/irinb/.local/lib/python3.9/site-packages/sklearn/linear_model/_sag.py:350: ConvergenceWarning: The max_iter was reached which means the coef_ did not converge\n",
      "  warnings.warn(\n",
      "/home/irinb/.local/lib/python3.9/site-packages/sklearn/linear_model/_logistic.py:1165: UserWarning: l1_ratio parameter is only used when penalty is 'elasticnet'. Got (penalty=l2)\n",
      "  warnings.warn(\n",
      "/home/irinb/.local/lib/python3.9/site-packages/sklearn/linear_model/_sag.py:350: ConvergenceWarning: The max_iter was reached which means the coef_ did not converge\n",
      "  warnings.warn(\n",
      "/home/irinb/.local/lib/python3.9/site-packages/sklearn/linear_model/_logistic.py:1165: UserWarning: l1_ratio parameter is only used when penalty is 'elasticnet'. Got (penalty=l2)\n",
      "  warnings.warn(\n",
      "/home/irinb/.local/lib/python3.9/site-packages/sklearn/linear_model/_sag.py:350: ConvergenceWarning: The max_iter was reached which means the coef_ did not converge\n",
      "  warnings.warn(\n",
      "/home/irinb/.local/lib/python3.9/site-packages/sklearn/linear_model/_logistic.py:1165: UserWarning: l1_ratio parameter is only used when penalty is 'elasticnet'. Got (penalty=l2)\n",
      "  warnings.warn(\n",
      "/home/irinb/.local/lib/python3.9/site-packages/sklearn/linear_model/_sag.py:350: ConvergenceWarning: The max_iter was reached which means the coef_ did not converge\n",
      "  warnings.warn(\n",
      "/home/irinb/.local/lib/python3.9/site-packages/sklearn/linear_model/_logistic.py:1165: UserWarning: l1_ratio parameter is only used when penalty is 'elasticnet'. Got (penalty=l2)\n",
      "  warnings.warn(\n",
      "/home/irinb/.local/lib/python3.9/site-packages/sklearn/linear_model/_sag.py:350: ConvergenceWarning: The max_iter was reached which means the coef_ did not converge\n",
      "  warnings.warn(\n",
      "/home/irinb/.local/lib/python3.9/site-packages/sklearn/linear_model/_logistic.py:1165: UserWarning: l1_ratio parameter is only used when penalty is 'elasticnet'. Got (penalty=l2)\n",
      "  warnings.warn(\n",
      "/home/irinb/.local/lib/python3.9/site-packages/sklearn/linear_model/_sag.py:350: ConvergenceWarning: The max_iter was reached which means the coef_ did not converge\n",
      "  warnings.warn(\n",
      "/home/irinb/.local/lib/python3.9/site-packages/sklearn/linear_model/_logistic.py:1165: UserWarning: l1_ratio parameter is only used when penalty is 'elasticnet'. Got (penalty=l2)\n",
      "  warnings.warn(\n",
      "/home/irinb/.local/lib/python3.9/site-packages/sklearn/linear_model/_sag.py:350: ConvergenceWarning: The max_iter was reached which means the coef_ did not converge\n",
      "  warnings.warn(\n",
      "/home/irinb/.local/lib/python3.9/site-packages/sklearn/linear_model/_logistic.py:1165: UserWarning: l1_ratio parameter is only used when penalty is 'elasticnet'. Got (penalty=l2)\n",
      "  warnings.warn(\n",
      "/home/irinb/.local/lib/python3.9/site-packages/sklearn/linear_model/_sag.py:350: ConvergenceWarning: The max_iter was reached which means the coef_ did not converge\n",
      "  warnings.warn(\n",
      "/home/irinb/.local/lib/python3.9/site-packages/sklearn/linear_model/_logistic.py:1165: UserWarning: l1_ratio parameter is only used when penalty is 'elasticnet'. Got (penalty=l2)\n",
      "  warnings.warn(\n",
      "/home/irinb/.local/lib/python3.9/site-packages/sklearn/linear_model/_sag.py:350: ConvergenceWarning: The max_iter was reached which means the coef_ did not converge\n",
      "  warnings.warn(\n",
      "/home/irinb/.local/lib/python3.9/site-packages/sklearn/linear_model/_logistic.py:1165: UserWarning: l1_ratio parameter is only used when penalty is 'elasticnet'. Got (penalty=l2)\n",
      "  warnings.warn(\n",
      "/home/irinb/.local/lib/python3.9/site-packages/sklearn/linear_model/_sag.py:350: ConvergenceWarning: The max_iter was reached which means the coef_ did not converge\n",
      "  warnings.warn(\n"
     ]
    },
    {
     "name": "stderr",
     "output_type": "stream",
     "text": [
      "/home/irinb/.local/lib/python3.9/site-packages/sklearn/linear_model/_logistic.py:1165: UserWarning: l1_ratio parameter is only used when penalty is 'elasticnet'. Got (penalty=l2)\n",
      "  warnings.warn(\n",
      "/home/irinb/.local/lib/python3.9/site-packages/sklearn/linear_model/_sag.py:350: ConvergenceWarning: The max_iter was reached which means the coef_ did not converge\n",
      "  warnings.warn(\n",
      "/home/irinb/.local/lib/python3.9/site-packages/sklearn/linear_model/_logistic.py:1165: UserWarning: l1_ratio parameter is only used when penalty is 'elasticnet'. Got (penalty=l2)\n",
      "  warnings.warn(\n",
      "/home/irinb/.local/lib/python3.9/site-packages/sklearn/linear_model/_sag.py:350: ConvergenceWarning: The max_iter was reached which means the coef_ did not converge\n",
      "  warnings.warn(\n",
      "/home/irinb/.local/lib/python3.9/site-packages/sklearn/linear_model/_logistic.py:1165: UserWarning: l1_ratio parameter is only used when penalty is 'elasticnet'. Got (penalty=l2)\n",
      "  warnings.warn(\n",
      "/home/irinb/.local/lib/python3.9/site-packages/sklearn/linear_model/_sag.py:350: ConvergenceWarning: The max_iter was reached which means the coef_ did not converge\n",
      "  warnings.warn(\n",
      "/home/irinb/.local/lib/python3.9/site-packages/sklearn/linear_model/_logistic.py:1165: UserWarning: l1_ratio parameter is only used when penalty is 'elasticnet'. Got (penalty=l2)\n",
      "  warnings.warn(\n",
      "/home/irinb/.local/lib/python3.9/site-packages/sklearn/linear_model/_sag.py:350: ConvergenceWarning: The max_iter was reached which means the coef_ did not converge\n",
      "  warnings.warn(\n",
      "/home/irinb/.local/lib/python3.9/site-packages/sklearn/linear_model/_logistic.py:1165: UserWarning: l1_ratio parameter is only used when penalty is 'elasticnet'. Got (penalty=l2)\n",
      "  warnings.warn(\n",
      "/home/irinb/.local/lib/python3.9/site-packages/sklearn/linear_model/_sag.py:350: ConvergenceWarning: The max_iter was reached which means the coef_ did not converge\n",
      "  warnings.warn(\n",
      "/home/irinb/.local/lib/python3.9/site-packages/sklearn/linear_model/_logistic.py:1165: UserWarning: l1_ratio parameter is only used when penalty is 'elasticnet'. Got (penalty=l2)\n",
      "  warnings.warn(\n",
      "/home/irinb/.local/lib/python3.9/site-packages/sklearn/linear_model/_sag.py:350: ConvergenceWarning: The max_iter was reached which means the coef_ did not converge\n",
      "  warnings.warn(\n",
      "/home/irinb/.local/lib/python3.9/site-packages/sklearn/linear_model/_logistic.py:1165: UserWarning: l1_ratio parameter is only used when penalty is 'elasticnet'. Got (penalty=l2)\n",
      "  warnings.warn(\n",
      "/home/irinb/.local/lib/python3.9/site-packages/sklearn/linear_model/_sag.py:350: ConvergenceWarning: The max_iter was reached which means the coef_ did not converge\n",
      "  warnings.warn(\n",
      "/home/irinb/.local/lib/python3.9/site-packages/sklearn/linear_model/_logistic.py:1165: UserWarning: l1_ratio parameter is only used when penalty is 'elasticnet'. Got (penalty=l2)\n",
      "  warnings.warn(\n",
      "/home/irinb/.local/lib/python3.9/site-packages/sklearn/linear_model/_sag.py:350: ConvergenceWarning: The max_iter was reached which means the coef_ did not converge\n",
      "  warnings.warn(\n",
      "/home/irinb/.local/lib/python3.9/site-packages/sklearn/linear_model/_logistic.py:1165: UserWarning: l1_ratio parameter is only used when penalty is 'elasticnet'. Got (penalty=l2)\n",
      "  warnings.warn(\n",
      "/home/irinb/.local/lib/python3.9/site-packages/sklearn/linear_model/_sag.py:350: ConvergenceWarning: The max_iter was reached which means the coef_ did not converge\n",
      "  warnings.warn(\n",
      "/home/irinb/.local/lib/python3.9/site-packages/sklearn/linear_model/_logistic.py:1165: UserWarning: l1_ratio parameter is only used when penalty is 'elasticnet'. Got (penalty=l2)\n",
      "  warnings.warn(\n",
      "/home/irinb/.local/lib/python3.9/site-packages/sklearn/linear_model/_sag.py:350: ConvergenceWarning: The max_iter was reached which means the coef_ did not converge\n",
      "  warnings.warn(\n",
      "/home/irinb/.local/lib/python3.9/site-packages/sklearn/linear_model/_logistic.py:1165: UserWarning: l1_ratio parameter is only used when penalty is 'elasticnet'. Got (penalty=l2)\n",
      "  warnings.warn(\n",
      "/home/irinb/.local/lib/python3.9/site-packages/sklearn/linear_model/_sag.py:350: ConvergenceWarning: The max_iter was reached which means the coef_ did not converge\n",
      "  warnings.warn(\n",
      "/home/irinb/.local/lib/python3.9/site-packages/sklearn/linear_model/_logistic.py:1165: UserWarning: l1_ratio parameter is only used when penalty is 'elasticnet'. Got (penalty=l2)\n",
      "  warnings.warn(\n",
      "/home/irinb/.local/lib/python3.9/site-packages/sklearn/linear_model/_sag.py:350: ConvergenceWarning: The max_iter was reached which means the coef_ did not converge\n",
      "  warnings.warn(\n",
      "/home/irinb/.local/lib/python3.9/site-packages/sklearn/linear_model/_logistic.py:1165: UserWarning: l1_ratio parameter is only used when penalty is 'elasticnet'. Got (penalty=l2)\n",
      "  warnings.warn(\n",
      "/home/irinb/.local/lib/python3.9/site-packages/sklearn/linear_model/_sag.py:350: ConvergenceWarning: The max_iter was reached which means the coef_ did not converge\n",
      "  warnings.warn(\n",
      "/home/irinb/.local/lib/python3.9/site-packages/sklearn/linear_model/_logistic.py:1165: UserWarning: l1_ratio parameter is only used when penalty is 'elasticnet'. Got (penalty=l2)\n",
      "  warnings.warn(\n",
      "/home/irinb/.local/lib/python3.9/site-packages/sklearn/linear_model/_sag.py:350: ConvergenceWarning: The max_iter was reached which means the coef_ did not converge\n",
      "  warnings.warn(\n",
      "/home/irinb/.local/lib/python3.9/site-packages/sklearn/linear_model/_logistic.py:1165: UserWarning: l1_ratio parameter is only used when penalty is 'elasticnet'. Got (penalty=l2)\n",
      "  warnings.warn(\n",
      "/home/irinb/.local/lib/python3.9/site-packages/sklearn/linear_model/_sag.py:350: ConvergenceWarning: The max_iter was reached which means the coef_ did not converge\n",
      "  warnings.warn(\n",
      "/home/irinb/.local/lib/python3.9/site-packages/sklearn/linear_model/_logistic.py:1165: UserWarning: l1_ratio parameter is only used when penalty is 'elasticnet'. Got (penalty=l2)\n",
      "  warnings.warn(\n",
      "/home/irinb/.local/lib/python3.9/site-packages/sklearn/linear_model/_sag.py:350: ConvergenceWarning: The max_iter was reached which means the coef_ did not converge\n",
      "  warnings.warn(\n",
      "/home/irinb/.local/lib/python3.9/site-packages/sklearn/linear_model/_logistic.py:1165: UserWarning: l1_ratio parameter is only used when penalty is 'elasticnet'. Got (penalty=l2)\n",
      "  warnings.warn(\n",
      "/home/irinb/.local/lib/python3.9/site-packages/sklearn/linear_model/_sag.py:350: ConvergenceWarning: The max_iter was reached which means the coef_ did not converge\n",
      "  warnings.warn(\n",
      "/home/irinb/.local/lib/python3.9/site-packages/sklearn/linear_model/_logistic.py:1165: UserWarning: l1_ratio parameter is only used when penalty is 'elasticnet'. Got (penalty=l2)\n",
      "  warnings.warn(\n",
      "/home/irinb/.local/lib/python3.9/site-packages/sklearn/linear_model/_sag.py:350: ConvergenceWarning: The max_iter was reached which means the coef_ did not converge\n",
      "  warnings.warn(\n",
      "/home/irinb/.local/lib/python3.9/site-packages/sklearn/linear_model/_logistic.py:1165: UserWarning: l1_ratio parameter is only used when penalty is 'elasticnet'. Got (penalty=l2)\n",
      "  warnings.warn(\n",
      "/home/irinb/.local/lib/python3.9/site-packages/sklearn/linear_model/_sag.py:350: ConvergenceWarning: The max_iter was reached which means the coef_ did not converge\n",
      "  warnings.warn(\n",
      "/home/irinb/.local/lib/python3.9/site-packages/sklearn/linear_model/_logistic.py:1165: UserWarning: l1_ratio parameter is only used when penalty is 'elasticnet'. Got (penalty=l2)\n",
      "  warnings.warn(\n",
      "/home/irinb/.local/lib/python3.9/site-packages/sklearn/linear_model/_sag.py:350: ConvergenceWarning: The max_iter was reached which means the coef_ did not converge\n",
      "  warnings.warn(\n",
      "/home/irinb/.local/lib/python3.9/site-packages/sklearn/linear_model/_logistic.py:1165: UserWarning: l1_ratio parameter is only used when penalty is 'elasticnet'. Got (penalty=l2)\n",
      "  warnings.warn(\n",
      "/home/irinb/.local/lib/python3.9/site-packages/sklearn/linear_model/_sag.py:350: ConvergenceWarning: The max_iter was reached which means the coef_ did not converge\n",
      "  warnings.warn(\n"
     ]
    },
    {
     "name": "stdout",
     "output_type": "stream",
     "text": [
      "[CV] END feature_extraction__alpha_W=0.5, feature_extraction__beta_loss=frobenius, feature_extraction__init=nndsvda, feature_extraction__l1_ratio=0.2, feature_extraction__n_components=19; total time= 6.5min\n",
      "[CV] END feature_extraction__alpha_W=0.5, feature_extraction__beta_loss=kullback-leibler, feature_extraction__init=nndsvd, feature_extraction__l1_ratio=0.30000000000000004, feature_extraction__n_components=45; total time=21.3min\n",
      "[CV] END feature_extraction__alpha_W=0.0, feature_extraction__beta_loss=frobenius, feature_extraction__init=nndsvd, feature_extraction__l1_ratio=0.5, feature_extraction__n_components=36; total time= 3.9min\n",
      "[CV] END feature_extraction__alpha_W=0.4, feature_extraction__beta_loss=frobenius, feature_extraction__init=random, feature_extraction__l1_ratio=0.4, feature_extraction__n_components=10; total time= 7.0min\n",
      "[CV] END feature_extraction__alpha_W=0.1, feature_extraction__beta_loss=kullback-leibler, feature_extraction__init=random, feature_extraction__l1_ratio=0.0, feature_extraction__n_components=18; total time=23.1min\n",
      "[CV] END feature_extraction__alpha_W=0.9, feature_extraction__beta_loss=frobenius, feature_extraction__init=nndsvd, feature_extraction__l1_ratio=0.0, feature_extraction__n_components=19; total time=   9.7s\n",
      "[CV] END feature_extraction__alpha_W=0.9, feature_extraction__beta_loss=frobenius, feature_extraction__init=nndsvd, feature_extraction__l1_ratio=0.0, feature_extraction__n_components=19; total time=  11.8s\n",
      "[CV] END feature_extraction__alpha_W=0.9, feature_extraction__beta_loss=frobenius, feature_extraction__init=nndsvd, feature_extraction__l1_ratio=0.0, feature_extraction__n_components=19; total time=  17.4s\n",
      "[CV] END feature_extraction__alpha_W=0.9, feature_extraction__beta_loss=frobenius, feature_extraction__init=nndsvd, feature_extraction__l1_ratio=0.0, feature_extraction__n_components=19; total time=  37.8s\n",
      "[CV] END feature_extraction__alpha_W=0.4, feature_extraction__beta_loss=frobenius, feature_extraction__init=random, feature_extraction__l1_ratio=0.4, feature_extraction__n_components=10; total time= 7.6min\n",
      "[CV] END feature_extraction__alpha_W=0.1, feature_extraction__beta_loss=kullback-leibler, feature_extraction__init=random, feature_extraction__l1_ratio=0.0, feature_extraction__n_components=18; total time=24.1min\n",
      "[CV] END feature_extraction__alpha_W=0.4, feature_extraction__beta_loss=frobenius, feature_extraction__init=random, feature_extraction__l1_ratio=0.4, feature_extraction__n_components=10; total time= 7.1min\n",
      "[CV] END feature_extraction__alpha_W=0.1, feature_extraction__beta_loss=kullback-leibler, feature_extraction__init=random, feature_extraction__l1_ratio=0.0, feature_extraction__n_components=18; total time=24.4min\n",
      "[CV] END feature_extraction__alpha_W=0.9, feature_extraction__beta_loss=frobenius, feature_extraction__init=nndsvd, feature_extraction__l1_ratio=0.0, feature_extraction__n_components=19; total time=  21.6s\n"
     ]
    },
    {
     "name": "stderr",
     "output_type": "stream",
     "text": [
      "/home/irinb/.local/lib/python3.9/site-packages/sklearn/linear_model/_logistic.py:1165: UserWarning: l1_ratio parameter is only used when penalty is 'elasticnet'. Got (penalty=l2)\n",
      "  warnings.warn(\n",
      "/home/irinb/.local/lib/python3.9/site-packages/sklearn/linear_model/_sag.py:350: ConvergenceWarning: The max_iter was reached which means the coef_ did not converge\n",
      "  warnings.warn(\n"
     ]
    },
    {
     "name": "stdout",
     "output_type": "stream",
     "text": [
      "[CV] END feature_extraction__alpha_W=0.4, feature_extraction__beta_loss=frobenius, feature_extraction__init=random, feature_extraction__l1_ratio=0.4, feature_extraction__n_components=10; total time= 7.4min\n",
      "[CV] END feature_extraction__alpha_W=0.1, feature_extraction__beta_loss=kullback-leibler, feature_extraction__init=random, feature_extraction__l1_ratio=0.0, feature_extraction__n_components=18; total time=22.2min\n",
      "[CV] END feature_extraction__alpha_W=0.0, feature_extraction__beta_loss=frobenius, feature_extraction__init=nndsvd, feature_extraction__l1_ratio=0.5, feature_extraction__n_components=36; total time= 3.5min\n",
      "[CV] END feature_extraction__alpha_W=0.1, feature_extraction__beta_loss=kullback-leibler, feature_extraction__init=nndsvda, feature_extraction__l1_ratio=0.0, feature_extraction__n_components=2; total time= 7.3min\n",
      "[CV] END feature_extraction__alpha_W=0.1, feature_extraction__beta_loss=kullback-leibler, feature_extraction__init=random, feature_extraction__l1_ratio=0.0, feature_extraction__n_components=18; total time=21.7min\n",
      "[CV] END feature_extraction__alpha_W=0.0, feature_extraction__beta_loss=frobenius, feature_extraction__init=nndsvd, feature_extraction__l1_ratio=0.5, feature_extraction__n_components=36; total time= 3.8min\n",
      "[CV] END feature_extraction__alpha_W=0.4, feature_extraction__beta_loss=frobenius, feature_extraction__init=random, feature_extraction__l1_ratio=0.4, feature_extraction__n_components=10; total time= 6.8min\n",
      "[CV] END feature_extraction__alpha_W=0.5, feature_extraction__beta_loss=kullback-leibler, feature_extraction__init=nndsvd, feature_extraction__l1_ratio=0.30000000000000004, feature_extraction__n_components=45; total time=19.0min\n",
      "[CV] END feature_extraction__alpha_W=0.0, feature_extraction__beta_loss=frobenius, feature_extraction__init=nndsvd, feature_extraction__l1_ratio=0.5, feature_extraction__n_components=36; total time= 4.1min\n",
      "[CV] END feature_extraction__alpha_W=0.0, feature_extraction__beta_loss=frobenius, feature_extraction__init=nndsvd, feature_extraction__l1_ratio=0.5, feature_extraction__n_components=36; total time= 3.8min\n",
      "[CV] END feature_extraction__alpha_W=0.8, feature_extraction__beta_loss=frobenius, feature_extraction__init=random, feature_extraction__l1_ratio=0.2, feature_extraction__n_components=38; total time= 9.9min\n",
      "[CV] END feature_extraction__alpha_W=0.4, feature_extraction__beta_loss=kullback-leibler, feature_extraction__init=nndsvda, feature_extraction__l1_ratio=0.4, feature_extraction__n_components=19; total time=24.6min\n",
      "[CV] END feature_extraction__alpha_W=0.8, feature_extraction__beta_loss=frobenius, feature_extraction__init=random, feature_extraction__l1_ratio=0.2, feature_extraction__n_components=38; total time=10.3min\n",
      "[CV] END feature_extraction__alpha_W=0.4, feature_extraction__beta_loss=kullback-leibler, feature_extraction__init=nndsvda, feature_extraction__l1_ratio=0.4, feature_extraction__n_components=19; total time=25.0min\n",
      "[CV] END feature_extraction__alpha_W=0.30000000000000004, feature_extraction__beta_loss=kullback-leibler, feature_extraction__init=nndsvda, feature_extraction__l1_ratio=0.0, feature_extraction__n_components=16; total time= 1.6min\n",
      "[CV] END feature_extraction__alpha_W=0.30000000000000004, feature_extraction__beta_loss=kullback-leibler, feature_extraction__init=nndsvda, feature_extraction__l1_ratio=0.0, feature_extraction__n_components=16; total time=15.8min\n",
      "[CV] END feature_extraction__alpha_W=0.9, feature_extraction__beta_loss=frobenius, feature_extraction__init=nndsvda, feature_extraction__l1_ratio=0.1, feature_extraction__n_components=8; total time= 3.4min\n",
      "[CV] END feature_extraction__alpha_W=0.2, feature_extraction__beta_loss=kullback-leibler, feature_extraction__init=nndsvd, feature_extraction__l1_ratio=0.9, feature_extraction__n_components=43; total time=13.6min\n",
      "[CV] END feature_extraction__alpha_W=0.0, feature_extraction__beta_loss=frobenius, feature_extraction__init=nndsvd, feature_extraction__l1_ratio=0.7000000000000001, feature_extraction__n_components=29; total time= 3.9min\n",
      "[CV] END feature_extraction__alpha_W=0.7000000000000001, feature_extraction__beta_loss=kullback-leibler, feature_extraction__init=random, feature_extraction__l1_ratio=0.1, feature_extraction__n_components=21; total time=13.7min\n",
      "[CV] END feature_extraction__alpha_W=0.9, feature_extraction__beta_loss=frobenius, feature_extraction__init=nndsvda, feature_extraction__l1_ratio=0.1, feature_extraction__n_components=8; total time= 3.5min\n",
      "[CV] END feature_extraction__alpha_W=0.2, feature_extraction__beta_loss=kullback-leibler, feature_extraction__init=nndsvd, feature_extraction__l1_ratio=0.9, feature_extraction__n_components=43; total time=14.4min\n",
      "[CV] END feature_extraction__alpha_W=0.5, feature_extraction__beta_loss=frobenius, feature_extraction__init=nndsvda, feature_extraction__l1_ratio=0.2, feature_extraction__n_components=19; total time= 5.8min\n",
      "[CV] END feature_extraction__alpha_W=0.5, feature_extraction__beta_loss=kullback-leibler, feature_extraction__init=nndsvd, feature_extraction__l1_ratio=0.30000000000000004, feature_extraction__n_components=45; total time=13.4min\n",
      "[CV] END feature_extraction__alpha_W=0.9, feature_extraction__beta_loss=frobenius, feature_extraction__init=nndsvda, feature_extraction__l1_ratio=0.1, feature_extraction__n_components=8; total time= 3.3min\n",
      "[CV] END feature_extraction__alpha_W=0.2, feature_extraction__beta_loss=kullback-leibler, feature_extraction__init=nndsvd, feature_extraction__l1_ratio=0.9, feature_extraction__n_components=43; total time=13.4min\n",
      "[CV] END feature_extraction__alpha_W=0.1, feature_extraction__beta_loss=kullback-leibler, feature_extraction__init=nndsvda, feature_extraction__l1_ratio=0.0, feature_extraction__n_components=2; total time= 8.3min\n",
      "[CV] END feature_extraction__alpha_W=0.7000000000000001, feature_extraction__beta_loss=frobenius, feature_extraction__init=nndsvda, feature_extraction__l1_ratio=0.8, feature_extraction__n_components=12; total time=11.3min\n",
      "[CV] END feature_extraction__alpha_W=0.5, feature_extraction__beta_loss=frobenius, feature_extraction__init=nndsvda, feature_extraction__l1_ratio=0.7000000000000001, feature_extraction__n_components=2; total time= 2.7min\n",
      "[CV] END feature_extraction__alpha_W=0.2, feature_extraction__beta_loss=kullback-leibler, feature_extraction__init=nndsvd, feature_extraction__l1_ratio=0.9, feature_extraction__n_components=43; total time=14.0min\n"
     ]
    },
    {
     "name": "stderr",
     "output_type": "stream",
     "text": [
      "/home/irinb/.local/lib/python3.9/site-packages/sklearn/linear_model/_logistic.py:1165: UserWarning: l1_ratio parameter is only used when penalty is 'elasticnet'. Got (penalty=l2)\n",
      "  warnings.warn(\n",
      "/home/irinb/.local/lib/python3.9/site-packages/sklearn/linear_model/_sag.py:350: ConvergenceWarning: The max_iter was reached which means the coef_ did not converge\n",
      "  warnings.warn(\n"
     ]
    },
    {
     "name": "stdout",
     "output_type": "stream",
     "text": [
      "[CV] END feature_extraction__alpha_W=0.1, feature_extraction__beta_loss=kullback-leibler, feature_extraction__init=nndsvda, feature_extraction__l1_ratio=0.0, feature_extraction__n_components=2; total time= 8.3min\n",
      "[CV] END feature_extraction__alpha_W=0.7000000000000001, feature_extraction__beta_loss=frobenius, feature_extraction__init=nndsvda, feature_extraction__l1_ratio=0.8, feature_extraction__n_components=12; total time=10.0min\n",
      "[CV] END feature_extraction__alpha_W=0.9, feature_extraction__beta_loss=frobenius, feature_extraction__init=nndsvda, feature_extraction__l1_ratio=0.1, feature_extraction__n_components=8; total time= 3.6min\n",
      "[CV] END feature_extraction__alpha_W=0.2, feature_extraction__beta_loss=kullback-leibler, feature_extraction__init=nndsvd, feature_extraction__l1_ratio=0.9, feature_extraction__n_components=43; total time=14.9min\n"
     ]
    },
    {
     "name": "stderr",
     "output_type": "stream",
     "text": [
      "/home/irinb/.local/lib/python3.9/site-packages/sklearn/linear_model/_logistic.py:1165: UserWarning: l1_ratio parameter is only used when penalty is 'elasticnet'. Got (penalty=l2)\n",
      "  warnings.warn(\n",
      "/home/irinb/.local/lib/python3.9/site-packages/sklearn/linear_model/_sag.py:350: ConvergenceWarning: The max_iter was reached which means the coef_ did not converge\n",
      "  warnings.warn(\n"
     ]
    },
    {
     "name": "stdout",
     "output_type": "stream",
     "text": [
      "[CV] END feature_extraction__alpha_W=0.5, feature_extraction__beta_loss=frobenius, feature_extraction__init=nndsvda, feature_extraction__l1_ratio=0.2, feature_extraction__n_components=19; total time= 5.7min\n",
      "[CV] END feature_extraction__alpha_W=0.5, feature_extraction__beta_loss=kullback-leibler, feature_extraction__init=nndsvd, feature_extraction__l1_ratio=0.30000000000000004, feature_extraction__n_components=45; total time= 7.1min\n",
      "[CV] END feature_extraction__alpha_W=0.4, feature_extraction__beta_loss=kullback-leibler, feature_extraction__init=nndsvda, feature_extraction__l1_ratio=0.4, feature_extraction__n_components=19; total time=24.8min\n"
     ]
    },
    {
     "name": "stderr",
     "output_type": "stream",
     "text": [
      "/home/irinb/.local/lib/python3.9/site-packages/sklearn/linear_model/_logistic.py:1165: UserWarning: l1_ratio parameter is only used when penalty is 'elasticnet'. Got (penalty=l2)\n",
      "  warnings.warn(\n",
      "/home/irinb/.local/lib/python3.9/site-packages/sklearn/linear_model/_sag.py:350: ConvergenceWarning: The max_iter was reached which means the coef_ did not converge\n",
      "  warnings.warn(\n",
      "/home/irinb/.local/lib/python3.9/site-packages/sklearn/linear_model/_logistic.py:1165: UserWarning: l1_ratio parameter is only used when penalty is 'elasticnet'. Got (penalty=l2)\n",
      "  warnings.warn(\n",
      "/home/irinb/.local/lib/python3.9/site-packages/sklearn/linear_model/_sag.py:350: ConvergenceWarning: The max_iter was reached which means the coef_ did not converge\n",
      "  warnings.warn(\n"
     ]
    },
    {
     "name": "stdout",
     "output_type": "stream",
     "text": [
      "[CV] END feature_extraction__alpha_W=0.8, feature_extraction__beta_loss=frobenius, feature_extraction__init=random, feature_extraction__l1_ratio=0.2, feature_extraction__n_components=38; total time=10.2min\n",
      "[CV] END feature_extraction__alpha_W=0.4, feature_extraction__beta_loss=kullback-leibler, feature_extraction__init=nndsvda, feature_extraction__l1_ratio=0.4, feature_extraction__n_components=19; total time=32.6min\n"
     ]
    },
    {
     "name": "stderr",
     "output_type": "stream",
     "text": [
      "/home/irinb/.local/lib/python3.9/site-packages/sklearn/linear_model/_logistic.py:1165: UserWarning: l1_ratio parameter is only used when penalty is 'elasticnet'. Got (penalty=l2)\n",
      "  warnings.warn(\n",
      "/home/irinb/.local/lib/python3.9/site-packages/sklearn/linear_model/_sag.py:350: ConvergenceWarning: The max_iter was reached which means the coef_ did not converge\n",
      "  warnings.warn(\n"
     ]
    },
    {
     "name": "stdout",
     "output_type": "stream",
     "text": [
      "[CV] END feature_extraction__alpha_W=0.7000000000000001, feature_extraction__beta_loss=frobenius, feature_extraction__init=nndsvda, feature_extraction__l1_ratio=0.0, feature_extraction__n_components=17; total time= 4.3min\n",
      "[CV] END feature_extraction__alpha_W=0.7000000000000001, feature_extraction__beta_loss=kullback-leibler, feature_extraction__init=random, feature_extraction__l1_ratio=0.1, feature_extraction__n_components=21; total time=14.8min\n",
      "[CV] END feature_extraction__alpha_W=0.9, feature_extraction__beta_loss=frobenius, feature_extraction__init=nndsvda, feature_extraction__l1_ratio=0.1, feature_extraction__n_components=8; total time= 3.4min\n",
      "[CV] END feature_extraction__alpha_W=0.0, feature_extraction__beta_loss=kullback-leibler, feature_extraction__init=random, feature_extraction__l1_ratio=0.4, feature_extraction__n_components=21; total time=19.8min\n"
     ]
    },
    {
     "name": "stderr",
     "output_type": "stream",
     "text": [
      "/home/irinb/.local/lib/python3.9/site-packages/sklearn/linear_model/_logistic.py:1165: UserWarning: l1_ratio parameter is only used when penalty is 'elasticnet'. Got (penalty=l2)\n",
      "  warnings.warn(\n",
      "/home/irinb/.local/lib/python3.9/site-packages/sklearn/linear_model/_sag.py:350: ConvergenceWarning: The max_iter was reached which means the coef_ did not converge\n",
      "  warnings.warn(\n"
     ]
    },
    {
     "name": "stdout",
     "output_type": "stream",
     "text": [
      "[CV] END feature_extraction__alpha_W=0.8, feature_extraction__beta_loss=frobenius, feature_extraction__init=random, feature_extraction__l1_ratio=0.2, feature_extraction__n_components=38; total time=10.6min\n",
      "[CV] END feature_extraction__alpha_W=0.4, feature_extraction__beta_loss=kullback-leibler, feature_extraction__init=nndsvda, feature_extraction__l1_ratio=0.4, feature_extraction__n_components=19; total time=34.2min\n",
      "[CV] END feature_extraction__alpha_W=0.0, feature_extraction__beta_loss=frobenius, feature_extraction__init=nndsvd, feature_extraction__l1_ratio=0.7000000000000001, feature_extraction__n_components=29; total time= 3.4min\n",
      "[CV] END feature_extraction__alpha_W=0.30000000000000004, feature_extraction__beta_loss=kullback-leibler, feature_extraction__init=nndsvda, feature_extraction__l1_ratio=0.0, feature_extraction__n_components=16; total time=16.5min\n",
      "[CV] END feature_extraction__alpha_W=0.5, feature_extraction__beta_loss=frobenius, feature_extraction__init=nndsvda, feature_extraction__l1_ratio=0.7000000000000001, feature_extraction__n_components=2; total time= 3.0min\n",
      "[CV] END feature_extraction__alpha_W=0.0, feature_extraction__beta_loss=kullback-leibler, feature_extraction__init=random, feature_extraction__l1_ratio=0.4, feature_extraction__n_components=21; total time=21.4min\n"
     ]
    },
    {
     "name": "stderr",
     "output_type": "stream",
     "text": [
      "/home/irinb/.local/lib/python3.9/site-packages/sklearn/linear_model/_logistic.py:1165: UserWarning: l1_ratio parameter is only used when penalty is 'elasticnet'. Got (penalty=l2)\n",
      "  warnings.warn(\n",
      "/home/irinb/.local/lib/python3.9/site-packages/sklearn/linear_model/_sag.py:350: ConvergenceWarning: The max_iter was reached which means the coef_ did not converge\n",
      "  warnings.warn(\n",
      "/home/irinb/.local/lib/python3.9/site-packages/sklearn/linear_model/_logistic.py:1165: UserWarning: l1_ratio parameter is only used when penalty is 'elasticnet'. Got (penalty=l2)\n",
      "  warnings.warn(\n",
      "/home/irinb/.local/lib/python3.9/site-packages/sklearn/linear_model/_sag.py:350: ConvergenceWarning: The max_iter was reached which means the coef_ did not converge\n",
      "  warnings.warn(\n",
      "/home/irinb/.local/lib/python3.9/site-packages/sklearn/linear_model/_logistic.py:1165: UserWarning: l1_ratio parameter is only used when penalty is 'elasticnet'. Got (penalty=l2)\n",
      "  warnings.warn(\n",
      "/home/irinb/.local/lib/python3.9/site-packages/sklearn/linear_model/_sag.py:350: ConvergenceWarning: The max_iter was reached which means the coef_ did not converge\n",
      "  warnings.warn(\n",
      "/home/irinb/.local/lib/python3.9/site-packages/sklearn/linear_model/_logistic.py:1165: UserWarning: l1_ratio parameter is only used when penalty is 'elasticnet'. Got (penalty=l2)\n",
      "  warnings.warn(\n",
      "/home/irinb/.local/lib/python3.9/site-packages/sklearn/linear_model/_sag.py:350: ConvergenceWarning: The max_iter was reached which means the coef_ did not converge\n",
      "  warnings.warn(\n",
      "/home/irinb/.local/lib/python3.9/site-packages/sklearn/linear_model/_logistic.py:1165: UserWarning: l1_ratio parameter is only used when penalty is 'elasticnet'. Got (penalty=l2)\n",
      "  warnings.warn(\n",
      "/home/irinb/.local/lib/python3.9/site-packages/sklearn/linear_model/_sag.py:350: ConvergenceWarning: The max_iter was reached which means the coef_ did not converge\n",
      "  warnings.warn(\n",
      "/home/irinb/.local/lib/python3.9/site-packages/sklearn/linear_model/_logistic.py:1165: UserWarning: l1_ratio parameter is only used when penalty is 'elasticnet'. Got (penalty=l2)\n",
      "  warnings.warn(\n",
      "/home/irinb/.local/lib/python3.9/site-packages/sklearn/linear_model/_sag.py:350: ConvergenceWarning: The max_iter was reached which means the coef_ did not converge\n",
      "  warnings.warn(\n"
     ]
    },
    {
     "name": "stdout",
     "output_type": "stream",
     "text": [
      "[CV] END feature_extraction__alpha_W=0.1, feature_extraction__beta_loss=kullback-leibler, feature_extraction__init=nndsvda, feature_extraction__l1_ratio=0.0, feature_extraction__n_components=2; total time= 7.7min\n",
      "[CV] END feature_extraction__alpha_W=0.7000000000000001, feature_extraction__beta_loss=frobenius, feature_extraction__init=nndsvda, feature_extraction__l1_ratio=0.8, feature_extraction__n_components=12; total time= 9.4min\n",
      "[CV] END feature_extraction__alpha_W=0.30000000000000004, feature_extraction__beta_loss=kullback-leibler, feature_extraction__init=nndsvda, feature_extraction__l1_ratio=0.1, feature_extraction__n_components=46; total time=32.5min\n",
      "[CV] END feature_extraction__alpha_W=0.5, feature_extraction__beta_loss=frobenius, feature_extraction__init=nndsvda, feature_extraction__l1_ratio=0.2, feature_extraction__n_components=19; total time= 5.8min\n",
      "[CV] END feature_extraction__alpha_W=0.5, feature_extraction__beta_loss=kullback-leibler, feature_extraction__init=nndsvd, feature_extraction__l1_ratio=0.30000000000000004, feature_extraction__n_components=45; total time=14.9min\n",
      "[CV] END feature_extraction__alpha_W=0.5, feature_extraction__beta_loss=frobenius, feature_extraction__init=nndsvda, feature_extraction__l1_ratio=0.7000000000000001, feature_extraction__n_components=2; total time= 2.7min\n",
      "[CV] END feature_extraction__alpha_W=0.0, feature_extraction__beta_loss=kullback-leibler, feature_extraction__init=random, feature_extraction__l1_ratio=0.4, feature_extraction__n_components=21; total time=25.5min\n",
      "[CV] END feature_extraction__alpha_W=0.7000000000000001, feature_extraction__beta_loss=frobenius, feature_extraction__init=nndsvda, feature_extraction__l1_ratio=0.0, feature_extraction__n_components=17; total time= 4.5min\n",
      "[CV] END feature_extraction__alpha_W=0.2, feature_extraction__beta_loss=frobenius, feature_extraction__init=random, feature_extraction__l1_ratio=0.7000000000000001, feature_extraction__n_components=44; total time=11.8min\n",
      "[CV] END feature_extraction__alpha_W=0.30000000000000004, feature_extraction__beta_loss=kullback-leibler, feature_extraction__init=nndsvda, feature_extraction__l1_ratio=0.1, feature_extraction__n_components=46; total time=35.3min\n",
      "[CV] END feature_extraction__alpha_W=0.1, feature_extraction__beta_loss=kullback-leibler, feature_extraction__init=nndsvda, feature_extraction__l1_ratio=0.0, feature_extraction__n_components=2; total time= 7.7min\n",
      "[CV] END feature_extraction__alpha_W=0.7000000000000001, feature_extraction__beta_loss=frobenius, feature_extraction__init=nndsvda, feature_extraction__l1_ratio=0.8, feature_extraction__n_components=12; total time= 9.3min\n",
      "[CV] END feature_extraction__alpha_W=0.30000000000000004, feature_extraction__beta_loss=kullback-leibler, feature_extraction__init=nndsvda, feature_extraction__l1_ratio=0.1, feature_extraction__n_components=46; total time=35.0min\n",
      "[CV] END feature_extraction__alpha_W=0.7000000000000001, feature_extraction__beta_loss=frobenius, feature_extraction__init=nndsvda, feature_extraction__l1_ratio=0.0, feature_extraction__n_components=17; total time= 4.4min\n",
      "[CV] END feature_extraction__alpha_W=0.7000000000000001, feature_extraction__beta_loss=kullback-leibler, feature_extraction__init=random, feature_extraction__l1_ratio=0.1, feature_extraction__n_components=21; total time=15.2min\n",
      "[CV] END feature_extraction__alpha_W=0.5, feature_extraction__beta_loss=frobenius, feature_extraction__init=nndsvda, feature_extraction__l1_ratio=0.7000000000000001, feature_extraction__n_components=2; total time= 3.0min\n",
      "[CV] END feature_extraction__alpha_W=0.0, feature_extraction__beta_loss=kullback-leibler, feature_extraction__init=random, feature_extraction__l1_ratio=0.4, feature_extraction__n_components=21; total time=29.0min\n",
      "[CV] END feature_extraction__alpha_W=0.7000000000000001, feature_extraction__beta_loss=frobenius, feature_extraction__init=nndsvda, feature_extraction__l1_ratio=0.0, feature_extraction__n_components=17; total time= 4.4min\n",
      "[CV] END feature_extraction__alpha_W=0.2, feature_extraction__beta_loss=frobenius, feature_extraction__init=random, feature_extraction__l1_ratio=0.7000000000000001, feature_extraction__n_components=44; total time=13.3min\n",
      "[CV] END feature_extraction__alpha_W=0.30000000000000004, feature_extraction__beta_loss=kullback-leibler, feature_extraction__init=nndsvda, feature_extraction__l1_ratio=0.1, feature_extraction__n_components=46; total time=34.7min\n",
      "[CV] END feature_extraction__alpha_W=0.0, feature_extraction__beta_loss=frobenius, feature_extraction__init=nndsvd, feature_extraction__l1_ratio=0.7000000000000001, feature_extraction__n_components=29; total time= 4.0min\n",
      "[CV] END feature_extraction__alpha_W=0.7000000000000001, feature_extraction__beta_loss=kullback-leibler, feature_extraction__init=random, feature_extraction__l1_ratio=0.1, feature_extraction__n_components=21; total time=11.9min\n",
      "[CV] END feature_extraction__alpha_W=0.30000000000000004, feature_extraction__beta_loss=kullback-leibler, feature_extraction__init=nndsvda, feature_extraction__l1_ratio=0.1, feature_extraction__n_components=46; total time=36.4min\n",
      "[CV] END feature_extraction__alpha_W=0.8, feature_extraction__beta_loss=frobenius, feature_extraction__init=random, feature_extraction__l1_ratio=0.2, feature_extraction__n_components=38; total time= 9.5min\n",
      "[CV] END feature_extraction__alpha_W=0.7000000000000001, feature_extraction__beta_loss=frobenius, feature_extraction__init=nndsvda, feature_extraction__l1_ratio=0.8, feature_extraction__n_components=12; total time=11.5min\n",
      "[CV] END feature_extraction__alpha_W=0.5, feature_extraction__beta_loss=frobenius, feature_extraction__init=nndsvda, feature_extraction__l1_ratio=0.7000000000000001, feature_extraction__n_components=2; total time= 2.9min\n",
      "[CV] END feature_extraction__alpha_W=0.0, feature_extraction__beta_loss=kullback-leibler, feature_extraction__init=random, feature_extraction__l1_ratio=0.4, feature_extraction__n_components=21; total time=28.3min\n"
     ]
    },
    {
     "name": "stderr",
     "output_type": "stream",
     "text": [
      "/home/irinb/.local/lib/python3.9/site-packages/sklearn/linear_model/_logistic.py:1165: UserWarning: l1_ratio parameter is only used when penalty is 'elasticnet'. Got (penalty=l2)\n",
      "  warnings.warn(\n",
      "/home/irinb/.local/lib/python3.9/site-packages/sklearn/linear_model/_sag.py:350: ConvergenceWarning: The max_iter was reached which means the coef_ did not converge\n",
      "  warnings.warn(\n",
      "/home/irinb/.local/lib/python3.9/site-packages/sklearn/linear_model/_logistic.py:1165: UserWarning: l1_ratio parameter is only used when penalty is 'elasticnet'. Got (penalty=l2)\n",
      "  warnings.warn(\n",
      "/home/irinb/.local/lib/python3.9/site-packages/sklearn/linear_model/_sag.py:350: ConvergenceWarning: The max_iter was reached which means the coef_ did not converge\n",
      "  warnings.warn(\n",
      "/home/irinb/.local/lib/python3.9/site-packages/sklearn/linear_model/_logistic.py:1165: UserWarning: l1_ratio parameter is only used when penalty is 'elasticnet'. Got (penalty=l2)\n",
      "  warnings.warn(\n",
      "/home/irinb/.local/lib/python3.9/site-packages/sklearn/linear_model/_sag.py:350: ConvergenceWarning: The max_iter was reached which means the coef_ did not converge\n",
      "  warnings.warn(\n"
     ]
    },
    {
     "name": "stdout",
     "output_type": "stream",
     "text": [
      "[CV] END feature_extraction__alpha_W=0.0, feature_extraction__beta_loss=frobenius, feature_extraction__init=nndsvd, feature_extraction__l1_ratio=0.7000000000000001, feature_extraction__n_components=29; total time= 3.8min\n",
      "[CV] END feature_extraction__alpha_W=0.7000000000000001, feature_extraction__beta_loss=kullback-leibler, feature_extraction__init=random, feature_extraction__l1_ratio=0.1, feature_extraction__n_components=21; total time=12.0min\n",
      "[CV] END feature_extraction__alpha_W=0.9, feature_extraction__beta_loss=kullback-leibler, feature_extraction__init=random, feature_extraction__l1_ratio=0.1, feature_extraction__n_components=43; total time=46.6min\n"
     ]
    },
    {
     "name": "stderr",
     "output_type": "stream",
     "text": [
      "/home/irinb/.local/lib/python3.9/site-packages/sklearn/linear_model/_logistic.py:1165: UserWarning: l1_ratio parameter is only used when penalty is 'elasticnet'. Got (penalty=l2)\n",
      "  warnings.warn(\n",
      "/home/irinb/.local/lib/python3.9/site-packages/sklearn/linear_model/_sag.py:350: ConvergenceWarning: The max_iter was reached which means the coef_ did not converge\n",
      "  warnings.warn(\n"
     ]
    },
    {
     "name": "stdout",
     "output_type": "stream",
     "text": [
      "[CV] END feature_extraction__alpha_W=0.0, feature_extraction__beta_loss=frobenius, feature_extraction__init=nndsvd, feature_extraction__l1_ratio=0.7000000000000001, feature_extraction__n_components=29; total time= 3.8min\n",
      "[CV] END feature_extraction__alpha_W=0.30000000000000004, feature_extraction__beta_loss=kullback-leibler, feature_extraction__init=nndsvda, feature_extraction__l1_ratio=0.0, feature_extraction__n_components=16; total time= 1.2min\n",
      "[CV] END feature_extraction__alpha_W=0.2, feature_extraction__beta_loss=frobenius, feature_extraction__init=random, feature_extraction__l1_ratio=0.7000000000000001, feature_extraction__n_components=44; total time=10.1min\n",
      "[CV] END feature_extraction__alpha_W=0.9, feature_extraction__beta_loss=kullback-leibler, feature_extraction__init=random, feature_extraction__l1_ratio=0.1, feature_extraction__n_components=43; total time=47.9min\n"
     ]
    },
    {
     "name": "stderr",
     "output_type": "stream",
     "text": [
      "/home/irinb/.local/lib/python3.9/site-packages/sklearn/linear_model/_logistic.py:1165: UserWarning: l1_ratio parameter is only used when penalty is 'elasticnet'. Got (penalty=l2)\n",
      "  warnings.warn(\n",
      "/home/irinb/.local/lib/python3.9/site-packages/sklearn/linear_model/_sag.py:350: ConvergenceWarning: The max_iter was reached which means the coef_ did not converge\n",
      "  warnings.warn(\n"
     ]
    },
    {
     "name": "stdout",
     "output_type": "stream",
     "text": [
      "----------\n",
      "iter: 1\n",
      "n_candidates: 5\n",
      "n_resources: 2000\n",
      "Fitting 5 folds for each of 5 candidates, totalling 25 fits\n"
     ]
    },
    {
     "name": "stderr",
     "output_type": "stream",
     "text": [
      "/home/irinb/.local/lib/python3.9/site-packages/sklearn/linear_model/_logistic.py:1165: UserWarning: l1_ratio parameter is only used when penalty is 'elasticnet'. Got (penalty=l2)\n",
      "  warnings.warn(\n",
      "/home/irinb/.local/lib/python3.9/site-packages/sklearn/linear_model/_sag.py:350: ConvergenceWarning: The max_iter was reached which means the coef_ did not converge\n",
      "  warnings.warn(\n",
      "/home/irinb/.local/lib/python3.9/site-packages/sklearn/linear_model/_logistic.py:1165: UserWarning: l1_ratio parameter is only used when penalty is 'elasticnet'. Got (penalty=l2)\n",
      "  warnings.warn(\n",
      "/home/irinb/.local/lib/python3.9/site-packages/sklearn/linear_model/_sag.py:350: ConvergenceWarning: The max_iter was reached which means the coef_ did not converge\n",
      "  warnings.warn(\n",
      "/home/irinb/.local/lib/python3.9/site-packages/sklearn/linear_model/_logistic.py:1165: UserWarning: l1_ratio parameter is only used when penalty is 'elasticnet'. Got (penalty=l2)\n",
      "  warnings.warn(\n",
      "/home/irinb/.local/lib/python3.9/site-packages/sklearn/linear_model/_sag.py:350: ConvergenceWarning: The max_iter was reached which means the coef_ did not converge\n",
      "  warnings.warn(\n",
      "/home/irinb/.local/lib/python3.9/site-packages/sklearn/linear_model/_logistic.py:1165: UserWarning: l1_ratio parameter is only used when penalty is 'elasticnet'. Got (penalty=l2)\n",
      "  warnings.warn(\n",
      "/home/irinb/.local/lib/python3.9/site-packages/sklearn/linear_model/_sag.py:350: ConvergenceWarning: The max_iter was reached which means the coef_ did not converge\n",
      "  warnings.warn(\n",
      "/home/irinb/.local/lib/python3.9/site-packages/sklearn/linear_model/_logistic.py:1165: UserWarning: l1_ratio parameter is only used when penalty is 'elasticnet'. Got (penalty=l2)\n",
      "  warnings.warn(\n",
      "/home/irinb/.local/lib/python3.9/site-packages/sklearn/linear_model/_sag.py:350: ConvergenceWarning: The max_iter was reached which means the coef_ did not converge\n",
      "  warnings.warn(\n",
      "/home/irinb/.local/lib/python3.9/site-packages/sklearn/linear_model/_logistic.py:1165: UserWarning: l1_ratio parameter is only used when penalty is 'elasticnet'. Got (penalty=l2)\n",
      "  warnings.warn(\n",
      "/home/irinb/.local/lib/python3.9/site-packages/sklearn/linear_model/_sag.py:350: ConvergenceWarning: The max_iter was reached which means the coef_ did not converge\n",
      "  warnings.warn(\n",
      "/home/irinb/.local/lib/python3.9/site-packages/sklearn/linear_model/_logistic.py:1165: UserWarning: l1_ratio parameter is only used when penalty is 'elasticnet'. Got (penalty=l2)\n",
      "  warnings.warn(\n",
      "/home/irinb/.local/lib/python3.9/site-packages/sklearn/linear_model/_sag.py:350: ConvergenceWarning: The max_iter was reached which means the coef_ did not converge\n",
      "  warnings.warn(\n",
      "/home/irinb/.local/lib/python3.9/site-packages/sklearn/linear_model/_logistic.py:1165: UserWarning: l1_ratio parameter is only used when penalty is 'elasticnet'. Got (penalty=l2)\n",
      "  warnings.warn(\n",
      "/home/irinb/.local/lib/python3.9/site-packages/sklearn/linear_model/_sag.py:350: ConvergenceWarning: The max_iter was reached which means the coef_ did not converge\n",
      "  warnings.warn(\n",
      "/home/irinb/.local/lib/python3.9/site-packages/sklearn/linear_model/_logistic.py:1165: UserWarning: l1_ratio parameter is only used when penalty is 'elasticnet'. Got (penalty=l2)\n",
      "  warnings.warn(\n",
      "/home/irinb/.local/lib/python3.9/site-packages/sklearn/linear_model/_sag.py:350: ConvergenceWarning: The max_iter was reached which means the coef_ did not converge\n",
      "  warnings.warn(\n",
      "/home/irinb/.local/lib/python3.9/site-packages/sklearn/linear_model/_logistic.py:1165: UserWarning: l1_ratio parameter is only used when penalty is 'elasticnet'. Got (penalty=l2)\n",
      "  warnings.warn(\n",
      "/home/irinb/.local/lib/python3.9/site-packages/sklearn/linear_model/_sag.py:350: ConvergenceWarning: The max_iter was reached which means the coef_ did not converge\n",
      "  warnings.warn(\n"
     ]
    },
    {
     "name": "stdout",
     "output_type": "stream",
     "text": [
      "[CV] END feature_extraction__alpha_W=0.9, feature_extraction__beta_loss=frobenius, feature_extraction__init=nndsvd, feature_extraction__l1_ratio=0.0, feature_extraction__n_components=19; total time=  23.6s\n"
     ]
    },
    {
     "name": "stderr",
     "output_type": "stream",
     "text": [
      "/home/irinb/.local/lib/python3.9/site-packages/sklearn/linear_model/_logistic.py:1165: UserWarning: l1_ratio parameter is only used when penalty is 'elasticnet'. Got (penalty=l2)\n",
      "  warnings.warn(\n",
      "/home/irinb/.local/lib/python3.9/site-packages/sklearn/linear_model/_sag.py:350: ConvergenceWarning: The max_iter was reached which means the coef_ did not converge\n",
      "  warnings.warn(\n",
      "/home/irinb/.local/lib/python3.9/site-packages/sklearn/linear_model/_logistic.py:1165: UserWarning: l1_ratio parameter is only used when penalty is 'elasticnet'. Got (penalty=l2)\n",
      "  warnings.warn(\n",
      "/home/irinb/.local/lib/python3.9/site-packages/sklearn/linear_model/_sag.py:350: ConvergenceWarning: The max_iter was reached which means the coef_ did not converge\n",
      "  warnings.warn(\n",
      "/home/irinb/.local/lib/python3.9/site-packages/sklearn/linear_model/_logistic.py:1165: UserWarning: l1_ratio parameter is only used when penalty is 'elasticnet'. Got (penalty=l2)\n",
      "  warnings.warn(\n",
      "/home/irinb/.local/lib/python3.9/site-packages/sklearn/linear_model/_sag.py:350: ConvergenceWarning: The max_iter was reached which means the coef_ did not converge\n",
      "  warnings.warn(\n",
      "/home/irinb/.local/lib/python3.9/site-packages/sklearn/linear_model/_logistic.py:1165: UserWarning: l1_ratio parameter is only used when penalty is 'elasticnet'. Got (penalty=l2)\n",
      "  warnings.warn(\n",
      "/home/irinb/.local/lib/python3.9/site-packages/sklearn/linear_model/_sag.py:350: ConvergenceWarning: The max_iter was reached which means the coef_ did not converge\n",
      "  warnings.warn(\n",
      "/home/irinb/.local/lib/python3.9/site-packages/sklearn/linear_model/_logistic.py:1165: UserWarning: l1_ratio parameter is only used when penalty is 'elasticnet'. Got (penalty=l2)\n",
      "  warnings.warn(\n",
      "/home/irinb/.local/lib/python3.9/site-packages/sklearn/linear_model/_sag.py:350: ConvergenceWarning: The max_iter was reached which means the coef_ did not converge\n",
      "  warnings.warn(\n",
      "/home/irinb/.local/lib/python3.9/site-packages/sklearn/linear_model/_logistic.py:1165: UserWarning: l1_ratio parameter is only used when penalty is 'elasticnet'. Got (penalty=l2)\n",
      "  warnings.warn(\n",
      "/home/irinb/.local/lib/python3.9/site-packages/sklearn/linear_model/_sag.py:350: ConvergenceWarning: The max_iter was reached which means the coef_ did not converge\n",
      "  warnings.warn(\n",
      "/home/irinb/.local/lib/python3.9/site-packages/sklearn/linear_model/_logistic.py:1165: UserWarning: l1_ratio parameter is only used when penalty is 'elasticnet'. Got (penalty=l2)\n",
      "  warnings.warn(\n",
      "/home/irinb/.local/lib/python3.9/site-packages/sklearn/linear_model/_sag.py:350: ConvergenceWarning: The max_iter was reached which means the coef_ did not converge\n",
      "  warnings.warn(\n",
      "/home/irinb/.local/lib/python3.9/site-packages/sklearn/linear_model/_logistic.py:1165: UserWarning: l1_ratio parameter is only used when penalty is 'elasticnet'. Got (penalty=l2)\n",
      "  warnings.warn(\n",
      "/home/irinb/.local/lib/python3.9/site-packages/sklearn/linear_model/_sag.py:350: ConvergenceWarning: The max_iter was reached which means the coef_ did not converge\n",
      "  warnings.warn(\n",
      "/home/irinb/.local/lib/python3.9/site-packages/sklearn/linear_model/_logistic.py:1165: UserWarning: l1_ratio parameter is only used when penalty is 'elasticnet'. Got (penalty=l2)\n",
      "  warnings.warn(\n",
      "/home/irinb/.local/lib/python3.9/site-packages/sklearn/linear_model/_sag.py:350: ConvergenceWarning: The max_iter was reached which means the coef_ did not converge\n",
      "  warnings.warn(\n",
      "/home/irinb/.local/lib/python3.9/site-packages/sklearn/linear_model/_logistic.py:1165: UserWarning: l1_ratio parameter is only used when penalty is 'elasticnet'. Got (penalty=l2)\n",
      "  warnings.warn(\n",
      "/home/irinb/.local/lib/python3.9/site-packages/sklearn/linear_model/_sag.py:350: ConvergenceWarning: The max_iter was reached which means the coef_ did not converge\n",
      "  warnings.warn(\n"
     ]
    },
    {
     "name": "stdout",
     "output_type": "stream",
     "text": [
      "[CV] END feature_extraction__alpha_W=0.9, feature_extraction__beta_loss=frobenius, feature_extraction__init=nndsvd, feature_extraction__l1_ratio=0.0, feature_extraction__n_components=19; total time= 4.6min\n",
      "[CV] END feature_extraction__alpha_W=0.9, feature_extraction__beta_loss=frobenius, feature_extraction__init=nndsvd, feature_extraction__l1_ratio=0.0, feature_extraction__n_components=19; total time= 4.9min\n",
      "[CV] END feature_extraction__alpha_W=0.9, feature_extraction__beta_loss=frobenius, feature_extraction__init=nndsvd, feature_extraction__l1_ratio=0.0, feature_extraction__n_components=19; total time= 5.1min\n",
      "[CV] END feature_extraction__alpha_W=0.30000000000000004, feature_extraction__beta_loss=kullback-leibler, feature_extraction__init=nndsvda, feature_extraction__l1_ratio=0.0, feature_extraction__n_components=16; total time= 3.1min\n",
      "[CV] END feature_extraction__alpha_W=0.30000000000000004, feature_extraction__beta_loss=kullback-leibler, feature_extraction__init=nndsvda, feature_extraction__l1_ratio=0.0, feature_extraction__n_components=16; total time= 3.3min\n",
      "[CV] END feature_extraction__alpha_W=0.30000000000000004, feature_extraction__beta_loss=kullback-leibler, feature_extraction__init=nndsvda, feature_extraction__l1_ratio=0.0, feature_extraction__n_components=16; total time= 3.5min\n",
      "[CV] END feature_extraction__alpha_W=0.9, feature_extraction__beta_loss=frobenius, feature_extraction__init=nndsvd, feature_extraction__l1_ratio=0.0, feature_extraction__n_components=19; total time= 5.6min\n",
      "[CV] END feature_extraction__alpha_W=0.30000000000000004, feature_extraction__beta_loss=kullback-leibler, feature_extraction__init=nndsvda, feature_extraction__l1_ratio=0.0, feature_extraction__n_components=16; total time= 3.5min\n",
      "[CV] END feature_extraction__alpha_W=0.30000000000000004, feature_extraction__beta_loss=kullback-leibler, feature_extraction__init=nndsvda, feature_extraction__l1_ratio=0.0, feature_extraction__n_components=16; total time= 3.7min\n",
      "[CV] END feature_extraction__alpha_W=0.0, feature_extraction__beta_loss=frobenius, feature_extraction__init=nndsvd, feature_extraction__l1_ratio=0.7000000000000001, feature_extraction__n_components=29; total time= 6.3min\n",
      "[CV] END feature_extraction__alpha_W=0.0, feature_extraction__beta_loss=frobenius, feature_extraction__init=nndsvd, feature_extraction__l1_ratio=0.7000000000000001, feature_extraction__n_components=29; total time= 6.4min\n",
      "[CV] END feature_extraction__alpha_W=0.0, feature_extraction__beta_loss=frobenius, feature_extraction__init=nndsvd, feature_extraction__l1_ratio=0.7000000000000001, feature_extraction__n_components=29; total time= 6.4min\n",
      "[CV] END feature_extraction__alpha_W=0.0, feature_extraction__beta_loss=frobenius, feature_extraction__init=nndsvd, feature_extraction__l1_ratio=0.7000000000000001, feature_extraction__n_components=29; total time= 6.5min\n",
      "[CV] END feature_extraction__alpha_W=0.0, feature_extraction__beta_loss=frobenius, feature_extraction__init=nndsvd, feature_extraction__l1_ratio=0.5, feature_extraction__n_components=36; total time= 6.5min\n",
      "[CV] END feature_extraction__alpha_W=0.0, feature_extraction__beta_loss=frobenius, feature_extraction__init=nndsvd, feature_extraction__l1_ratio=0.5, feature_extraction__n_components=36; total time= 6.6min\n",
      "[CV] END feature_extraction__alpha_W=0.0, feature_extraction__beta_loss=frobenius, feature_extraction__init=nndsvd, feature_extraction__l1_ratio=0.7000000000000001, feature_extraction__n_components=29; total time= 6.6min\n",
      "[CV] END feature_extraction__alpha_W=0.0, feature_extraction__beta_loss=frobenius, feature_extraction__init=nndsvd, feature_extraction__l1_ratio=0.5, feature_extraction__n_components=36; total time= 6.8min\n",
      "[CV] END feature_extraction__alpha_W=0.0, feature_extraction__beta_loss=frobenius, feature_extraction__init=nndsvd, feature_extraction__l1_ratio=0.5, feature_extraction__n_components=36; total time= 6.9min\n",
      "[CV] END feature_extraction__alpha_W=0.0, feature_extraction__beta_loss=frobenius, feature_extraction__init=nndsvd, feature_extraction__l1_ratio=0.5, feature_extraction__n_components=36; total time= 7.0min\n"
     ]
    },
    {
     "name": "stderr",
     "output_type": "stream",
     "text": [
      "/home/irinb/.local/lib/python3.9/site-packages/sklearn/linear_model/_logistic.py:1165: UserWarning: l1_ratio parameter is only used when penalty is 'elasticnet'. Got (penalty=l2)\n",
      "  warnings.warn(\n",
      "/home/irinb/.local/lib/python3.9/site-packages/sklearn/linear_model/_sag.py:350: ConvergenceWarning: The max_iter was reached which means the coef_ did not converge\n",
      "  warnings.warn(\n",
      "/home/irinb/.local/lib/python3.9/site-packages/sklearn/linear_model/_logistic.py:1165: UserWarning: l1_ratio parameter is only used when penalty is 'elasticnet'. Got (penalty=l2)\n",
      "  warnings.warn(\n",
      "/home/irinb/.local/lib/python3.9/site-packages/sklearn/linear_model/_sag.py:350: ConvergenceWarning: The max_iter was reached which means the coef_ did not converge\n",
      "  warnings.warn(\n",
      "/home/irinb/.local/lib/python3.9/site-packages/sklearn/linear_model/_logistic.py:1165: UserWarning: l1_ratio parameter is only used when penalty is 'elasticnet'. Got (penalty=l2)\n",
      "  warnings.warn(\n",
      "/home/irinb/.local/lib/python3.9/site-packages/sklearn/linear_model/_sag.py:350: ConvergenceWarning: The max_iter was reached which means the coef_ did not converge\n",
      "  warnings.warn(\n",
      "/home/irinb/.local/lib/python3.9/site-packages/sklearn/linear_model/_logistic.py:1165: UserWarning: l1_ratio parameter is only used when penalty is 'elasticnet'. Got (penalty=l2)\n",
      "  warnings.warn(\n",
      "/home/irinb/.local/lib/python3.9/site-packages/sklearn/linear_model/_sag.py:350: ConvergenceWarning: The max_iter was reached which means the coef_ did not converge\n",
      "  warnings.warn(\n",
      "/home/irinb/.local/lib/python3.9/site-packages/sklearn/linear_model/_logistic.py:1165: UserWarning: l1_ratio parameter is only used when penalty is 'elasticnet'. Got (penalty=l2)\n",
      "  warnings.warn(\n",
      "/home/irinb/.local/lib/python3.9/site-packages/sklearn/linear_model/_sag.py:350: ConvergenceWarning: The max_iter was reached which means the coef_ did not converge\n",
      "  warnings.warn(\n"
     ]
    },
    {
     "data": {
      "text/html": [
       "<style>#sk-container-id-1 {color: black;background-color: white;}#sk-container-id-1 pre{padding: 0;}#sk-container-id-1 div.sk-toggleable {background-color: white;}#sk-container-id-1 label.sk-toggleable__label {cursor: pointer;display: block;width: 100%;margin-bottom: 0;padding: 0.3em;box-sizing: border-box;text-align: center;}#sk-container-id-1 label.sk-toggleable__label-arrow:before {content: \"▸\";float: left;margin-right: 0.25em;color: #696969;}#sk-container-id-1 label.sk-toggleable__label-arrow:hover:before {color: black;}#sk-container-id-1 div.sk-estimator:hover label.sk-toggleable__label-arrow:before {color: black;}#sk-container-id-1 div.sk-toggleable__content {max-height: 0;max-width: 0;overflow: hidden;text-align: left;background-color: #f0f8ff;}#sk-container-id-1 div.sk-toggleable__content pre {margin: 0.2em;color: black;border-radius: 0.25em;background-color: #f0f8ff;}#sk-container-id-1 input.sk-toggleable__control:checked~div.sk-toggleable__content {max-height: 200px;max-width: 100%;overflow: auto;}#sk-container-id-1 input.sk-toggleable__control:checked~label.sk-toggleable__label-arrow:before {content: \"▾\";}#sk-container-id-1 div.sk-estimator input.sk-toggleable__control:checked~label.sk-toggleable__label {background-color: #d4ebff;}#sk-container-id-1 div.sk-label input.sk-toggleable__control:checked~label.sk-toggleable__label {background-color: #d4ebff;}#sk-container-id-1 input.sk-hidden--visually {border: 0;clip: rect(1px 1px 1px 1px);clip: rect(1px, 1px, 1px, 1px);height: 1px;margin: -1px;overflow: hidden;padding: 0;position: absolute;width: 1px;}#sk-container-id-1 div.sk-estimator {font-family: monospace;background-color: #f0f8ff;border: 1px dotted black;border-radius: 0.25em;box-sizing: border-box;margin-bottom: 0.5em;}#sk-container-id-1 div.sk-estimator:hover {background-color: #d4ebff;}#sk-container-id-1 div.sk-parallel-item::after {content: \"\";width: 100%;border-bottom: 1px solid gray;flex-grow: 1;}#sk-container-id-1 div.sk-label:hover label.sk-toggleable__label {background-color: #d4ebff;}#sk-container-id-1 div.sk-serial::before {content: \"\";position: absolute;border-left: 1px solid gray;box-sizing: border-box;top: 0;bottom: 0;left: 50%;z-index: 0;}#sk-container-id-1 div.sk-serial {display: flex;flex-direction: column;align-items: center;background-color: white;padding-right: 0.2em;padding-left: 0.2em;position: relative;}#sk-container-id-1 div.sk-item {position: relative;z-index: 1;}#sk-container-id-1 div.sk-parallel {display: flex;align-items: stretch;justify-content: center;background-color: white;position: relative;}#sk-container-id-1 div.sk-item::before, #sk-container-id-1 div.sk-parallel-item::before {content: \"\";position: absolute;border-left: 1px solid gray;box-sizing: border-box;top: 0;bottom: 0;left: 50%;z-index: -1;}#sk-container-id-1 div.sk-parallel-item {display: flex;flex-direction: column;z-index: 1;position: relative;background-color: white;}#sk-container-id-1 div.sk-parallel-item:first-child::after {align-self: flex-end;width: 50%;}#sk-container-id-1 div.sk-parallel-item:last-child::after {align-self: flex-start;width: 50%;}#sk-container-id-1 div.sk-parallel-item:only-child::after {width: 0;}#sk-container-id-1 div.sk-dashed-wrapped {border: 1px dashed gray;margin: 0 0.4em 0.5em 0.4em;box-sizing: border-box;padding-bottom: 0.4em;background-color: white;}#sk-container-id-1 div.sk-label label {font-family: monospace;font-weight: bold;display: inline-block;line-height: 1.2em;}#sk-container-id-1 div.sk-label-container {text-align: center;}#sk-container-id-1 div.sk-container {/* jupyter's `normalize.less` sets `[hidden] { display: none; }` but bootstrap.min.css set `[hidden] { display: none !important; }` so we also need the `!important` here to be able to override the default hidden behavior on the sphinx rendered scikit-learn.org. See: https://github.com/scikit-learn/scikit-learn/issues/21755 */display: inline-block !important;position: relative;}#sk-container-id-1 div.sk-text-repr-fallback {display: none;}</style><div id=\"sk-container-id-1\" class=\"sk-top-container\"><div class=\"sk-text-repr-fallback\"><pre>HalvingRandomSearchCV(aggressive_elimination=True,\n",
       "                      cv=StratifiedKFold(n_splits=5, random_state=256, shuffle=True),\n",
       "                      estimator=Pipeline(steps=[(&#x27;feature_extraction&#x27;,\n",
       "                                                 MiniBatchNMF(forget_factor=1,\n",
       "                                                              max_iter=100000,\n",
       "                                                              max_no_improvement=3,\n",
       "                                                              random_state=42)),\n",
       "                                                (&#x27;classify&#x27;,\n",
       "                                                 LogisticRegression(l1_ratio=0.5,\n",
       "                                                                    max_iter=20,\n",
       "                                                                    random_state=42,\n",
       "                                                                    solver=&#x27;saga&#x27;,\n",
       "                                                                    warm_start=True))]),\n",
       "                      f...\n",
       "                                           &#x27;feature_extraction__l1_ratio&#x27;: array([0. , 0.1, 0.2, 0.3, 0.4, 0.5, 0.6, 0.7, 0.8, 0.9]),\n",
       "                                           &#x27;feature_extraction__n_components&#x27;: array([ 2,  3,  4,  5,  6,  7,  8,  9, 10, 11, 12, 13, 14, 15, 16, 17, 18,\n",
       "       19, 20, 21, 22, 23, 24, 25, 26, 27, 28, 29, 30, 31, 32, 33, 34, 35,\n",
       "       36, 37, 38, 39, 40, 41, 42, 43, 44, 45, 46, 47, 48, 49, 50])},\n",
       "                      random_state=42, refit=False,\n",
       "                      scoring=make_scorer(average_precision_score, needs_proba=True),\n",
       "                      verbose=2)</pre><b>In a Jupyter environment, please rerun this cell to show the HTML representation or trust the notebook. <br />On GitHub, the HTML representation is unable to render, please try loading this page with nbviewer.org.</b></div><div class=\"sk-container\" hidden><div class=\"sk-item sk-dashed-wrapped\"><div class=\"sk-label-container\"><div class=\"sk-label sk-toggleable\"><input class=\"sk-toggleable__control sk-hidden--visually\" id=\"sk-estimator-id-1\" type=\"checkbox\" ><label for=\"sk-estimator-id-1\" class=\"sk-toggleable__label sk-toggleable__label-arrow\">HalvingRandomSearchCV</label><div class=\"sk-toggleable__content\"><pre>HalvingRandomSearchCV(aggressive_elimination=True,\n",
       "                      cv=StratifiedKFold(n_splits=5, random_state=256, shuffle=True),\n",
       "                      estimator=Pipeline(steps=[(&#x27;feature_extraction&#x27;,\n",
       "                                                 MiniBatchNMF(forget_factor=1,\n",
       "                                                              max_iter=100000,\n",
       "                                                              max_no_improvement=3,\n",
       "                                                              random_state=42)),\n",
       "                                                (&#x27;classify&#x27;,\n",
       "                                                 LogisticRegression(l1_ratio=0.5,\n",
       "                                                                    max_iter=20,\n",
       "                                                                    random_state=42,\n",
       "                                                                    solver=&#x27;saga&#x27;,\n",
       "                                                                    warm_start=True))]),\n",
       "                      f...\n",
       "                                           &#x27;feature_extraction__l1_ratio&#x27;: array([0. , 0.1, 0.2, 0.3, 0.4, 0.5, 0.6, 0.7, 0.8, 0.9]),\n",
       "                                           &#x27;feature_extraction__n_components&#x27;: array([ 2,  3,  4,  5,  6,  7,  8,  9, 10, 11, 12, 13, 14, 15, 16, 17, 18,\n",
       "       19, 20, 21, 22, 23, 24, 25, 26, 27, 28, 29, 30, 31, 32, 33, 34, 35,\n",
       "       36, 37, 38, 39, 40, 41, 42, 43, 44, 45, 46, 47, 48, 49, 50])},\n",
       "                      random_state=42, refit=False,\n",
       "                      scoring=make_scorer(average_precision_score, needs_proba=True),\n",
       "                      verbose=2)</pre></div></div></div><div class=\"sk-parallel\"><div class=\"sk-parallel-item\"><div class=\"sk-item\"><div class=\"sk-label-container\"><div class=\"sk-label sk-toggleable\"><input class=\"sk-toggleable__control sk-hidden--visually\" id=\"sk-estimator-id-2\" type=\"checkbox\" ><label for=\"sk-estimator-id-2\" class=\"sk-toggleable__label sk-toggleable__label-arrow\">estimator: Pipeline</label><div class=\"sk-toggleable__content\"><pre>Pipeline(steps=[(&#x27;feature_extraction&#x27;,\n",
       "                 MiniBatchNMF(forget_factor=1, max_iter=100000,\n",
       "                              max_no_improvement=3, random_state=42)),\n",
       "                (&#x27;classify&#x27;,\n",
       "                 LogisticRegression(l1_ratio=0.5, max_iter=20, random_state=42,\n",
       "                                    solver=&#x27;saga&#x27;, warm_start=True))])</pre></div></div></div><div class=\"sk-serial\"><div class=\"sk-item\"><div class=\"sk-serial\"><div class=\"sk-item\"><div class=\"sk-estimator sk-toggleable\"><input class=\"sk-toggleable__control sk-hidden--visually\" id=\"sk-estimator-id-3\" type=\"checkbox\" ><label for=\"sk-estimator-id-3\" class=\"sk-toggleable__label sk-toggleable__label-arrow\">MiniBatchNMF</label><div class=\"sk-toggleable__content\"><pre>MiniBatchNMF(forget_factor=1, max_iter=100000, max_no_improvement=3,\n",
       "             random_state=42)</pre></div></div></div><div class=\"sk-item\"><div class=\"sk-estimator sk-toggleable\"><input class=\"sk-toggleable__control sk-hidden--visually\" id=\"sk-estimator-id-4\" type=\"checkbox\" ><label for=\"sk-estimator-id-4\" class=\"sk-toggleable__label sk-toggleable__label-arrow\">LogisticRegression</label><div class=\"sk-toggleable__content\"><pre>LogisticRegression(l1_ratio=0.5, max_iter=20, random_state=42, solver=&#x27;saga&#x27;,\n",
       "                   warm_start=True)</pre></div></div></div></div></div></div></div></div></div></div></div></div>"
      ],
      "text/plain": [
       "HalvingRandomSearchCV(aggressive_elimination=True,\n",
       "                      cv=StratifiedKFold(n_splits=5, random_state=256, shuffle=True),\n",
       "                      estimator=Pipeline(steps=[('feature_extraction',\n",
       "                                                 MiniBatchNMF(forget_factor=1,\n",
       "                                                              max_iter=100000,\n",
       "                                                              max_no_improvement=3,\n",
       "                                                              random_state=42)),\n",
       "                                                ('classify',\n",
       "                                                 LogisticRegression(l1_ratio=0.5,\n",
       "                                                                    max_iter=20,\n",
       "                                                                    random_state=42,\n",
       "                                                                    solver='saga',\n",
       "                                                                    warm_start=True))]),\n",
       "                      f...\n",
       "                                           'feature_extraction__l1_ratio': array([0. , 0.1, 0.2, 0.3, 0.4, 0.5, 0.6, 0.7, 0.8, 0.9]),\n",
       "                                           'feature_extraction__n_components': array([ 2,  3,  4,  5,  6,  7,  8,  9, 10, 11, 12, 13, 14, 15, 16, 17, 18,\n",
       "       19, 20, 21, 22, 23, 24, 25, 26, 27, 28, 29, 30, 31, 32, 33, 34, 35,\n",
       "       36, 37, 38, 39, 40, 41, 42, 43, 44, 45, 46, 47, 48, 49, 50])},\n",
       "                      random_state=42, refit=False,\n",
       "                      scoring=make_scorer(average_precision_score, needs_proba=True),\n",
       "                      verbose=2)"
      ]
     },
     "execution_count": 8,
     "metadata": {},
     "output_type": "execute_result"
    }
   ],
   "source": [
    "RANDOM_STATE = 256\n",
    "\n",
    "grid = HalvingRandomSearchCV(\n",
    "    pipe,\n",
    "    cv = StratifiedKFold(n_splits=5, random_state=RANDOM_STATE, shuffle=True),\n",
    "    param_distributions = param_grid,\n",
    "    \n",
    "    factor = 5, # 1/5 candidates selected in each iteration\n",
    "    aggressive_elimination = True,\n",
    "    n_candidates = 'exhaust',\n",
    "    min_resources = 400,\n",
    "    scoring = make_scorer(average_precision_score, needs_proba=True),\n",
    "    refit = False,\n",
    "    \n",
    "    n_jobs = -1,\n",
    "    random_state = 42,\n",
    "    verbose = 2\n",
    ")\n",
    "    \n",
    "grid.fit(X, y)"
   ]
  },
  {
   "cell_type": "code",
   "execution_count": 9,
   "id": "920ac519",
   "metadata": {},
   "outputs": [
    {
     "name": "stdout",
     "output_type": "stream",
     "text": [
      "{'feature_extraction__n_components': 36, 'feature_extraction__l1_ratio': 0.5, 'feature_extraction__init': 'nndsvd', 'feature_extraction__beta_loss': 'frobenius', 'feature_extraction__alpha_W': 0.0}\n"
     ]
    }
   ],
   "source": [
    "print(grid.best_params_)"
   ]
  },
  {
   "cell_type": "code",
   "execution_count": 10,
   "id": "151516ca",
   "metadata": {},
   "outputs": [
    {
     "name": "stdout",
     "output_type": "stream",
     "text": [
      "0.03512903804190755\n"
     ]
    }
   ],
   "source": [
    "print(grid.best_score_)"
   ]
  },
  {
   "cell_type": "code",
   "execution_count": 11,
   "id": "2abad43d",
   "metadata": {},
   "outputs": [
    {
     "data": {
      "text/plain": [
       "['models/nmf_hp_search_256_minre400__round8_randomstate256.pkl']"
      ]
     },
     "execution_count": 11,
     "metadata": {},
     "output_type": "execute_result"
    },
    {
     "name": "stdout",
     "output_type": "stream",
     "text": [
      "[CV] END feature_extraction__alpha_W=0.30000000000000004, feature_extraction__beta_loss=kullback-leibler, feature_extraction__init=nndsvda, feature_extraction__l1_ratio=0.0, feature_extraction__n_components=16; total time=15.8min\n",
      "[CV] END feature_extraction__alpha_W=0.9, feature_extraction__beta_loss=kullback-leibler, feature_extraction__init=random, feature_extraction__l1_ratio=0.1, feature_extraction__n_components=43; total time=54.3min\n",
      "[CV] END feature_extraction__alpha_W=0.1, feature_extraction__beta_loss=kullback-leibler, feature_extraction__init=random, feature_extraction__l1_ratio=0.0, feature_extraction__n_components=18; total time=42.9min\n",
      "[CV] END feature_extraction__alpha_W=0.7000000000000001, feature_extraction__beta_loss=frobenius, feature_extraction__init=nndsvda, feature_extraction__l1_ratio=0.0, feature_extraction__n_components=17; total time= 4.5min\n",
      "[CV] END feature_extraction__alpha_W=0.2, feature_extraction__beta_loss=frobenius, feature_extraction__init=random, feature_extraction__l1_ratio=0.7000000000000001, feature_extraction__n_components=44; total time= 9.5min\n",
      "[CV] END feature_extraction__alpha_W=0.9, feature_extraction__beta_loss=kullback-leibler, feature_extraction__init=random, feature_extraction__l1_ratio=0.1, feature_extraction__n_components=43; total time=54.0min\n",
      "[CV] END feature_extraction__alpha_W=0.1, feature_extraction__beta_loss=kullback-leibler, feature_extraction__init=random, feature_extraction__l1_ratio=0.0, feature_extraction__n_components=18; total time=43.1min\n",
      "[CV] END feature_extraction__alpha_W=0.1, feature_extraction__beta_loss=kullback-leibler, feature_extraction__init=random, feature_extraction__l1_ratio=0.0, feature_extraction__n_components=18; total time=44.6min\n",
      "[CV] END feature_extraction__alpha_W=0.1, feature_extraction__beta_loss=kullback-leibler, feature_extraction__init=random, feature_extraction__l1_ratio=0.0, feature_extraction__n_components=18; total time=44.9min\n",
      "[CV] END feature_extraction__alpha_W=0.5, feature_extraction__beta_loss=frobenius, feature_extraction__init=nndsvda, feature_extraction__l1_ratio=0.2, feature_extraction__n_components=19; total time= 5.6min\n",
      "[CV] END feature_extraction__alpha_W=0.2, feature_extraction__beta_loss=frobenius, feature_extraction__init=random, feature_extraction__l1_ratio=0.7000000000000001, feature_extraction__n_components=44; total time=10.1min\n",
      "[CV] END feature_extraction__alpha_W=0.9, feature_extraction__beta_loss=kullback-leibler, feature_extraction__init=random, feature_extraction__l1_ratio=0.1, feature_extraction__n_components=43; total time=52.4min\n",
      "[CV] END feature_extraction__alpha_W=0.1, feature_extraction__beta_loss=kullback-leibler, feature_extraction__init=random, feature_extraction__l1_ratio=0.0, feature_extraction__n_components=18; total time=45.6min\n"
     ]
    }
   ],
   "source": [
    "import joblib\n",
    "\n",
    "#save your model or results\n",
    "joblib.dump(grid, 'models/nmf_hp_search_256_minre400__round8_randomstate256.pkl')"
   ]
  },
  {
   "cell_type": "markdown",
   "id": "950392ac-abf3-4fe2-a25f-1a06b09ac102",
   "metadata": {},
   "source": [
    "## Image Resolution 512 x 512"
   ]
  },
  {
   "cell_type": "code",
   "execution_count": 6,
   "id": "221c6c82",
   "metadata": {},
   "outputs": [],
   "source": [
    "X = np.load('/scratch/siads699w23_class_root/siads699w23_class/irinb/sample_flatten_X_512.npy')\n",
    "y = np.load('/scratch/siads699w23_class_root/siads699w23_class/irinb/sample_flatten_y_512.npy')"
   ]
  },
  {
   "cell_type": "code",
   "execution_count": 7,
   "id": "5c78699e",
   "metadata": {},
   "outputs": [
    {
     "data": {
      "text/plain": [
       "Counter({0.0: 8570, 1.0: 181})"
      ]
     },
     "execution_count": 7,
     "metadata": {},
     "output_type": "execute_result"
    }
   ],
   "source": [
    "from collections import Counter\n",
    "Counter(y)"
   ]
  },
  {
   "cell_type": "code",
   "execution_count": 8,
   "id": "afaaadcc-83d7-4613-9512-24ef35fba597",
   "metadata": {},
   "outputs": [],
   "source": [
    "nmf = MiniBatchNMF(\n",
    "    max_iter = 100000,\n",
    "    tol = 1e-4, #control early stopping based on changes in H\n",
    "    max_no_improvement = 3, #control early stopping based on smoothed cost function\n",
    "    forget_factor = 1, #rescaling factor of past\n",
    "    fresh_restarts = False, #completely solve for W at each step \n",
    "    random_state = 42\n",
    "    )\n",
    "\n",
    "logit = LogisticRegression(\n",
    "    warm_start = True,\n",
    "    solver = 'saga',\n",
    "    max_iter = 20,\n",
    "    l1_ratio = 0.5,\n",
    "    random_state = 42\n",
    "    )\n",
    "\n",
    "pipe = Pipeline([\n",
    "    ('feature_extraction', nmf),\n",
    "    ('classify', logit)\n",
    "])\n",
    "\n",
    "param_grid = {\n",
    "    'feature_extraction__n_components': np.arange(2, 31, step=1),\n",
    "    'feature_extraction__init': ['random', 'nndsvd', 'nndsvda'],\n",
    "    'feature_extraction__beta_loss': ['frobenius', 'kullback-leibler'],\n",
    "    'feature_extraction__alpha_W': np.arange(0, 1, step=0.1), #np.logspace(0, -4, num=5, base=10, endpoint=True),\n",
    "    'feature_extraction__l1_ratio': np.arange(0, 1, step=0.1)\n",
    "}"
   ]
  },
  {
   "cell_type": "code",
   "execution_count": null,
   "id": "51f7388f",
   "metadata": {
    "scrolled": true
   },
   "outputs": [
    {
     "name": "stdout",
     "output_type": "stream",
     "text": [
      "n_iterations: 2\n",
      "n_required_iterations: 2\n",
      "n_possible_iterations: 2\n",
      "min_resources_: 400\n",
      "max_resources_: 8751\n",
      "aggressive_elimination: True\n",
      "factor: 5\n",
      "----------\n",
      "iter: 0\n",
      "n_candidates: 21\n",
      "n_resources: 400\n",
      "Fitting 5 folds for each of 21 candidates, totalling 105 fits\n"
     ]
    },
    {
     "name": "stderr",
     "output_type": "stream",
     "text": [
      "/home/irinb/.local/lib/python3.9/site-packages/sklearn/linear_model/_logistic.py:1165: UserWarning: l1_ratio parameter is only used when penalty is 'elasticnet'. Got (penalty=l2)\n",
      "  warnings.warn(\n",
      "/home/irinb/.local/lib/python3.9/site-packages/sklearn/linear_model/_sag.py:350: ConvergenceWarning: The max_iter was reached which means the coef_ did not converge\n",
      "  warnings.warn(\n",
      "/home/irinb/.local/lib/python3.9/site-packages/sklearn/linear_model/_logistic.py:1165: UserWarning: l1_ratio parameter is only used when penalty is 'elasticnet'. Got (penalty=l2)\n",
      "  warnings.warn(\n",
      "/home/irinb/.local/lib/python3.9/site-packages/sklearn/linear_model/_logistic.py:1165: UserWarning: l1_ratio parameter is only used when penalty is 'elasticnet'. Got (penalty=l2)\n",
      "  warnings.warn(\n",
      "/home/irinb/.local/lib/python3.9/site-packages/sklearn/linear_model/_sag.py:350: ConvergenceWarning: The max_iter was reached which means the coef_ did not converge\n",
      "  warnings.warn(\n",
      "/home/irinb/.local/lib/python3.9/site-packages/sklearn/linear_model/_sag.py:350: ConvergenceWarning: The max_iter was reached which means the coef_ did not converge\n",
      "  warnings.warn(\n",
      "/home/irinb/.local/lib/python3.9/site-packages/sklearn/linear_model/_logistic.py:1165: UserWarning: l1_ratio parameter is only used when penalty is 'elasticnet'. Got (penalty=l2)\n",
      "  warnings.warn(\n",
      "/home/irinb/.local/lib/python3.9/site-packages/sklearn/linear_model/_sag.py:350: ConvergenceWarning: The max_iter was reached which means the coef_ did not converge\n",
      "  warnings.warn(\n",
      "/home/irinb/.local/lib/python3.9/site-packages/sklearn/linear_model/_logistic.py:1165: UserWarning: l1_ratio parameter is only used when penalty is 'elasticnet'. Got (penalty=l2)\n",
      "  warnings.warn(\n",
      "/home/irinb/.local/lib/python3.9/site-packages/sklearn/linear_model/_sag.py:350: ConvergenceWarning: The max_iter was reached which means the coef_ did not converge\n",
      "  warnings.warn(\n",
      "/home/irinb/.local/lib/python3.9/site-packages/sklearn/linear_model/_logistic.py:1165: UserWarning: l1_ratio parameter is only used when penalty is 'elasticnet'. Got (penalty=l2)\n",
      "  warnings.warn(\n",
      "/home/irinb/.local/lib/python3.9/site-packages/sklearn/linear_model/_sag.py:350: ConvergenceWarning: The max_iter was reached which means the coef_ did not converge\n",
      "  warnings.warn(\n",
      "/home/irinb/.local/lib/python3.9/site-packages/sklearn/linear_model/_logistic.py:1165: UserWarning: l1_ratio parameter is only used when penalty is 'elasticnet'. Got (penalty=l2)\n",
      "  warnings.warn(\n",
      "/home/irinb/.local/lib/python3.9/site-packages/sklearn/linear_model/_sag.py:350: ConvergenceWarning: The max_iter was reached which means the coef_ did not converge\n",
      "  warnings.warn(\n",
      "/home/irinb/.local/lib/python3.9/site-packages/sklearn/linear_model/_logistic.py:1165: UserWarning: l1_ratio parameter is only used when penalty is 'elasticnet'. Got (penalty=l2)\n",
      "  warnings.warn(\n",
      "/home/irinb/.local/lib/python3.9/site-packages/sklearn/linear_model/_sag.py:350: ConvergenceWarning: The max_iter was reached which means the coef_ did not converge\n",
      "  warnings.warn(\n",
      "/home/irinb/.local/lib/python3.9/site-packages/sklearn/linear_model/_logistic.py:1165: UserWarning: l1_ratio parameter is only used when penalty is 'elasticnet'. Got (penalty=l2)\n",
      "  warnings.warn(\n",
      "/home/irinb/.local/lib/python3.9/site-packages/sklearn/linear_model/_sag.py:350: ConvergenceWarning: The max_iter was reached which means the coef_ did not converge\n",
      "  warnings.warn(\n",
      "/home/irinb/.local/lib/python3.9/site-packages/sklearn/linear_model/_logistic.py:1165: UserWarning: l1_ratio parameter is only used when penalty is 'elasticnet'. Got (penalty=l2)\n",
      "  warnings.warn(\n",
      "/home/irinb/.local/lib/python3.9/site-packages/sklearn/linear_model/_sag.py:350: ConvergenceWarning: The max_iter was reached which means the coef_ did not converge\n",
      "  warnings.warn(\n",
      "/home/irinb/.local/lib/python3.9/site-packages/sklearn/linear_model/_logistic.py:1165: UserWarning: l1_ratio parameter is only used when penalty is 'elasticnet'. Got (penalty=l2)\n",
      "  warnings.warn(\n",
      "/home/irinb/.local/lib/python3.9/site-packages/sklearn/linear_model/_sag.py:350: ConvergenceWarning: The max_iter was reached which means the coef_ did not converge\n",
      "  warnings.warn(\n",
      "/home/irinb/.local/lib/python3.9/site-packages/sklearn/linear_model/_logistic.py:1165: UserWarning: l1_ratio parameter is only used when penalty is 'elasticnet'. Got (penalty=l2)\n",
      "  warnings.warn(\n",
      "/home/irinb/.local/lib/python3.9/site-packages/sklearn/linear_model/_sag.py:350: ConvergenceWarning: The max_iter was reached which means the coef_ did not converge\n",
      "  warnings.warn(\n",
      "/home/irinb/.local/lib/python3.9/site-packages/sklearn/linear_model/_logistic.py:1165: UserWarning: l1_ratio parameter is only used when penalty is 'elasticnet'. Got (penalty=l2)\n",
      "  warnings.warn(\n",
      "/home/irinb/.local/lib/python3.9/site-packages/sklearn/linear_model/_sag.py:350: ConvergenceWarning: The max_iter was reached which means the coef_ did not converge\n",
      "  warnings.warn(\n",
      "/home/irinb/.local/lib/python3.9/site-packages/sklearn/linear_model/_logistic.py:1165: UserWarning: l1_ratio parameter is only used when penalty is 'elasticnet'. Got (penalty=l2)\n",
      "  warnings.warn(\n",
      "/home/irinb/.local/lib/python3.9/site-packages/sklearn/linear_model/_sag.py:350: ConvergenceWarning: The max_iter was reached which means the coef_ did not converge\n",
      "  warnings.warn(\n",
      "/home/irinb/.local/lib/python3.9/site-packages/sklearn/linear_model/_logistic.py:1165: UserWarning: l1_ratio parameter is only used when penalty is 'elasticnet'. Got (penalty=l2)\n",
      "  warnings.warn(\n",
      "/home/irinb/.local/lib/python3.9/site-packages/sklearn/linear_model/_sag.py:350: ConvergenceWarning: The max_iter was reached which means the coef_ did not converge\n",
      "  warnings.warn(\n",
      "/home/irinb/.local/lib/python3.9/site-packages/sklearn/linear_model/_logistic.py:1165: UserWarning: l1_ratio parameter is only used when penalty is 'elasticnet'. Got (penalty=l2)\n",
      "  warnings.warn(\n",
      "/home/irinb/.local/lib/python3.9/site-packages/sklearn/linear_model/_sag.py:350: ConvergenceWarning: The max_iter was reached which means the coef_ did not converge\n",
      "  warnings.warn(\n",
      "/home/irinb/.local/lib/python3.9/site-packages/sklearn/linear_model/_logistic.py:1165: UserWarning: l1_ratio parameter is only used when penalty is 'elasticnet'. Got (penalty=l2)\n",
      "  warnings.warn(\n",
      "/home/irinb/.local/lib/python3.9/site-packages/sklearn/linear_model/_sag.py:350: ConvergenceWarning: The max_iter was reached which means the coef_ did not converge\n",
      "  warnings.warn(\n",
      "/home/irinb/.local/lib/python3.9/site-packages/sklearn/linear_model/_logistic.py:1165: UserWarning: l1_ratio parameter is only used when penalty is 'elasticnet'. Got (penalty=l2)\n",
      "  warnings.warn(\n",
      "/home/irinb/.local/lib/python3.9/site-packages/sklearn/linear_model/_sag.py:350: ConvergenceWarning: The max_iter was reached which means the coef_ did not converge\n",
      "  warnings.warn(\n",
      "/home/irinb/.local/lib/python3.9/site-packages/sklearn/linear_model/_logistic.py:1165: UserWarning: l1_ratio parameter is only used when penalty is 'elasticnet'. Got (penalty=l2)\n",
      "  warnings.warn(\n",
      "/home/irinb/.local/lib/python3.9/site-packages/sklearn/linear_model/_sag.py:350: ConvergenceWarning: The max_iter was reached which means the coef_ did not converge\n",
      "  warnings.warn(\n",
      "/home/irinb/.local/lib/python3.9/site-packages/sklearn/linear_model/_logistic.py:1165: UserWarning: l1_ratio parameter is only used when penalty is 'elasticnet'. Got (penalty=l2)\n",
      "  warnings.warn(\n",
      "/home/irinb/.local/lib/python3.9/site-packages/sklearn/linear_model/_sag.py:350: ConvergenceWarning: The max_iter was reached which means the coef_ did not converge\n",
      "  warnings.warn(\n",
      "/home/irinb/.local/lib/python3.9/site-packages/sklearn/linear_model/_logistic.py:1165: UserWarning: l1_ratio parameter is only used when penalty is 'elasticnet'. Got (penalty=l2)\n",
      "  warnings.warn(\n",
      "/home/irinb/.local/lib/python3.9/site-packages/sklearn/linear_model/_sag.py:350: ConvergenceWarning: The max_iter was reached which means the coef_ did not converge\n",
      "  warnings.warn(\n",
      "/home/irinb/.local/lib/python3.9/site-packages/sklearn/linear_model/_logistic.py:1165: UserWarning: l1_ratio parameter is only used when penalty is 'elasticnet'. Got (penalty=l2)\n",
      "  warnings.warn(\n",
      "/home/irinb/.local/lib/python3.9/site-packages/sklearn/linear_model/_sag.py:350: ConvergenceWarning: The max_iter was reached which means the coef_ did not converge\n",
      "  warnings.warn(\n"
     ]
    },
    {
     "name": "stderr",
     "output_type": "stream",
     "text": [
      "/home/irinb/.local/lib/python3.9/site-packages/sklearn/linear_model/_logistic.py:1165: UserWarning: l1_ratio parameter is only used when penalty is 'elasticnet'. Got (penalty=l2)\n",
      "  warnings.warn(\n",
      "/home/irinb/.local/lib/python3.9/site-packages/sklearn/linear_model/_sag.py:350: ConvergenceWarning: The max_iter was reached which means the coef_ did not converge\n",
      "  warnings.warn(\n",
      "/home/irinb/.local/lib/python3.9/site-packages/sklearn/linear_model/_logistic.py:1165: UserWarning: l1_ratio parameter is only used when penalty is 'elasticnet'. Got (penalty=l2)\n",
      "  warnings.warn(\n",
      "/home/irinb/.local/lib/python3.9/site-packages/sklearn/linear_model/_sag.py:350: ConvergenceWarning: The max_iter was reached which means the coef_ did not converge\n",
      "  warnings.warn(\n",
      "/home/irinb/.local/lib/python3.9/site-packages/sklearn/linear_model/_logistic.py:1165: UserWarning: l1_ratio parameter is only used when penalty is 'elasticnet'. Got (penalty=l2)\n",
      "  warnings.warn(\n",
      "/home/irinb/.local/lib/python3.9/site-packages/sklearn/linear_model/_sag.py:350: ConvergenceWarning: The max_iter was reached which means the coef_ did not converge\n",
      "  warnings.warn(\n",
      "/home/irinb/.local/lib/python3.9/site-packages/sklearn/linear_model/_logistic.py:1165: UserWarning: l1_ratio parameter is only used when penalty is 'elasticnet'. Got (penalty=l2)\n",
      "  warnings.warn(\n",
      "/home/irinb/.local/lib/python3.9/site-packages/sklearn/linear_model/_sag.py:350: ConvergenceWarning: The max_iter was reached which means the coef_ did not converge\n",
      "  warnings.warn(\n",
      "/home/irinb/.local/lib/python3.9/site-packages/sklearn/linear_model/_logistic.py:1165: UserWarning: l1_ratio parameter is only used when penalty is 'elasticnet'. Got (penalty=l2)\n",
      "  warnings.warn(\n",
      "/home/irinb/.local/lib/python3.9/site-packages/sklearn/linear_model/_sag.py:350: ConvergenceWarning: The max_iter was reached which means the coef_ did not converge\n",
      "  warnings.warn(\n",
      "/home/irinb/.local/lib/python3.9/site-packages/sklearn/linear_model/_logistic.py:1165: UserWarning: l1_ratio parameter is only used when penalty is 'elasticnet'. Got (penalty=l2)\n",
      "  warnings.warn(\n",
      "/home/irinb/.local/lib/python3.9/site-packages/sklearn/linear_model/_sag.py:350: ConvergenceWarning: The max_iter was reached which means the coef_ did not converge\n",
      "  warnings.warn(\n",
      "/home/irinb/.local/lib/python3.9/site-packages/sklearn/linear_model/_logistic.py:1165: UserWarning: l1_ratio parameter is only used when penalty is 'elasticnet'. Got (penalty=l2)\n",
      "  warnings.warn(\n",
      "/home/irinb/.local/lib/python3.9/site-packages/sklearn/linear_model/_sag.py:350: ConvergenceWarning: The max_iter was reached which means the coef_ did not converge\n",
      "  warnings.warn(\n",
      "/home/irinb/.local/lib/python3.9/site-packages/sklearn/linear_model/_logistic.py:1165: UserWarning: l1_ratio parameter is only used when penalty is 'elasticnet'. Got (penalty=l2)\n",
      "  warnings.warn(\n",
      "/home/irinb/.local/lib/python3.9/site-packages/sklearn/linear_model/_sag.py:350: ConvergenceWarning: The max_iter was reached which means the coef_ did not converge\n",
      "  warnings.warn(\n",
      "/home/irinb/.local/lib/python3.9/site-packages/sklearn/linear_model/_logistic.py:1165: UserWarning: l1_ratio parameter is only used when penalty is 'elasticnet'. Got (penalty=l2)\n",
      "  warnings.warn(\n",
      "/home/irinb/.local/lib/python3.9/site-packages/sklearn/linear_model/_sag.py:350: ConvergenceWarning: The max_iter was reached which means the coef_ did not converge\n",
      "  warnings.warn(\n",
      "/home/irinb/.local/lib/python3.9/site-packages/sklearn/linear_model/_logistic.py:1165: UserWarning: l1_ratio parameter is only used when penalty is 'elasticnet'. Got (penalty=l2)\n",
      "  warnings.warn(\n",
      "/home/irinb/.local/lib/python3.9/site-packages/sklearn/linear_model/_sag.py:350: ConvergenceWarning: The max_iter was reached which means the coef_ did not converge\n",
      "  warnings.warn(\n",
      "/home/irinb/.local/lib/python3.9/site-packages/sklearn/linear_model/_logistic.py:1165: UserWarning: l1_ratio parameter is only used when penalty is 'elasticnet'. Got (penalty=l2)\n",
      "  warnings.warn(\n",
      "/home/irinb/.local/lib/python3.9/site-packages/sklearn/linear_model/_sag.py:350: ConvergenceWarning: The max_iter was reached which means the coef_ did not converge\n",
      "  warnings.warn(\n",
      "/home/irinb/.local/lib/python3.9/site-packages/sklearn/linear_model/_logistic.py:1165: UserWarning: l1_ratio parameter is only used when penalty is 'elasticnet'. Got (penalty=l2)\n",
      "  warnings.warn(\n",
      "/home/irinb/.local/lib/python3.9/site-packages/sklearn/linear_model/_sag.py:350: ConvergenceWarning: The max_iter was reached which means the coef_ did not converge\n",
      "  warnings.warn(\n",
      "/home/irinb/.local/lib/python3.9/site-packages/sklearn/linear_model/_logistic.py:1165: UserWarning: l1_ratio parameter is only used when penalty is 'elasticnet'. Got (penalty=l2)\n",
      "  warnings.warn(\n",
      "/home/irinb/.local/lib/python3.9/site-packages/sklearn/linear_model/_sag.py:350: ConvergenceWarning: The max_iter was reached which means the coef_ did not converge\n",
      "  warnings.warn(\n",
      "/home/irinb/.local/lib/python3.9/site-packages/sklearn/linear_model/_logistic.py:1165: UserWarning: l1_ratio parameter is only used when penalty is 'elasticnet'. Got (penalty=l2)\n",
      "  warnings.warn(\n",
      "/home/irinb/.local/lib/python3.9/site-packages/sklearn/linear_model/_sag.py:350: ConvergenceWarning: The max_iter was reached which means the coef_ did not converge\n",
      "  warnings.warn(\n",
      "/home/irinb/.local/lib/python3.9/site-packages/sklearn/linear_model/_logistic.py:1165: UserWarning: l1_ratio parameter is only used when penalty is 'elasticnet'. Got (penalty=l2)\n",
      "  warnings.warn(\n",
      "/home/irinb/.local/lib/python3.9/site-packages/sklearn/linear_model/_sag.py:350: ConvergenceWarning: The max_iter was reached which means the coef_ did not converge\n",
      "  warnings.warn(\n",
      "/home/irinb/.local/lib/python3.9/site-packages/sklearn/linear_model/_logistic.py:1165: UserWarning: l1_ratio parameter is only used when penalty is 'elasticnet'. Got (penalty=l2)\n",
      "  warnings.warn(\n",
      "/home/irinb/.local/lib/python3.9/site-packages/sklearn/linear_model/_sag.py:350: ConvergenceWarning: The max_iter was reached which means the coef_ did not converge\n",
      "  warnings.warn(\n",
      "/home/irinb/.local/lib/python3.9/site-packages/sklearn/linear_model/_logistic.py:1165: UserWarning: l1_ratio parameter is only used when penalty is 'elasticnet'. Got (penalty=l2)\n",
      "  warnings.warn(\n",
      "/home/irinb/.local/lib/python3.9/site-packages/sklearn/linear_model/_sag.py:350: ConvergenceWarning: The max_iter was reached which means the coef_ did not converge\n",
      "  warnings.warn(\n",
      "/home/irinb/.local/lib/python3.9/site-packages/sklearn/linear_model/_logistic.py:1165: UserWarning: l1_ratio parameter is only used when penalty is 'elasticnet'. Got (penalty=l2)\n",
      "  warnings.warn(\n",
      "/home/irinb/.local/lib/python3.9/site-packages/sklearn/linear_model/_sag.py:350: ConvergenceWarning: The max_iter was reached which means the coef_ did not converge\n",
      "  warnings.warn(\n",
      "/home/irinb/.local/lib/python3.9/site-packages/sklearn/linear_model/_logistic.py:1165: UserWarning: l1_ratio parameter is only used when penalty is 'elasticnet'. Got (penalty=l2)\n",
      "  warnings.warn(\n",
      "/home/irinb/.local/lib/python3.9/site-packages/sklearn/linear_model/_sag.py:350: ConvergenceWarning: The max_iter was reached which means the coef_ did not converge\n",
      "  warnings.warn(\n",
      "/home/irinb/.local/lib/python3.9/site-packages/sklearn/linear_model/_logistic.py:1165: UserWarning: l1_ratio parameter is only used when penalty is 'elasticnet'. Got (penalty=l2)\n",
      "  warnings.warn(\n",
      "/home/irinb/.local/lib/python3.9/site-packages/sklearn/linear_model/_sag.py:350: ConvergenceWarning: The max_iter was reached which means the coef_ did not converge\n",
      "  warnings.warn(\n",
      "/home/irinb/.local/lib/python3.9/site-packages/sklearn/linear_model/_logistic.py:1165: UserWarning: l1_ratio parameter is only used when penalty is 'elasticnet'. Got (penalty=l2)\n",
      "  warnings.warn(\n",
      "/home/irinb/.local/lib/python3.9/site-packages/sklearn/linear_model/_sag.py:350: ConvergenceWarning: The max_iter was reached which means the coef_ did not converge\n",
      "  warnings.warn(\n",
      "/home/irinb/.local/lib/python3.9/site-packages/sklearn/linear_model/_logistic.py:1165: UserWarning: l1_ratio parameter is only used when penalty is 'elasticnet'. Got (penalty=l2)\n",
      "  warnings.warn(\n",
      "/home/irinb/.local/lib/python3.9/site-packages/sklearn/linear_model/_sag.py:350: ConvergenceWarning: The max_iter was reached which means the coef_ did not converge\n",
      "  warnings.warn(\n"
     ]
    },
    {
     "name": "stderr",
     "output_type": "stream",
     "text": [
      "/home/irinb/.local/lib/python3.9/site-packages/sklearn/linear_model/_logistic.py:1165: UserWarning: l1_ratio parameter is only used when penalty is 'elasticnet'. Got (penalty=l2)\n",
      "  warnings.warn(\n",
      "/home/irinb/.local/lib/python3.9/site-packages/sklearn/linear_model/_sag.py:350: ConvergenceWarning: The max_iter was reached which means the coef_ did not converge\n",
      "  warnings.warn(\n",
      "/home/irinb/.local/lib/python3.9/site-packages/sklearn/linear_model/_logistic.py:1165: UserWarning: l1_ratio parameter is only used when penalty is 'elasticnet'. Got (penalty=l2)\n",
      "  warnings.warn(\n",
      "/home/irinb/.local/lib/python3.9/site-packages/sklearn/linear_model/_sag.py:350: ConvergenceWarning: The max_iter was reached which means the coef_ did not converge\n",
      "  warnings.warn(\n",
      "/home/irinb/.local/lib/python3.9/site-packages/sklearn/linear_model/_logistic.py:1165: UserWarning: l1_ratio parameter is only used when penalty is 'elasticnet'. Got (penalty=l2)\n",
      "  warnings.warn(\n",
      "/home/irinb/.local/lib/python3.9/site-packages/sklearn/linear_model/_sag.py:350: ConvergenceWarning: The max_iter was reached which means the coef_ did not converge\n",
      "  warnings.warn(\n",
      "/home/irinb/.local/lib/python3.9/site-packages/sklearn/linear_model/_logistic.py:1165: UserWarning: l1_ratio parameter is only used when penalty is 'elasticnet'. Got (penalty=l2)\n",
      "  warnings.warn(\n",
      "/home/irinb/.local/lib/python3.9/site-packages/sklearn/linear_model/_sag.py:350: ConvergenceWarning: The max_iter was reached which means the coef_ did not converge\n",
      "  warnings.warn(\n",
      "/home/irinb/.local/lib/python3.9/site-packages/sklearn/linear_model/_logistic.py:1165: UserWarning: l1_ratio parameter is only used when penalty is 'elasticnet'. Got (penalty=l2)\n",
      "  warnings.warn(\n",
      "/home/irinb/.local/lib/python3.9/site-packages/sklearn/linear_model/_sag.py:350: ConvergenceWarning: The max_iter was reached which means the coef_ did not converge\n",
      "  warnings.warn(\n",
      "/home/irinb/.local/lib/python3.9/site-packages/sklearn/linear_model/_logistic.py:1165: UserWarning: l1_ratio parameter is only used when penalty is 'elasticnet'. Got (penalty=l2)\n",
      "  warnings.warn(\n",
      "/home/irinb/.local/lib/python3.9/site-packages/sklearn/linear_model/_sag.py:350: ConvergenceWarning: The max_iter was reached which means the coef_ did not converge\n",
      "  warnings.warn(\n",
      "/home/irinb/.local/lib/python3.9/site-packages/sklearn/linear_model/_logistic.py:1165: UserWarning: l1_ratio parameter is only used when penalty is 'elasticnet'. Got (penalty=l2)\n",
      "  warnings.warn(\n",
      "/home/irinb/.local/lib/python3.9/site-packages/sklearn/linear_model/_sag.py:350: ConvergenceWarning: The max_iter was reached which means the coef_ did not converge\n",
      "  warnings.warn(\n",
      "/home/irinb/.local/lib/python3.9/site-packages/sklearn/linear_model/_logistic.py:1165: UserWarning: l1_ratio parameter is only used when penalty is 'elasticnet'. Got (penalty=l2)\n",
      "  warnings.warn(\n",
      "/home/irinb/.local/lib/python3.9/site-packages/sklearn/linear_model/_sag.py:350: ConvergenceWarning: The max_iter was reached which means the coef_ did not converge\n",
      "  warnings.warn(\n",
      "/home/irinb/.local/lib/python3.9/site-packages/sklearn/linear_model/_logistic.py:1165: UserWarning: l1_ratio parameter is only used when penalty is 'elasticnet'. Got (penalty=l2)\n",
      "  warnings.warn(\n",
      "/home/irinb/.local/lib/python3.9/site-packages/sklearn/linear_model/_sag.py:350: ConvergenceWarning: The max_iter was reached which means the coef_ did not converge\n",
      "  warnings.warn(\n",
      "/home/irinb/.local/lib/python3.9/site-packages/sklearn/linear_model/_logistic.py:1165: UserWarning: l1_ratio parameter is only used when penalty is 'elasticnet'. Got (penalty=l2)\n",
      "  warnings.warn(\n",
      "/home/irinb/.local/lib/python3.9/site-packages/sklearn/linear_model/_sag.py:350: ConvergenceWarning: The max_iter was reached which means the coef_ did not converge\n",
      "  warnings.warn(\n",
      "/home/irinb/.local/lib/python3.9/site-packages/sklearn/linear_model/_logistic.py:1165: UserWarning: l1_ratio parameter is only used when penalty is 'elasticnet'. Got (penalty=l2)\n",
      "  warnings.warn(\n",
      "/home/irinb/.local/lib/python3.9/site-packages/sklearn/linear_model/_sag.py:350: ConvergenceWarning: The max_iter was reached which means the coef_ did not converge\n",
      "  warnings.warn(\n",
      "/home/irinb/.local/lib/python3.9/site-packages/sklearn/linear_model/_logistic.py:1165: UserWarning: l1_ratio parameter is only used when penalty is 'elasticnet'. Got (penalty=l2)\n",
      "  warnings.warn(\n",
      "/home/irinb/.local/lib/python3.9/site-packages/sklearn/linear_model/_sag.py:350: ConvergenceWarning: The max_iter was reached which means the coef_ did not converge\n",
      "  warnings.warn(\n",
      "/home/irinb/.local/lib/python3.9/site-packages/sklearn/linear_model/_logistic.py:1165: UserWarning: l1_ratio parameter is only used when penalty is 'elasticnet'. Got (penalty=l2)\n",
      "  warnings.warn(\n",
      "/home/irinb/.local/lib/python3.9/site-packages/sklearn/linear_model/_sag.py:350: ConvergenceWarning: The max_iter was reached which means the coef_ did not converge\n",
      "  warnings.warn(\n",
      "/home/irinb/.local/lib/python3.9/site-packages/sklearn/linear_model/_logistic.py:1165: UserWarning: l1_ratio parameter is only used when penalty is 'elasticnet'. Got (penalty=l2)\n",
      "  warnings.warn(\n",
      "/home/irinb/.local/lib/python3.9/site-packages/sklearn/linear_model/_sag.py:350: ConvergenceWarning: The max_iter was reached which means the coef_ did not converge\n",
      "  warnings.warn(\n",
      "/home/irinb/.local/lib/python3.9/site-packages/sklearn/linear_model/_logistic.py:1165: UserWarning: l1_ratio parameter is only used when penalty is 'elasticnet'. Got (penalty=l2)\n",
      "  warnings.warn(\n",
      "/home/irinb/.local/lib/python3.9/site-packages/sklearn/linear_model/_sag.py:350: ConvergenceWarning: The max_iter was reached which means the coef_ did not converge\n",
      "  warnings.warn(\n",
      "/home/irinb/.local/lib/python3.9/site-packages/sklearn/linear_model/_logistic.py:1165: UserWarning: l1_ratio parameter is only used when penalty is 'elasticnet'. Got (penalty=l2)\n",
      "  warnings.warn(\n",
      "/home/irinb/.local/lib/python3.9/site-packages/sklearn/linear_model/_sag.py:350: ConvergenceWarning: The max_iter was reached which means the coef_ did not converge\n",
      "  warnings.warn(\n",
      "/home/irinb/.local/lib/python3.9/site-packages/sklearn/linear_model/_logistic.py:1165: UserWarning: l1_ratio parameter is only used when penalty is 'elasticnet'. Got (penalty=l2)\n",
      "  warnings.warn(\n",
      "/home/irinb/.local/lib/python3.9/site-packages/sklearn/linear_model/_sag.py:350: ConvergenceWarning: The max_iter was reached which means the coef_ did not converge\n",
      "  warnings.warn(\n",
      "/home/irinb/.local/lib/python3.9/site-packages/sklearn/linear_model/_logistic.py:1165: UserWarning: l1_ratio parameter is only used when penalty is 'elasticnet'. Got (penalty=l2)\n",
      "  warnings.warn(\n",
      "/home/irinb/.local/lib/python3.9/site-packages/sklearn/linear_model/_sag.py:350: ConvergenceWarning: The max_iter was reached which means the coef_ did not converge\n",
      "  warnings.warn(\n",
      "/home/irinb/.local/lib/python3.9/site-packages/sklearn/linear_model/_logistic.py:1165: UserWarning: l1_ratio parameter is only used when penalty is 'elasticnet'. Got (penalty=l2)\n",
      "  warnings.warn(\n",
      "/home/irinb/.local/lib/python3.9/site-packages/sklearn/linear_model/_sag.py:350: ConvergenceWarning: The max_iter was reached which means the coef_ did not converge\n",
      "  warnings.warn(\n",
      "/home/irinb/.local/lib/python3.9/site-packages/sklearn/linear_model/_logistic.py:1165: UserWarning: l1_ratio parameter is only used when penalty is 'elasticnet'. Got (penalty=l2)\n",
      "  warnings.warn(\n",
      "/home/irinb/.local/lib/python3.9/site-packages/sklearn/linear_model/_sag.py:350: ConvergenceWarning: The max_iter was reached which means the coef_ did not converge\n",
      "  warnings.warn(\n",
      "/home/irinb/.local/lib/python3.9/site-packages/sklearn/linear_model/_logistic.py:1165: UserWarning: l1_ratio parameter is only used when penalty is 'elasticnet'. Got (penalty=l2)\n",
      "  warnings.warn(\n",
      "/home/irinb/.local/lib/python3.9/site-packages/sklearn/linear_model/_sag.py:350: ConvergenceWarning: The max_iter was reached which means the coef_ did not converge\n",
      "  warnings.warn(\n",
      "/home/irinb/.local/lib/python3.9/site-packages/sklearn/linear_model/_logistic.py:1165: UserWarning: l1_ratio parameter is only used when penalty is 'elasticnet'. Got (penalty=l2)\n",
      "  warnings.warn(\n",
      "/home/irinb/.local/lib/python3.9/site-packages/sklearn/linear_model/_sag.py:350: ConvergenceWarning: The max_iter was reached which means the coef_ did not converge\n",
      "  warnings.warn(\n"
     ]
    },
    {
     "name": "stderr",
     "output_type": "stream",
     "text": [
      "/home/irinb/.local/lib/python3.9/site-packages/sklearn/linear_model/_logistic.py:1165: UserWarning: l1_ratio parameter is only used when penalty is 'elasticnet'. Got (penalty=l2)\n",
      "  warnings.warn(\n",
      "/home/irinb/.local/lib/python3.9/site-packages/sklearn/linear_model/_sag.py:350: ConvergenceWarning: The max_iter was reached which means the coef_ did not converge\n",
      "  warnings.warn(\n",
      "/home/irinb/.local/lib/python3.9/site-packages/sklearn/linear_model/_logistic.py:1165: UserWarning: l1_ratio parameter is only used when penalty is 'elasticnet'. Got (penalty=l2)\n",
      "  warnings.warn(\n",
      "/home/irinb/.local/lib/python3.9/site-packages/sklearn/linear_model/_sag.py:350: ConvergenceWarning: The max_iter was reached which means the coef_ did not converge\n",
      "  warnings.warn(\n",
      "/home/irinb/.local/lib/python3.9/site-packages/sklearn/linear_model/_logistic.py:1165: UserWarning: l1_ratio parameter is only used when penalty is 'elasticnet'. Got (penalty=l2)\n",
      "  warnings.warn(\n",
      "/home/irinb/.local/lib/python3.9/site-packages/sklearn/linear_model/_sag.py:350: ConvergenceWarning: The max_iter was reached which means the coef_ did not converge\n",
      "  warnings.warn(\n",
      "/home/irinb/.local/lib/python3.9/site-packages/sklearn/linear_model/_logistic.py:1165: UserWarning: l1_ratio parameter is only used when penalty is 'elasticnet'. Got (penalty=l2)\n",
      "  warnings.warn(\n",
      "/home/irinb/.local/lib/python3.9/site-packages/sklearn/linear_model/_sag.py:350: ConvergenceWarning: The max_iter was reached which means the coef_ did not converge\n",
      "  warnings.warn(\n",
      "/home/irinb/.local/lib/python3.9/site-packages/sklearn/linear_model/_logistic.py:1165: UserWarning: l1_ratio parameter is only used when penalty is 'elasticnet'. Got (penalty=l2)\n",
      "  warnings.warn(\n",
      "/home/irinb/.local/lib/python3.9/site-packages/sklearn/linear_model/_sag.py:350: ConvergenceWarning: The max_iter was reached which means the coef_ did not converge\n",
      "  warnings.warn(\n",
      "/home/irinb/.local/lib/python3.9/site-packages/sklearn/linear_model/_logistic.py:1165: UserWarning: l1_ratio parameter is only used when penalty is 'elasticnet'. Got (penalty=l2)\n",
      "  warnings.warn(\n",
      "/home/irinb/.local/lib/python3.9/site-packages/sklearn/linear_model/_sag.py:350: ConvergenceWarning: The max_iter was reached which means the coef_ did not converge\n",
      "  warnings.warn(\n",
      "/home/irinb/.local/lib/python3.9/site-packages/sklearn/linear_model/_logistic.py:1165: UserWarning: l1_ratio parameter is only used when penalty is 'elasticnet'. Got (penalty=l2)\n",
      "  warnings.warn(\n",
      "/home/irinb/.local/lib/python3.9/site-packages/sklearn/linear_model/_sag.py:350: ConvergenceWarning: The max_iter was reached which means the coef_ did not converge\n",
      "  warnings.warn(\n",
      "/home/irinb/.local/lib/python3.9/site-packages/sklearn/linear_model/_logistic.py:1165: UserWarning: l1_ratio parameter is only used when penalty is 'elasticnet'. Got (penalty=l2)\n",
      "  warnings.warn(\n",
      "/home/irinb/.local/lib/python3.9/site-packages/sklearn/linear_model/_sag.py:350: ConvergenceWarning: The max_iter was reached which means the coef_ did not converge\n",
      "  warnings.warn(\n",
      "/home/irinb/.local/lib/python3.9/site-packages/sklearn/linear_model/_logistic.py:1165: UserWarning: l1_ratio parameter is only used when penalty is 'elasticnet'. Got (penalty=l2)\n",
      "  warnings.warn(\n",
      "/home/irinb/.local/lib/python3.9/site-packages/sklearn/linear_model/_sag.py:350: ConvergenceWarning: The max_iter was reached which means the coef_ did not converge\n",
      "  warnings.warn(\n",
      "/home/irinb/.local/lib/python3.9/site-packages/sklearn/linear_model/_logistic.py:1165: UserWarning: l1_ratio parameter is only used when penalty is 'elasticnet'. Got (penalty=l2)\n",
      "  warnings.warn(\n",
      "/home/irinb/.local/lib/python3.9/site-packages/sklearn/linear_model/_sag.py:350: ConvergenceWarning: The max_iter was reached which means the coef_ did not converge\n",
      "  warnings.warn(\n",
      "/home/irinb/.local/lib/python3.9/site-packages/sklearn/linear_model/_logistic.py:1165: UserWarning: l1_ratio parameter is only used when penalty is 'elasticnet'. Got (penalty=l2)\n",
      "  warnings.warn(\n",
      "/home/irinb/.local/lib/python3.9/site-packages/sklearn/linear_model/_sag.py:350: ConvergenceWarning: The max_iter was reached which means the coef_ did not converge\n",
      "  warnings.warn(\n",
      "/home/irinb/.local/lib/python3.9/site-packages/sklearn/linear_model/_logistic.py:1165: UserWarning: l1_ratio parameter is only used when penalty is 'elasticnet'. Got (penalty=l2)\n",
      "  warnings.warn(\n",
      "/home/irinb/.local/lib/python3.9/site-packages/sklearn/linear_model/_sag.py:350: ConvergenceWarning: The max_iter was reached which means the coef_ did not converge\n",
      "  warnings.warn(\n",
      "/home/irinb/.local/lib/python3.9/site-packages/sklearn/linear_model/_logistic.py:1165: UserWarning: l1_ratio parameter is only used when penalty is 'elasticnet'. Got (penalty=l2)\n",
      "  warnings.warn(\n",
      "/home/irinb/.local/lib/python3.9/site-packages/sklearn/linear_model/_sag.py:350: ConvergenceWarning: The max_iter was reached which means the coef_ did not converge\n",
      "  warnings.warn(\n",
      "/home/irinb/.local/lib/python3.9/site-packages/sklearn/linear_model/_logistic.py:1165: UserWarning: l1_ratio parameter is only used when penalty is 'elasticnet'. Got (penalty=l2)\n",
      "  warnings.warn(\n",
      "/home/irinb/.local/lib/python3.9/site-packages/sklearn/linear_model/_sag.py:350: ConvergenceWarning: The max_iter was reached which means the coef_ did not converge\n",
      "  warnings.warn(\n"
     ]
    },
    {
     "name": "stdout",
     "output_type": "stream",
     "text": [
      "[CV] END feature_extraction__alpha_W=0.6000000000000001, feature_extraction__beta_loss=frobenius, feature_extraction__init=nndsvda, feature_extraction__l1_ratio=0.9, feature_extraction__n_components=5; total time=19.0min\n",
      "[CV] END feature_extraction__alpha_W=0.8, feature_extraction__beta_loss=frobenius, feature_extraction__init=nndsvd, feature_extraction__l1_ratio=0.7000000000000001, feature_extraction__n_components=12; total time=18.2min\n",
      "[CV] END feature_extraction__alpha_W=0.0, feature_extraction__beta_loss=kullback-leibler, feature_extraction__init=nndsvda, feature_extraction__l1_ratio=0.8, feature_extraction__n_components=5; total time=64.8min\n",
      "[CV] END feature_extraction__alpha_W=0.30000000000000004, feature_extraction__beta_loss=kullback-leibler, feature_extraction__init=nndsvd, feature_extraction__l1_ratio=0.0, feature_extraction__n_components=18; total time= 9.9min\n"
     ]
    },
    {
     "name": "stderr",
     "output_type": "stream",
     "text": [
      "/home/irinb/.local/lib/python3.9/site-packages/sklearn/linear_model/_logistic.py:1165: UserWarning: l1_ratio parameter is only used when penalty is 'elasticnet'. Got (penalty=l2)\n",
      "  warnings.warn(\n",
      "/home/irinb/.local/lib/python3.9/site-packages/sklearn/linear_model/_sag.py:350: ConvergenceWarning: The max_iter was reached which means the coef_ did not converge\n",
      "  warnings.warn(\n"
     ]
    },
    {
     "name": "stdout",
     "output_type": "stream",
     "text": [
      "[CV] END feature_extraction__alpha_W=0.9, feature_extraction__beta_loss=frobenius, feature_extraction__init=random, feature_extraction__l1_ratio=0.4, feature_extraction__n_components=21; total time=64.2min\n",
      "[CV] END feature_extraction__alpha_W=0.1, feature_extraction__beta_loss=frobenius, feature_extraction__init=nndsvda, feature_extraction__l1_ratio=0.30000000000000004, feature_extraction__n_components=28; total time=39.1min\n",
      "[CV] END feature_extraction__alpha_W=0.30000000000000004, feature_extraction__beta_loss=kullback-leibler, feature_extraction__init=nndsvd, feature_extraction__l1_ratio=0.0, feature_extraction__n_components=18; total time=10.7min\n",
      "[CV] END feature_extraction__alpha_W=0.30000000000000004, feature_extraction__beta_loss=frobenius, feature_extraction__init=random, feature_extraction__l1_ratio=0.5, feature_extraction__n_components=27; total time=32.2min\n",
      "[CV] END feature_extraction__alpha_W=0.4, feature_extraction__beta_loss=kullback-leibler, feature_extraction__init=nndsvd, feature_extraction__l1_ratio=0.6000000000000001, feature_extraction__n_components=30; total time=70.8min\n",
      "[CV] END feature_extraction__alpha_W=0.30000000000000004, feature_extraction__beta_loss=kullback-leibler, feature_extraction__init=nndsvd, feature_extraction__l1_ratio=0.0, feature_extraction__n_components=18; total time=12.0min\n",
      "[CV] END feature_extraction__alpha_W=0.30000000000000004, feature_extraction__beta_loss=kullback-leibler, feature_extraction__init=random, feature_extraction__l1_ratio=0.6000000000000001, feature_extraction__n_components=3; total time=116.0min\n",
      "[CV] END feature_extraction__alpha_W=0.2, feature_extraction__beta_loss=kullback-leibler, feature_extraction__init=random, feature_extraction__l1_ratio=0.2, feature_extraction__n_components=20; total time=116.8min\n"
     ]
    },
    {
     "name": "stderr",
     "output_type": "stream",
     "text": [
      "/home/irinb/.local/lib/python3.9/site-packages/sklearn/linear_model/_logistic.py:1165: UserWarning: l1_ratio parameter is only used when penalty is 'elasticnet'. Got (penalty=l2)\n",
      "  warnings.warn(\n",
      "/home/irinb/.local/lib/python3.9/site-packages/sklearn/linear_model/_sag.py:350: ConvergenceWarning: The max_iter was reached which means the coef_ did not converge\n",
      "  warnings.warn(\n"
     ]
    },
    {
     "name": "stdout",
     "output_type": "stream",
     "text": [
      "[CV] END feature_extraction__alpha_W=0.6000000000000001, feature_extraction__beta_loss=kullback-leibler, feature_extraction__init=nndsvda, feature_extraction__l1_ratio=0.2, feature_extraction__n_components=18; total time=118.6min\n"
     ]
    },
    {
     "name": "stderr",
     "output_type": "stream",
     "text": [
      "/home/irinb/.local/lib/python3.9/site-packages/sklearn/linear_model/_logistic.py:1165: UserWarning: l1_ratio parameter is only used when penalty is 'elasticnet'. Got (penalty=l2)\n",
      "  warnings.warn(\n",
      "/home/irinb/.local/lib/python3.9/site-packages/sklearn/linear_model/_sag.py:350: ConvergenceWarning: The max_iter was reached which means the coef_ did not converge\n",
      "  warnings.warn(\n"
     ]
    },
    {
     "name": "stdout",
     "output_type": "stream",
     "text": [
      "[CV] END feature_extraction__alpha_W=0.9, feature_extraction__beta_loss=frobenius, feature_extraction__init=random, feature_extraction__l1_ratio=0.4, feature_extraction__n_components=21; total time=72.8min\n",
      "[CV] END feature_extraction__alpha_W=0.30000000000000004, feature_extraction__beta_loss=frobenius, feature_extraction__init=random, feature_extraction__l1_ratio=0.30000000000000004, feature_extraction__n_components=6; total time=27.9min\n",
      "[CV] END feature_extraction__alpha_W=0.30000000000000004, feature_extraction__beta_loss=kullback-leibler, feature_extraction__init=nndsvd, feature_extraction__l1_ratio=0.1, feature_extraction__n_components=13; total time=19.0min\n",
      "[CV] END feature_extraction__alpha_W=0.0, feature_extraction__beta_loss=frobenius, feature_extraction__init=nndsvda, feature_extraction__l1_ratio=0.9, feature_extraction__n_components=21; total time=26.9min\n",
      "[CV] END feature_extraction__alpha_W=0.9, feature_extraction__beta_loss=frobenius, feature_extraction__init=nndsvd, feature_extraction__l1_ratio=0.2, feature_extraction__n_components=17; total time= 2.1min\n",
      "[CV] END feature_extraction__alpha_W=0.9, feature_extraction__beta_loss=frobenius, feature_extraction__init=nndsvd, feature_extraction__l1_ratio=0.2, feature_extraction__n_components=17; total time= 1.9min\n",
      "[CV] END feature_extraction__alpha_W=0.4, feature_extraction__beta_loss=kullback-leibler, feature_extraction__init=nndsvd, feature_extraction__l1_ratio=0.6000000000000001, feature_extraction__n_components=30; total time=87.9min\n",
      "[CV] END feature_extraction__alpha_W=0.9, feature_extraction__beta_loss=kullback-leibler, feature_extraction__init=nndsvd, feature_extraction__l1_ratio=0.1, feature_extraction__n_components=3; total time= 1.2min\n",
      "[CV] END feature_extraction__alpha_W=0.2, feature_extraction__beta_loss=kullback-leibler, feature_extraction__init=random, feature_extraction__l1_ratio=0.2, feature_extraction__n_components=20; total time=117.6min\n",
      "[CV] END feature_extraction__alpha_W=0.9, feature_extraction__beta_loss=kullback-leibler, feature_extraction__init=nndsvd, feature_extraction__l1_ratio=0.1, feature_extraction__n_components=3; total time= 1.3min\n",
      "[CV] END feature_extraction__alpha_W=0.8, feature_extraction__beta_loss=frobenius, feature_extraction__init=nndsvd, feature_extraction__l1_ratio=0.7000000000000001, feature_extraction__n_components=12; total time=19.5min\n",
      "[CV] END feature_extraction__alpha_W=0.6000000000000001, feature_extraction__beta_loss=kullback-leibler, feature_extraction__init=random, feature_extraction__l1_ratio=0.1, feature_extraction__n_components=26; total time=50.0min\n",
      "[CV] END feature_extraction__alpha_W=0.30000000000000004, feature_extraction__beta_loss=frobenius, feature_extraction__init=random, feature_extraction__l1_ratio=0.30000000000000004, feature_extraction__n_components=6; total time=25.6min\n",
      "[CV] END feature_extraction__alpha_W=0.30000000000000004, feature_extraction__beta_loss=kullback-leibler, feature_extraction__init=nndsvd, feature_extraction__l1_ratio=0.1, feature_extraction__n_components=13; total time=21.2min\n",
      "[CV] END feature_extraction__alpha_W=0.9, feature_extraction__beta_loss=kullback-leibler, feature_extraction__init=nndsvd, feature_extraction__l1_ratio=0.1, feature_extraction__n_components=3; total time= 1.3min\n",
      "[CV] END feature_extraction__alpha_W=0.2, feature_extraction__beta_loss=kullback-leibler, feature_extraction__init=random, feature_extraction__l1_ratio=0.2, feature_extraction__n_components=20; total time=118.1min\n",
      "[CV] END feature_extraction__alpha_W=0.9, feature_extraction__beta_loss=kullback-leibler, feature_extraction__init=nndsvd, feature_extraction__l1_ratio=0.1, feature_extraction__n_components=3; total time= 1.2min\n",
      "[CV] END feature_extraction__alpha_W=0.2, feature_extraction__beta_loss=kullback-leibler, feature_extraction__init=random, feature_extraction__l1_ratio=0.2, feature_extraction__n_components=20; total time=119.1min\n"
     ]
    },
    {
     "name": "stderr",
     "output_type": "stream",
     "text": [
      "/home/irinb/.local/lib/python3.9/site-packages/sklearn/linear_model/_logistic.py:1165: UserWarning: l1_ratio parameter is only used when penalty is 'elasticnet'. Got (penalty=l2)\n",
      "  warnings.warn(\n",
      "/home/irinb/.local/lib/python3.9/site-packages/sklearn/linear_model/_sag.py:350: ConvergenceWarning: The max_iter was reached which means the coef_ did not converge\n",
      "  warnings.warn(\n",
      "/home/irinb/.local/lib/python3.9/site-packages/sklearn/linear_model/_logistic.py:1165: UserWarning: l1_ratio parameter is only used when penalty is 'elasticnet'. Got (penalty=l2)\n",
      "  warnings.warn(\n",
      "/home/irinb/.local/lib/python3.9/site-packages/sklearn/linear_model/_sag.py:350: ConvergenceWarning: The max_iter was reached which means the coef_ did not converge\n",
      "  warnings.warn(\n"
     ]
    },
    {
     "name": "stdout",
     "output_type": "stream",
     "text": [
      "[CV] END feature_extraction__alpha_W=0.9, feature_extraction__beta_loss=kullback-leibler, feature_extraction__init=nndsvd, feature_extraction__l1_ratio=0.1, feature_extraction__n_components=3; total time= 1.2min\n",
      "[CV] END feature_extraction__alpha_W=0.2, feature_extraction__beta_loss=kullback-leibler, feature_extraction__init=random, feature_extraction__l1_ratio=0.2, feature_extraction__n_components=20; total time=122.9min\n"
     ]
    },
    {
     "name": "stderr",
     "output_type": "stream",
     "text": [
      "/home/irinb/.local/lib/python3.9/site-packages/sklearn/linear_model/_logistic.py:1165: UserWarning: l1_ratio parameter is only used when penalty is 'elasticnet'. Got (penalty=l2)\n",
      "  warnings.warn(\n",
      "/home/irinb/.local/lib/python3.9/site-packages/sklearn/linear_model/_sag.py:350: ConvergenceWarning: The max_iter was reached which means the coef_ did not converge\n",
      "  warnings.warn(\n"
     ]
    },
    {
     "name": "stdout",
     "output_type": "stream",
     "text": [
      "[CV] END feature_extraction__alpha_W=0.30000000000000004, feature_extraction__beta_loss=kullback-leibler, feature_extraction__init=random, feature_extraction__l1_ratio=0.6000000000000001, feature_extraction__n_components=3; total time=125.9min\n"
     ]
    },
    {
     "name": "stderr",
     "output_type": "stream",
     "text": [
      "/home/irinb/.local/lib/python3.9/site-packages/sklearn/linear_model/_logistic.py:1165: UserWarning: l1_ratio parameter is only used when penalty is 'elasticnet'. Got (penalty=l2)\n",
      "  warnings.warn(\n",
      "/home/irinb/.local/lib/python3.9/site-packages/sklearn/linear_model/_sag.py:350: ConvergenceWarning: The max_iter was reached which means the coef_ did not converge\n",
      "  warnings.warn(\n"
     ]
    },
    {
     "name": "stdout",
     "output_type": "stream",
     "text": [
      "[CV] END feature_extraction__alpha_W=0.30000000000000004, feature_extraction__beta_loss=frobenius, feature_extraction__init=random, feature_extraction__l1_ratio=0.5, feature_extraction__n_components=27; total time=32.3min\n",
      "[CV] END feature_extraction__alpha_W=0.4, feature_extraction__beta_loss=kullback-leibler, feature_extraction__init=nndsvd, feature_extraction__l1_ratio=0.6000000000000001, feature_extraction__n_components=30; total time=96.9min\n",
      "[CV] END feature_extraction__alpha_W=0.6000000000000001, feature_extraction__beta_loss=kullback-leibler, feature_extraction__init=nndsvda, feature_extraction__l1_ratio=0.2, feature_extraction__n_components=18; total time=130.3min\n"
     ]
    },
    {
     "name": "stderr",
     "output_type": "stream",
     "text": [
      "/home/irinb/.local/lib/python3.9/site-packages/sklearn/linear_model/_logistic.py:1165: UserWarning: l1_ratio parameter is only used when penalty is 'elasticnet'. Got (penalty=l2)\n",
      "  warnings.warn(\n",
      "/home/irinb/.local/lib/python3.9/site-packages/sklearn/linear_model/_sag.py:350: ConvergenceWarning: The max_iter was reached which means the coef_ did not converge\n",
      "  warnings.warn(\n",
      "/home/irinb/.local/lib/python3.9/site-packages/sklearn/linear_model/_logistic.py:1165: UserWarning: l1_ratio parameter is only used when penalty is 'elasticnet'. Got (penalty=l2)\n",
      "  warnings.warn(\n",
      "/home/irinb/.local/lib/python3.9/site-packages/sklearn/linear_model/_sag.py:350: ConvergenceWarning: The max_iter was reached which means the coef_ did not converge\n",
      "  warnings.warn(\n"
     ]
    },
    {
     "name": "stdout",
     "output_type": "stream",
     "text": [
      "[CV] END feature_extraction__alpha_W=0.6000000000000001, feature_extraction__beta_loss=kullback-leibler, feature_extraction__init=nndsvda, feature_extraction__l1_ratio=0.2, feature_extraction__n_components=18; total time=132.7min\n"
     ]
    },
    {
     "name": "stderr",
     "output_type": "stream",
     "text": [
      "/home/irinb/.local/lib/python3.9/site-packages/sklearn/linear_model/_logistic.py:1165: UserWarning: l1_ratio parameter is only used when penalty is 'elasticnet'. Got (penalty=l2)\n",
      "  warnings.warn(\n",
      "/home/irinb/.local/lib/python3.9/site-packages/sklearn/linear_model/_sag.py:350: ConvergenceWarning: The max_iter was reached which means the coef_ did not converge\n",
      "  warnings.warn(\n"
     ]
    },
    {
     "name": "stdout",
     "output_type": "stream",
     "text": [
      "[CV] END feature_extraction__alpha_W=0.30000000000000004, feature_extraction__beta_loss=kullback-leibler, feature_extraction__init=random, feature_extraction__l1_ratio=0.6000000000000001, feature_extraction__n_components=3; total time=135.7min\n"
     ]
    },
    {
     "name": "stderr",
     "output_type": "stream",
     "text": [
      "/home/irinb/.local/lib/python3.9/site-packages/sklearn/linear_model/_logistic.py:1165: UserWarning: l1_ratio parameter is only used when penalty is 'elasticnet'. Got (penalty=l2)\n",
      "  warnings.warn(\n",
      "/home/irinb/.local/lib/python3.9/site-packages/sklearn/linear_model/_sag.py:350: ConvergenceWarning: The max_iter was reached which means the coef_ did not converge\n",
      "  warnings.warn(\n"
     ]
    },
    {
     "name": "stdout",
     "output_type": "stream",
     "text": [
      "[CV] END feature_extraction__alpha_W=0.30000000000000004, feature_extraction__beta_loss=kullback-leibler, feature_extraction__init=random, feature_extraction__l1_ratio=0.6000000000000001, feature_extraction__n_components=3; total time=138.4min\n",
      "[CV] END feature_extraction__alpha_W=0.6000000000000001, feature_extraction__beta_loss=kullback-leibler, feature_extraction__init=nndsvda, feature_extraction__l1_ratio=0.2, feature_extraction__n_components=18; total time=139.4min\n",
      "[CV] END feature_extraction__alpha_W=0.6000000000000001, feature_extraction__beta_loss=kullback-leibler, feature_extraction__init=nndsvda, feature_extraction__l1_ratio=0.2, feature_extraction__n_components=18; total time=140.3min\n",
      "[CV] END feature_extraction__alpha_W=0.30000000000000004, feature_extraction__beta_loss=frobenius, feature_extraction__init=random, feature_extraction__l1_ratio=0.5, feature_extraction__n_components=27; total time=35.3min\n",
      "[CV] END feature_extraction__alpha_W=0.0, feature_extraction__beta_loss=kullback-leibler, feature_extraction__init=nndsvda, feature_extraction__l1_ratio=0.8, feature_extraction__n_components=5; total time=42.4min\n",
      "[CV] END feature_extraction__alpha_W=0.2, feature_extraction__beta_loss=kullback-leibler, feature_extraction__init=nndsvda, feature_extraction__l1_ratio=0.4, feature_extraction__n_components=7; total time=62.6min\n"
     ]
    },
    {
     "name": "stderr",
     "output_type": "stream",
     "text": [
      "/home/irinb/.local/lib/python3.9/site-packages/sklearn/linear_model/_logistic.py:1165: UserWarning: l1_ratio parameter is only used when penalty is 'elasticnet'. Got (penalty=l2)\n",
      "  warnings.warn(\n",
      "/home/irinb/.local/lib/python3.9/site-packages/sklearn/linear_model/_sag.py:350: ConvergenceWarning: The max_iter was reached which means the coef_ did not converge\n",
      "  warnings.warn(\n",
      "/home/irinb/.local/lib/python3.9/site-packages/sklearn/linear_model/_logistic.py:1165: UserWarning: l1_ratio parameter is only used when penalty is 'elasticnet'. Got (penalty=l2)\n",
      "  warnings.warn(\n",
      "/home/irinb/.local/lib/python3.9/site-packages/sklearn/linear_model/_sag.py:350: ConvergenceWarning: The max_iter was reached which means the coef_ did not converge\n",
      "  warnings.warn(\n"
     ]
    },
    {
     "name": "stdout",
     "output_type": "stream",
     "text": [
      "[CV] END feature_extraction__alpha_W=0.6000000000000001, feature_extraction__beta_loss=frobenius, feature_extraction__init=nndsvda, feature_extraction__l1_ratio=0.9, feature_extraction__n_components=5; total time=18.8min\n",
      "[CV] END feature_extraction__alpha_W=0.8, feature_extraction__beta_loss=frobenius, feature_extraction__init=nndsvd, feature_extraction__l1_ratio=0.7000000000000001, feature_extraction__n_components=12; total time=14.6min\n",
      "[CV] END feature_extraction__alpha_W=0.0, feature_extraction__beta_loss=kullback-leibler, feature_extraction__init=nndsvda, feature_extraction__l1_ratio=0.8, feature_extraction__n_components=5; total time=48.9min\n",
      "[CV] END feature_extraction__alpha_W=0.2, feature_extraction__beta_loss=kullback-leibler, feature_extraction__init=nndsvda, feature_extraction__l1_ratio=0.4, feature_extraction__n_components=7; total time=69.4min\n",
      "[CV] END feature_extraction__alpha_W=0.9, feature_extraction__beta_loss=frobenius, feature_extraction__init=random, feature_extraction__l1_ratio=0.4, feature_extraction__n_components=21; total time=60.9min\n",
      "[CV] END feature_extraction__alpha_W=0.0, feature_extraction__beta_loss=frobenius, feature_extraction__init=nndsvda, feature_extraction__l1_ratio=0.6000000000000001, feature_extraction__n_components=17; total time=23.7min\n",
      "[CV] END feature_extraction__alpha_W=0.2, feature_extraction__beta_loss=kullback-leibler, feature_extraction__init=nndsvda, feature_extraction__l1_ratio=0.4, feature_extraction__n_components=7; total time=69.9min\n"
     ]
    },
    {
     "name": "stderr",
     "output_type": "stream",
     "text": [
      "/home/irinb/.local/lib/python3.9/site-packages/sklearn/linear_model/_logistic.py:1165: UserWarning: l1_ratio parameter is only used when penalty is 'elasticnet'. Got (penalty=l2)\n",
      "  warnings.warn(\n",
      "/home/irinb/.local/lib/python3.9/site-packages/sklearn/linear_model/_sag.py:350: ConvergenceWarning: The max_iter was reached which means the coef_ did not converge\n",
      "  warnings.warn(\n"
     ]
    },
    {
     "name": "stdout",
     "output_type": "stream",
     "text": [
      "[CV] END feature_extraction__alpha_W=0.0, feature_extraction__beta_loss=frobenius, feature_extraction__init=nndsvda, feature_extraction__l1_ratio=0.9, feature_extraction__n_components=21; total time=20.4min\n",
      "[CV] END feature_extraction__alpha_W=0.6000000000000001, feature_extraction__beta_loss=kullback-leibler, feature_extraction__init=random, feature_extraction__l1_ratio=0.1, feature_extraction__n_components=26; total time=37.3min\n",
      "[CV] END feature_extraction__alpha_W=0.0, feature_extraction__beta_loss=frobenius, feature_extraction__init=nndsvda, feature_extraction__l1_ratio=0.6000000000000001, feature_extraction__n_components=17; total time=20.9min\n",
      "[CV] END feature_extraction__alpha_W=0.2, feature_extraction__beta_loss=kullback-leibler, feature_extraction__init=nndsvda, feature_extraction__l1_ratio=0.4, feature_extraction__n_components=7; total time=81.2min\n"
     ]
    },
    {
     "name": "stderr",
     "output_type": "stream",
     "text": [
      "/home/irinb/.local/lib/python3.9/site-packages/sklearn/linear_model/_logistic.py:1165: UserWarning: l1_ratio parameter is only used when penalty is 'elasticnet'. Got (penalty=l2)\n",
      "  warnings.warn(\n",
      "/home/irinb/.local/lib/python3.9/site-packages/sklearn/linear_model/_sag.py:350: ConvergenceWarning: The max_iter was reached which means the coef_ did not converge\n",
      "  warnings.warn(\n",
      "/home/irinb/.local/lib/python3.9/site-packages/sklearn/linear_model/_logistic.py:1165: UserWarning: l1_ratio parameter is only used when penalty is 'elasticnet'. Got (penalty=l2)\n",
      "  warnings.warn(\n",
      "/home/irinb/.local/lib/python3.9/site-packages/sklearn/linear_model/_sag.py:350: ConvergenceWarning: The max_iter was reached which means the coef_ did not converge\n",
      "  warnings.warn(\n"
     ]
    },
    {
     "name": "stdout",
     "output_type": "stream",
     "text": [
      "[CV] END feature_extraction__alpha_W=0.6000000000000001, feature_extraction__beta_loss=frobenius, feature_extraction__init=nndsvda, feature_extraction__l1_ratio=0.9, feature_extraction__n_components=5; total time=17.0min\n",
      "[CV] END feature_extraction__alpha_W=0.8, feature_extraction__beta_loss=frobenius, feature_extraction__init=nndsvd, feature_extraction__l1_ratio=0.7000000000000001, feature_extraction__n_components=12; total time=23.5min\n",
      "[CV] END feature_extraction__alpha_W=0.0, feature_extraction__beta_loss=kullback-leibler, feature_extraction__init=nndsvda, feature_extraction__l1_ratio=0.8, feature_extraction__n_components=5; total time=61.0min\n",
      "[CV] END feature_extraction__alpha_W=0.4, feature_extraction__beta_loss=kullback-leibler, feature_extraction__init=nndsvda, feature_extraction__l1_ratio=0.8, feature_extraction__n_components=26; total time=70.4min\n",
      "[CV] END feature_extraction__alpha_W=0.9, feature_extraction__beta_loss=frobenius, feature_extraction__init=random, feature_extraction__l1_ratio=0.4, feature_extraction__n_components=21; total time=60.1min\n",
      "[CV] END feature_extraction__alpha_W=0.0, feature_extraction__beta_loss=frobenius, feature_extraction__init=nndsvda, feature_extraction__l1_ratio=0.6000000000000001, feature_extraction__n_components=17; total time=18.8min\n",
      "[CV] END feature_extraction__alpha_W=0.2, feature_extraction__beta_loss=kullback-leibler, feature_extraction__init=nndsvda, feature_extraction__l1_ratio=0.4, feature_extraction__n_components=7; total time=97.2min\n"
     ]
    },
    {
     "name": "stderr",
     "output_type": "stream",
     "text": [
      "/home/irinb/.local/lib/python3.9/site-packages/sklearn/linear_model/_logistic.py:1165: UserWarning: l1_ratio parameter is only used when penalty is 'elasticnet'. Got (penalty=l2)\n",
      "  warnings.warn(\n",
      "/home/irinb/.local/lib/python3.9/site-packages/sklearn/linear_model/_sag.py:350: ConvergenceWarning: The max_iter was reached which means the coef_ did not converge\n",
      "  warnings.warn(\n"
     ]
    },
    {
     "name": "stdout",
     "output_type": "stream",
     "text": [
      "[CV] END feature_extraction__alpha_W=0.9, feature_extraction__beta_loss=frobenius, feature_extraction__init=random, feature_extraction__l1_ratio=0.4, feature_extraction__n_components=21; total time=57.5min\n",
      "[CV] END feature_extraction__alpha_W=0.0, feature_extraction__beta_loss=frobenius, feature_extraction__init=nndsvda, feature_extraction__l1_ratio=0.6000000000000001, feature_extraction__n_components=17; total time=20.1min\n",
      "[CV] END feature_extraction__alpha_W=0.30000000000000004, feature_extraction__beta_loss=frobenius, feature_extraction__init=random, feature_extraction__l1_ratio=0.30000000000000004, feature_extraction__n_components=6; total time=27.8min\n",
      "[CV] END feature_extraction__alpha_W=0.4, feature_extraction__beta_loss=kullback-leibler, feature_extraction__init=nndsvda, feature_extraction__l1_ratio=0.8, feature_extraction__n_components=26; total time=85.1min\n"
     ]
    },
    {
     "name": "stderr",
     "output_type": "stream",
     "text": [
      "/home/irinb/.local/lib/python3.9/site-packages/sklearn/linear_model/_logistic.py:1165: UserWarning: l1_ratio parameter is only used when penalty is 'elasticnet'. Got (penalty=l2)\n",
      "  warnings.warn(\n",
      "/home/irinb/.local/lib/python3.9/site-packages/sklearn/linear_model/_sag.py:350: ConvergenceWarning: The max_iter was reached which means the coef_ did not converge\n",
      "  warnings.warn(\n",
      "/home/irinb/.local/lib/python3.9/site-packages/sklearn/linear_model/_logistic.py:1165: UserWarning: l1_ratio parameter is only used when penalty is 'elasticnet'. Got (penalty=l2)\n",
      "  warnings.warn(\n",
      "/home/irinb/.local/lib/python3.9/site-packages/sklearn/linear_model/_sag.py:350: ConvergenceWarning: The max_iter was reached which means the coef_ did not converge\n",
      "  warnings.warn(\n",
      "/home/irinb/.local/lib/python3.9/site-packages/sklearn/linear_model/_logistic.py:1165: UserWarning: l1_ratio parameter is only used when penalty is 'elasticnet'. Got (penalty=l2)\n",
      "  warnings.warn(\n",
      "/home/irinb/.local/lib/python3.9/site-packages/sklearn/linear_model/_sag.py:350: ConvergenceWarning: The max_iter was reached which means the coef_ did not converge\n",
      "  warnings.warn(\n"
     ]
    },
    {
     "name": "stdout",
     "output_type": "stream",
     "text": [
      "[CV] END feature_extraction__alpha_W=0.6000000000000001, feature_extraction__beta_loss=frobenius, feature_extraction__init=nndsvda, feature_extraction__l1_ratio=0.9, feature_extraction__n_components=5; total time=16.1min\n",
      "[CV] END feature_extraction__alpha_W=0.8, feature_extraction__beta_loss=frobenius, feature_extraction__init=nndsvd, feature_extraction__l1_ratio=0.7000000000000001, feature_extraction__n_components=12; total time=14.5min\n",
      "[CV] END feature_extraction__alpha_W=0.9, feature_extraction__beta_loss=frobenius, feature_extraction__init=nndsvd, feature_extraction__l1_ratio=0.2, feature_extraction__n_components=17; total time= 1.3min\n",
      "[CV] END feature_extraction__alpha_W=0.4, feature_extraction__beta_loss=kullback-leibler, feature_extraction__init=nndsvd, feature_extraction__l1_ratio=0.6000000000000001, feature_extraction__n_components=30; total time=36.7min\n",
      "[CV] END feature_extraction__alpha_W=0.1, feature_extraction__beta_loss=frobenius, feature_extraction__init=nndsvda, feature_extraction__l1_ratio=0.30000000000000004, feature_extraction__n_components=28; total time=37.4min\n",
      "[CV] END feature_extraction__alpha_W=0.1, feature_extraction__beta_loss=kullback-leibler, feature_extraction__init=random, feature_extraction__l1_ratio=0.4, feature_extraction__n_components=23; total time=98.0min\n"
     ]
    },
    {
     "name": "stderr",
     "output_type": "stream",
     "text": [
      "/home/irinb/.local/lib/python3.9/site-packages/sklearn/linear_model/_logistic.py:1165: UserWarning: l1_ratio parameter is only used when penalty is 'elasticnet'. Got (penalty=l2)\n",
      "  warnings.warn(\n",
      "/home/irinb/.local/lib/python3.9/site-packages/sklearn/linear_model/_sag.py:350: ConvergenceWarning: The max_iter was reached which means the coef_ did not converge\n",
      "  warnings.warn(\n",
      "/home/irinb/.local/lib/python3.9/site-packages/sklearn/linear_model/_logistic.py:1165: UserWarning: l1_ratio parameter is only used when penalty is 'elasticnet'. Got (penalty=l2)\n",
      "  warnings.warn(\n",
      "/home/irinb/.local/lib/python3.9/site-packages/sklearn/linear_model/_sag.py:350: ConvergenceWarning: The max_iter was reached which means the coef_ did not converge\n",
      "  warnings.warn(\n"
     ]
    },
    {
     "name": "stdout",
     "output_type": "stream",
     "text": [
      "[CV] END feature_extraction__alpha_W=0.0, feature_extraction__beta_loss=frobenius, feature_extraction__init=nndsvda, feature_extraction__l1_ratio=0.9, feature_extraction__n_components=21; total time=23.2min\n",
      "[CV] END feature_extraction__alpha_W=0.9, feature_extraction__beta_loss=frobenius, feature_extraction__init=nndsvd, feature_extraction__l1_ratio=0.2, feature_extraction__n_components=17; total time= 1.6min\n",
      "[CV] END feature_extraction__alpha_W=0.9, feature_extraction__beta_loss=frobenius, feature_extraction__init=nndsvd, feature_extraction__l1_ratio=0.2, feature_extraction__n_components=17; total time=15.2min\n",
      "[CV] END feature_extraction__alpha_W=0.0, feature_extraction__beta_loss=frobenius, feature_extraction__init=nndsvda, feature_extraction__l1_ratio=0.6000000000000001, feature_extraction__n_components=17; total time=24.2min\n",
      "[CV] END feature_extraction__alpha_W=0.1, feature_extraction__beta_loss=frobenius, feature_extraction__init=nndsvda, feature_extraction__l1_ratio=0.30000000000000004, feature_extraction__n_components=28; total time=36.3min\n",
      "[CV] END feature_extraction__alpha_W=0.4, feature_extraction__beta_loss=kullback-leibler, feature_extraction__init=nndsvda, feature_extraction__l1_ratio=0.8, feature_extraction__n_components=26; total time=107.1min\n"
     ]
    },
    {
     "name": "stderr",
     "output_type": "stream",
     "text": [
      "/home/irinb/.local/lib/python3.9/site-packages/sklearn/linear_model/_logistic.py:1165: UserWarning: l1_ratio parameter is only used when penalty is 'elasticnet'. Got (penalty=l2)\n",
      "  warnings.warn(\n",
      "/home/irinb/.local/lib/python3.9/site-packages/sklearn/linear_model/_sag.py:350: ConvergenceWarning: The max_iter was reached which means the coef_ did not converge\n",
      "  warnings.warn(\n",
      "/home/irinb/.local/lib/python3.9/site-packages/sklearn/linear_model/_logistic.py:1165: UserWarning: l1_ratio parameter is only used when penalty is 'elasticnet'. Got (penalty=l2)\n",
      "  warnings.warn(\n",
      "/home/irinb/.local/lib/python3.9/site-packages/sklearn/linear_model/_sag.py:350: ConvergenceWarning: The max_iter was reached which means the coef_ did not converge\n",
      "  warnings.warn(\n"
     ]
    },
    {
     "name": "stdout",
     "output_type": "stream",
     "text": [
      "[CV] END feature_extraction__alpha_W=0.6000000000000001, feature_extraction__beta_loss=frobenius, feature_extraction__init=nndsvda, feature_extraction__l1_ratio=0.9, feature_extraction__n_components=5; total time=22.8min\n",
      "[CV] END feature_extraction__alpha_W=0.6000000000000001, feature_extraction__beta_loss=kullback-leibler, feature_extraction__init=random, feature_extraction__l1_ratio=0.1, feature_extraction__n_components=26; total time=46.9min\n",
      "[CV] END feature_extraction__alpha_W=0.30000000000000004, feature_extraction__beta_loss=frobenius, feature_extraction__init=random, feature_extraction__l1_ratio=0.30000000000000004, feature_extraction__n_components=6; total time=29.7min\n",
      "[CV] END feature_extraction__alpha_W=0.30000000000000004, feature_extraction__beta_loss=kullback-leibler, feature_extraction__init=nndsvd, feature_extraction__l1_ratio=0.0, feature_extraction__n_components=18; total time= 9.7min\n",
      "[CV] END feature_extraction__alpha_W=0.1, feature_extraction__beta_loss=kullback-leibler, feature_extraction__init=random, feature_extraction__l1_ratio=0.4, feature_extraction__n_components=23; total time=101.2min\n",
      "[CV] END feature_extraction__alpha_W=0.30000000000000004, feature_extraction__beta_loss=frobenius, feature_extraction__init=random, feature_extraction__l1_ratio=0.5, feature_extraction__n_components=27; total time=32.0min\n",
      "[CV] END feature_extraction__alpha_W=0.4, feature_extraction__beta_loss=kullback-leibler, feature_extraction__init=nndsvd, feature_extraction__l1_ratio=0.6000000000000001, feature_extraction__n_components=30; total time=40.5min\n",
      "[CV] END feature_extraction__alpha_W=0.30000000000000004, feature_extraction__beta_loss=frobenius, feature_extraction__init=random, feature_extraction__l1_ratio=0.30000000000000004, feature_extraction__n_components=6; total time=26.4min\n",
      "[CV] END feature_extraction__alpha_W=0.30000000000000004, feature_extraction__beta_loss=kullback-leibler, feature_extraction__init=nndsvd, feature_extraction__l1_ratio=0.1, feature_extraction__n_components=13; total time=12.9min\n",
      "[CV] END feature_extraction__alpha_W=0.1, feature_extraction__beta_loss=kullback-leibler, feature_extraction__init=random, feature_extraction__l1_ratio=0.4, feature_extraction__n_components=23; total time=101.2min\n",
      "[CV] END feature_extraction__alpha_W=0.0, feature_extraction__beta_loss=frobenius, feature_extraction__init=nndsvda, feature_extraction__l1_ratio=0.9, feature_extraction__n_components=21; total time=21.9min\n",
      "[CV] END feature_extraction__alpha_W=0.6000000000000001, feature_extraction__beta_loss=kullback-leibler, feature_extraction__init=random, feature_extraction__l1_ratio=0.1, feature_extraction__n_components=26; total time=39.1min\n",
      "[CV] END feature_extraction__alpha_W=0.1, feature_extraction__beta_loss=frobenius, feature_extraction__init=nndsvda, feature_extraction__l1_ratio=0.30000000000000004, feature_extraction__n_components=28; total time=36.9min\n",
      "[CV] END feature_extraction__alpha_W=0.30000000000000004, feature_extraction__beta_loss=kullback-leibler, feature_extraction__init=nndsvd, feature_extraction__l1_ratio=0.0, feature_extraction__n_components=18; total time= 9.9min\n",
      "[CV] END feature_extraction__alpha_W=0.1, feature_extraction__beta_loss=kullback-leibler, feature_extraction__init=random, feature_extraction__l1_ratio=0.4, feature_extraction__n_components=23; total time=103.8min\n",
      "[CV] END feature_extraction__alpha_W=0.30000000000000004, feature_extraction__beta_loss=kullback-leibler, feature_extraction__init=random, feature_extraction__l1_ratio=0.6000000000000001, feature_extraction__n_components=3; total time=86.7min\n",
      "[CV] END feature_extraction__alpha_W=0.30000000000000004, feature_extraction__beta_loss=kullback-leibler, feature_extraction__init=nndsvd, feature_extraction__l1_ratio=0.1, feature_extraction__n_components=13; total time=15.7min\n",
      "[CV] END feature_extraction__alpha_W=0.4, feature_extraction__beta_loss=kullback-leibler, feature_extraction__init=nndsvda, feature_extraction__l1_ratio=0.8, feature_extraction__n_components=26; total time=115.5min\n",
      "[CV] END feature_extraction__alpha_W=0.30000000000000004, feature_extraction__beta_loss=frobenius, feature_extraction__init=random, feature_extraction__l1_ratio=0.5, feature_extraction__n_components=27; total time=34.0min\n",
      "[CV] END feature_extraction__alpha_W=0.0, feature_extraction__beta_loss=kullback-leibler, feature_extraction__init=nndsvda, feature_extraction__l1_ratio=0.8, feature_extraction__n_components=5; total time=56.6min\n",
      "[CV] END feature_extraction__alpha_W=0.30000000000000004, feature_extraction__beta_loss=kullback-leibler, feature_extraction__init=nndsvd, feature_extraction__l1_ratio=0.1, feature_extraction__n_components=13; total time=15.7min\n",
      "[CV] END feature_extraction__alpha_W=0.1, feature_extraction__beta_loss=kullback-leibler, feature_extraction__init=random, feature_extraction__l1_ratio=0.4, feature_extraction__n_components=23; total time=109.5min\n"
     ]
    },
    {
     "name": "stderr",
     "output_type": "stream",
     "text": [
      "/home/irinb/.local/lib/python3.9/site-packages/sklearn/linear_model/_logistic.py:1165: UserWarning: l1_ratio parameter is only used when penalty is 'elasticnet'. Got (penalty=l2)\n",
      "  warnings.warn(\n",
      "/home/irinb/.local/lib/python3.9/site-packages/sklearn/linear_model/_sag.py:350: ConvergenceWarning: The max_iter was reached which means the coef_ did not converge\n",
      "  warnings.warn(\n"
     ]
    },
    {
     "name": "stdout",
     "output_type": "stream",
     "text": [
      "----------\n",
      "iter: 1\n",
      "n_candidates: 5\n",
      "n_resources: 2000\n",
      "Fitting 5 folds for each of 5 candidates, totalling 25 fits\n"
     ]
    }
   ],
   "source": [
    "RANDOM_STATE = 42\n",
    "\n",
    "grid = HalvingRandomSearchCV(\n",
    "    pipe,\n",
    "    cv = StratifiedKFold(n_splits=5, random_state=RANDOM_STATE, shuffle=True),\n",
    "    param_distributions = param_grid,\n",
    "    \n",
    "    factor = 5, # 1/5 candidates selected in each iteration\n",
    "    aggressive_elimination = True,\n",
    "    n_candidates = 'exhaust',\n",
    "    min_resources = 400,\n",
    "    scoring = make_scorer(average_precision_score, needs_proba=True),\n",
    "    refit = False,\n",
    "    \n",
    "    n_jobs = -1,\n",
    "    random_state = 42,\n",
    "    verbose = 2\n",
    ")\n",
    "    \n",
    "grid.fit(X, y)"
   ]
  },
  {
   "cell_type": "code",
   "execution_count": null,
   "id": "91535c1b",
   "metadata": {},
   "outputs": [],
   "source": [
    "print(grid.best_params_)"
   ]
  },
  {
   "cell_type": "code",
   "execution_count": null,
   "id": "f8a78659",
   "metadata": {},
   "outputs": [],
   "source": [
    "print(grid.best_score_)"
   ]
  },
  {
   "cell_type": "code",
   "execution_count": null,
   "id": "a890b303",
   "metadata": {},
   "outputs": [],
   "source": [
    "import joblib\n",
    "\n",
    "#save your model or results\n",
    "joblib.dump(grid, 'models/nmf_hp_search_512_round1.pkl')"
   ]
  },
  {
   "cell_type": "code",
   "execution_count": null,
   "id": "db2d7441",
   "metadata": {},
   "outputs": [],
   "source": [
    "print(grid.best_params_)"
   ]
  },
  {
   "cell_type": "code",
   "execution_count": null,
   "id": "e4d0e2a5",
   "metadata": {},
   "outputs": [],
   "source": [
    "print(grid.best_score_)"
   ]
  },
  {
   "cell_type": "code",
   "execution_count": null,
   "id": "f0aaee25",
   "metadata": {},
   "outputs": [],
   "source": [
    "import joblib\n",
    "\n",
    "#save your model or results\n",
    "joblib.dump(grid, 'models/nmf_hp_search_512_round2.pkl')"
   ]
  },
  {
   "cell_type": "code",
   "execution_count": null,
   "id": "a9070270",
   "metadata": {},
   "outputs": [],
   "source": [
    "print(grid.best_params_)"
   ]
  },
  {
   "cell_type": "code",
   "execution_count": null,
   "id": "3833e1b6",
   "metadata": {},
   "outputs": [],
   "source": [
    "print(grid.best_score_)"
   ]
  },
  {
   "cell_type": "code",
   "execution_count": null,
   "id": "37611e7a",
   "metadata": {},
   "outputs": [],
   "source": [
    "#save your model or results\n",
    "joblib.dump(grid, 'models/nmf_hp_search_512_round3.pkl')"
   ]
  },
  {
   "cell_type": "code",
   "execution_count": null,
   "id": "b63df717-f87a-4d82-beba-840ca0263d7e",
   "metadata": {},
   "outputs": [],
   "source": [
    "print(grid.best_params_)"
   ]
  },
  {
   "cell_type": "code",
   "execution_count": null,
   "id": "1bb33791-540e-4084-ba0c-d2a06ffcdbce",
   "metadata": {},
   "outputs": [],
   "source": [
    "print(grid.best_score_)"
   ]
  },
  {
   "cell_type": "code",
   "execution_count": null,
   "id": "0e258d7e-a9f1-4b8f-b2ee-a8fe5b4a4fbd",
   "metadata": {},
   "outputs": [],
   "source": [
    "#save your model or results\n",
    "joblib.dump(grid, 'models/nmf_hp_search_512_round4.pkl')"
   ]
  },
  {
   "cell_type": "markdown",
   "id": "46264e56-ada1-4648-9019-fe4b2efb425a",
   "metadata": {},
   "source": [
    "## Image Resolution 1024 x 1024"
   ]
  },
  {
   "cell_type": "code",
   "execution_count": null,
   "id": "559ce45d-77a1-4ab9-9165-408fb63084fd",
   "metadata": {},
   "outputs": [],
   "source": [
    "BASEPATH = '/scratch/siads699w23_class_root/siads699w23_class/shared_data/team_mammogram/train_images'\n",
    "\n",
    "# scitkit-learn parameter search does not support batch learning\n",
    "# so we'll have to combine data in 1 batch\n",
    "BATCH_SIZE = 8751 \n",
    "\n",
    "# from PCA, image resolution does not seem to have any effect on no. of component\n",
    "# so we'll use the lowest resolution to minimize training cost\n",
    "IMG_SIZE = (1024, 1024, 1)\n",
    "\n",
    "RANDOM_STATE = 42\n",
    "\n",
    "# define DataGenerators for training split\n",
    "train_gen = dl.DataGenerator(\n",
    "    list_IDs = sample_img_ids,\n",
    "    labels = splitter.labels,\n",
    "    patient_img_dict = splitter.trainset,\n",
    "    basepath = BASEPATH,\n",
    "    batch_size = BATCH_SIZE,\n",
    "    img_size = IMG_SIZE,\n",
    "    n_classes = 2,\n",
    "    shuffle = True,\n",
    "    normalize = (0, 1),\n",
    "    feature_extractor = None,\n",
    "    verbose = True\n",
    "    )\n",
    "\n",
    "# check no. of batch\n",
    "print(len(train_gen))"
   ]
  },
  {
   "cell_type": "code",
   "execution_count": null,
   "id": "caaf1845-210e-4ab4-b73e-b3e752929359",
   "metadata": {},
   "outputs": [],
   "source": [
    "# get X and y\n",
    "for X, y in train_gen:\n",
    "  X = X.reshape(BATCH_SIZE, -1)\n",
    "  y = y[:, 1]\n",
    "  print(X.shape, y.shape)"
   ]
  },
  {
   "cell_type": "code",
   "execution_count": null,
   "id": "831eba41-39b1-4e47-9f9f-37134114e3a4",
   "metadata": {},
   "outputs": [],
   "source": [
    "with open('/scratch/siads699w23_class_root/siads699w23_class/irinb/sample_flatten_X_1024.npy','wb') as f:\n",
    "    np.save(f, X)\n",
    "    \n",
    "with open('/scratch/siads699w23_class_root/siads699w23_class/irinb/sample_flatten_y_1024.npy','wb') as f:\n",
    "    np.save(f, y)"
   ]
  },
  {
   "cell_type": "code",
   "execution_count": null,
   "id": "936d3d0f-6a5f-4b8c-8a89-e2649ae2631f",
   "metadata": {},
   "outputs": [],
   "source": [
    "Counter(y)"
   ]
  },
  {
   "cell_type": "code",
   "execution_count": null,
   "id": "4bdd3518-926f-4d38-977a-c5e077c29891",
   "metadata": {},
   "outputs": [],
   "source": [
    "nmf = MiniBatchNMF(\n",
    "    max_iter = 100000,\n",
    "    tol = 1e-4, #control early stopping based on changes in H\n",
    "    max_no_improvement = 3, #control early stopping based on smoothed cost function\n",
    "    forget_factor = 1, #rescaling factor of past\n",
    "    fresh_restarts = False, #completely solve for W at each step \n",
    "    random_state = 42\n",
    "    )\n",
    "\n",
    "logit = LogisticRegression(\n",
    "    warm_start = True,\n",
    "    solver = 'saga',\n",
    "    max_iter = 20,\n",
    "    l1_ratio = 0.5,\n",
    "    random_state = 42\n",
    "    )\n",
    "\n",
    "pipe = Pipeline([\n",
    "    ('feature_extraction', nmf),\n",
    "    ('classify', logit)\n",
    "])\n",
    "\n",
    "param_grid = {\n",
    "    'feature_extraction__n_components': np.arange(2, 31, step=1),\n",
    "    'feature_extraction__init': ['random', 'nndsvd', 'nndsvda'],\n",
    "    'feature_extraction__beta_loss': ['frobenius', 'kullback-leibler'],\n",
    "    'feature_extraction__alpha_W': np.arange(0, 1, step=0.1), #np.logspace(0, -4, num=5, base=10, endpoint=True),\n",
    "    'feature_extraction__l1_ratio': np.arange(0, 1, step=0.1)\n",
    "}"
   ]
  },
  {
   "cell_type": "code",
   "execution_count": null,
   "id": "217cd175-7d96-457f-aa12-2ef1c8893594",
   "metadata": {},
   "outputs": [],
   "source": [
    "RANDOM_STATE = 42\n",
    "\n",
    "grid = HalvingRandomSearchCV(\n",
    "    pipe,\n",
    "    cv = StratifiedKFold(n_splits=5, random_state=RANDOM_STATE, shuffle=True),\n",
    "    param_distributions = param_grid,\n",
    "    \n",
    "    factor = 5, # 1/5 candidates selected in each iteration\n",
    "    aggressive_elimination = True,\n",
    "    n_candidates = 'exhaust',\n",
    "    scoring = make_scorer(average_precision_score, needs_proba=True),\n",
    "    refit = False,\n",
    "    \n",
    "    n_jobs = -1,\n",
    "    random_state = 42,\n",
    "    verbose = 2\n",
    ")\n",
    "    \n",
    "grid.fit(X, y)"
   ]
  },
  {
   "cell_type": "code",
   "execution_count": null,
   "id": "937f08d5-0f74-4c57-af0a-47530a692506",
   "metadata": {},
   "outputs": [],
   "source": [
    "print(grid.best_params_)"
   ]
  },
  {
   "cell_type": "code",
   "execution_count": null,
   "id": "7f935efe-b859-46f0-b8bf-9f4489bc1177",
   "metadata": {},
   "outputs": [],
   "source": [
    "print(grid.best_score_)"
   ]
  },
  {
   "cell_type": "code",
   "execution_count": null,
   "id": "c62e86f9-e936-4059-ae82-42ba0ec33709",
   "metadata": {},
   "outputs": [],
   "source": [
    "#save your model or results\n",
    "joblib.dump(grid, 'models/nmf_hp_search_1024.pkl')"
   ]
  },
  {
   "cell_type": "code",
   "execution_count": null,
   "id": "43ca480d-ff4f-474f-b9c4-4e9c9a574bd7",
   "metadata": {},
   "outputs": [],
   "source": []
  }
 ],
 "metadata": {
  "kernelspec": {
   "display_name": "Python 3 (ipykernel)",
   "language": "python",
   "name": "python3"
  },
  "language_info": {
   "codemirror_mode": {
    "name": "ipython",
    "version": 3
   },
   "file_extension": ".py",
   "mimetype": "text/x-python",
   "name": "python",
   "nbconvert_exporter": "python",
   "pygments_lexer": "ipython3",
   "version": "3.9.7"
  },
  "toc-showcode": true
 },
 "nbformat": 4,
 "nbformat_minor": 5
}
