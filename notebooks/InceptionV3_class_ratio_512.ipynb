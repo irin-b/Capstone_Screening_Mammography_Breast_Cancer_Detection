{
 "cells": [
  {
   "cell_type": "code",
   "execution_count": 1,
   "id": "62f0a524",
   "metadata": {},
   "outputs": [
    {
     "name": "stderr",
     "output_type": "stream",
     "text": [
      "2023-04-13 15:09:11.756816: I tensorflow/core/platform/cpu_feature_guard.cc:182] This TensorFlow binary is optimized to use available CPU instructions in performance-critical operations.\n",
      "To enable the following instructions: AVX2 AVX512F FMA, in other operations, rebuild TensorFlow with the appropriate compiler flags.\n",
      "2023-04-13 15:09:20.787887: W tensorflow/compiler/tf2tensorrt/utils/py_utils.cc:38] TF-TRT Warning: Could not find TensorRT\n"
     ]
    }
   ],
   "source": [
    "import pandas as pd\n",
    "import numpy as np\n",
    "import tensorflow as tf\n",
    "import keras\n",
    "\n",
    "import matplotlib.pyplot as plt\n",
    "import time\n",
    "\n",
    "import data_splitter as ds\n",
    "import data_loader as dl\n",
    "import feature_extraction as fex\n",
    "import run_model as rm\n",
    "import eval_model as ev"
   ]
  },
  {
   "cell_type": "code",
   "execution_count": 2,
   "id": "0aaaeec1-8f52-4502-b95f-a0bf8c2a83cf",
   "metadata": {},
   "outputs": [],
   "source": [
    "%load_ext autoreload\n",
    "%autoreload 2"
   ]
  },
  {
   "cell_type": "code",
   "execution_count": 3,
   "id": "6e531b24",
   "metadata": {},
   "outputs": [
    {
     "name": "stdout",
     "output_type": "stream",
     "text": [
      "Nvidia GPU detected!\n"
     ]
    }
   ],
   "source": [
    "import subprocess\n",
    "\n",
    "try:\n",
    "    subprocess.check_output('nvidia-smi')\n",
    "    print('Nvidia GPU detected!')\n",
    "except Exception: # this command not being found can raise quite a few different errors depending on the configuration\n",
    "    print('No Nvidia GPU in system!')"
   ]
  },
  {
   "cell_type": "code",
   "execution_count": 4,
   "id": "e7dd4f06",
   "metadata": {},
   "outputs": [
    {
     "name": "stdout",
     "output_type": "stream",
     "text": [
      "Num GPUs Available:  1\n",
      "[PhysicalDevice(name='/physical_device:GPU:0', device_type='GPU')]\n"
     ]
    }
   ],
   "source": [
    "print(\"Num GPUs Available: \", len(tf.config.list_physical_devices('GPU')))\n",
    "print(tf.config.list_physical_devices('GPU'))"
   ]
  },
  {
   "cell_type": "code",
   "execution_count": 5,
   "id": "5906d436",
   "metadata": {},
   "outputs": [],
   "source": [
    "KERASTUNER_TUNER_ID=\"chief\"\n",
    "KERASTUNER_ORACLE_IP=\"127.0.0.1\"\n",
    "KERASTUNER_ORACLE_PORT=\"8000\""
   ]
  },
  {
   "cell_type": "code",
   "execution_count": 6,
   "id": "8a79b636-ae95-4d50-9678-55c9cb3180be",
   "metadata": {},
   "outputs": [
    {
     "name": "stdout",
     "output_type": "stream",
     "text": [
      "Total patient_id in training set:  9530\n",
      "Total patient_id in test set:  2383\n",
      "Total image_id in training set:  43767\n",
      "Total image_id in test set:  10939\n",
      "Total patient_id in training set:  7624\n",
      "Total patient_id in calibration set:  1906\n",
      "Total image_id in training set:  35003\n",
      "Total image_id in calibration set:  8764\n"
     ]
    }
   ],
   "source": [
    "splitter = ds.DataSplitter(verbose=True)"
   ]
  },
  {
   "cell_type": "code",
   "execution_count": 7,
   "id": "36f597ff",
   "metadata": {},
   "outputs": [
    {
     "name": "stdout",
     "output_type": "stream",
     "text": [
      "Splitting training set into 5 stratified k-folds...\n",
      "--Fold:  0\n",
      "----Total patient_id in training set:  6099\n",
      "----Total image_id in training set:  28031\n",
      "----Total patient_id in validation set:  1525\n",
      "----Total image_id in validation set:  6972\n",
      "--Fold:  1\n",
      "----Total patient_id in training set:  6099\n",
      "----Total image_id in training set:  28016\n",
      "----Total patient_id in validation set:  1525\n",
      "----Total image_id in validation set:  6987\n",
      "--Fold:  2\n",
      "----Total patient_id in training set:  6099\n",
      "----Total image_id in training set:  27937\n",
      "----Total patient_id in validation set:  1525\n",
      "----Total image_id in validation set:  7066\n",
      "--Fold:  3\n",
      "----Total patient_id in training set:  6099\n",
      "----Total image_id in training set:  28025\n",
      "----Total patient_id in validation set:  1525\n",
      "----Total image_id in validation set:  6978\n",
      "--Fold:  4\n",
      "----Total patient_id in training set:  6100\n",
      "----Total image_id in training set:  28003\n",
      "----Total patient_id in validation set:  1524\n",
      "----Total image_id in validation set:  7000\n"
     ]
    }
   ],
   "source": [
    "# splitter.trainset is the training set in format of {patient_id: [image_id, ...]}\n",
    "train_ids = splitter.trainset.keys()\n",
    "label_by_img = splitter.labels\n",
    "\n",
    "# getting cross-validation folds from training set\n",
    "RANDOM_STATE = 42\n",
    "cv_patient, cv_img = splitter.get_cv(n_splits=5, random_state=RANDOM_STATE)"
   ]
  },
  {
   "cell_type": "code",
   "execution_count": 8,
   "id": "95681730",
   "metadata": {},
   "outputs": [
    {
     "name": "stdout",
     "output_type": "stream",
     "text": [
      "--Fold:  0\n",
      "----Total image_id in training set with class 0:  27450\n",
      "----Total image_id in training set with class 1:  581\n",
      "--Fold:  1\n",
      "----Total image_id in training set with class 0:  27440\n",
      "----Total image_id in training set with class 1:  576\n",
      "--Fold:  2\n",
      "----Total image_id in training set with class 0:  27354\n",
      "----Total image_id in training set with class 1:  583\n",
      "--Fold:  3\n",
      "----Total image_id in training set with class 0:  27440\n",
      "----Total image_id in training set with class 1:  585\n",
      "--Fold:  4\n",
      "----Total image_id in training set with class 0:  27428\n",
      "----Total image_id in training set with class 1:  575\n"
     ]
    }
   ],
   "source": [
    "cv_train_by_class = splitter.get_cv_train_img_by_class(cv_img)"
   ]
  },
  {
   "cell_type": "code",
   "execution_count": 9,
   "id": "aca50e37-3019-41ed-bcf7-aba4e7716f79",
   "metadata": {},
   "outputs": [],
   "source": [
    "metadata = pd.read_csv('train.csv')"
   ]
  },
  {
   "cell_type": "markdown",
   "id": "31e2234d",
   "metadata": {},
   "source": [
    "# Using full training set and control for class ratio at batch level "
   ]
  },
  {
   "attachments": {},
   "cell_type": "markdown",
   "id": "8dea3659",
   "metadata": {},
   "source": [
    "### Image Resolution 512 x 512"
   ]
  },
  {
   "cell_type": "code",
   "execution_count": 10,
   "id": "662df472",
   "metadata": {},
   "outputs": [
    {
     "name": "stdout",
     "output_type": "stream",
     "text": [
      "Model: \"inception_v3\"\n",
      "__________________________________________________________________________________________________\n",
      " Layer (type)                   Output Shape         Param #     Connected to                     \n",
      "==================================================================================================\n",
      " input_1 (InputLayer)           [(None, 512, 512, 3  0           []                               \n",
      "                                )]                                                                \n",
      "                                                                                                  \n",
      " conv2d (Conv2D)                (None, 255, 255, 32  864         ['input_1[0][0]']                \n",
      "                                )                                                                 \n",
      "                                                                                                  \n",
      " batch_normalization (BatchNorm  (None, 255, 255, 32  96         ['conv2d[0][0]']                 \n",
      " alization)                     )                                                                 \n",
      "                                                                                                  \n",
      " activation (Activation)        (None, 255, 255, 32  0           ['batch_normalization[0][0]']    \n",
      "                                )                                                                 \n",
      "                                                                                                  \n",
      " conv2d_1 (Conv2D)              (None, 253, 253, 32  9216        ['activation[0][0]']             \n",
      "                                )                                                                 \n",
      "                                                                                                  \n",
      " batch_normalization_1 (BatchNo  (None, 253, 253, 32  96         ['conv2d_1[0][0]']               \n",
      " rmalization)                   )                                                                 \n",
      "                                                                                                  \n",
      " activation_1 (Activation)      (None, 253, 253, 32  0           ['batch_normalization_1[0][0]']  \n",
      "                                )                                                                 \n",
      "                                                                                                  \n",
      " conv2d_2 (Conv2D)              (None, 253, 253, 64  18432       ['activation_1[0][0]']           \n",
      "                                )                                                                 \n",
      "                                                                                                  \n",
      " batch_normalization_2 (BatchNo  (None, 253, 253, 64  192        ['conv2d_2[0][0]']               \n",
      " rmalization)                   )                                                                 \n",
      "                                                                                                  \n",
      " activation_2 (Activation)      (None, 253, 253, 64  0           ['batch_normalization_2[0][0]']  \n",
      "                                )                                                                 \n",
      "                                                                                                  \n",
      " max_pooling2d (MaxPooling2D)   (None, 126, 126, 64  0           ['activation_2[0][0]']           \n",
      "                                )                                                                 \n",
      "                                                                                                  \n",
      " conv2d_3 (Conv2D)              (None, 126, 126, 80  5120        ['max_pooling2d[0][0]']          \n",
      "                                )                                                                 \n",
      "                                                                                                  \n",
      " batch_normalization_3 (BatchNo  (None, 126, 126, 80  240        ['conv2d_3[0][0]']               \n",
      " rmalization)                   )                                                                 \n",
      "                                                                                                  \n",
      " activation_3 (Activation)      (None, 126, 126, 80  0           ['batch_normalization_3[0][0]']  \n",
      "                                )                                                                 \n",
      "                                                                                                  \n",
      " conv2d_4 (Conv2D)              (None, 124, 124, 19  138240      ['activation_3[0][0]']           \n",
      "                                2)                                                                \n",
      "                                                                                                  \n",
      " batch_normalization_4 (BatchNo  (None, 124, 124, 19  576        ['conv2d_4[0][0]']               \n",
      " rmalization)                   2)                                                                \n",
      "                                                                                                  \n",
      " activation_4 (Activation)      (None, 124, 124, 19  0           ['batch_normalization_4[0][0]']  \n",
      "                                2)                                                                \n",
      "                                                                                                  \n",
      " max_pooling2d_1 (MaxPooling2D)  (None, 61, 61, 192)  0          ['activation_4[0][0]']           \n",
      "                                                                                                  \n",
      " conv2d_8 (Conv2D)              (None, 61, 61, 64)   12288       ['max_pooling2d_1[0][0]']        \n",
      "                                                                                                  \n",
      " batch_normalization_8 (BatchNo  (None, 61, 61, 64)  192         ['conv2d_8[0][0]']               \n",
      " rmalization)                                                                                     \n",
      "                                                                                                  \n",
      " activation_8 (Activation)      (None, 61, 61, 64)   0           ['batch_normalization_8[0][0]']  \n",
      "                                                                                                  \n",
      " conv2d_6 (Conv2D)              (None, 61, 61, 48)   9216        ['max_pooling2d_1[0][0]']        \n",
      "                                                                                                  \n",
      " conv2d_9 (Conv2D)              (None, 61, 61, 96)   55296       ['activation_8[0][0]']           \n",
      "                                                                                                  \n",
      " batch_normalization_6 (BatchNo  (None, 61, 61, 48)  144         ['conv2d_6[0][0]']               \n",
      " rmalization)                                                                                     \n",
      "                                                                                                  \n",
      " batch_normalization_9 (BatchNo  (None, 61, 61, 96)  288         ['conv2d_9[0][0]']               \n",
      " rmalization)                                                                                     \n",
      "                                                                                                  \n",
      " activation_6 (Activation)      (None, 61, 61, 48)   0           ['batch_normalization_6[0][0]']  \n",
      "                                                                                                  \n",
      " activation_9 (Activation)      (None, 61, 61, 96)   0           ['batch_normalization_9[0][0]']  \n",
      "                                                                                                  \n",
      " average_pooling2d (AveragePool  (None, 61, 61, 192)  0          ['max_pooling2d_1[0][0]']        \n",
      " ing2D)                                                                                           \n",
      "                                                                                                  \n",
      " conv2d_5 (Conv2D)              (None, 61, 61, 64)   12288       ['max_pooling2d_1[0][0]']        \n",
      "                                                                                                  \n",
      " conv2d_7 (Conv2D)              (None, 61, 61, 64)   76800       ['activation_6[0][0]']           \n"
     ]
    },
    {
     "name": "stdout",
     "output_type": "stream",
     "text": [
      "                                                                                                  \n",
      " conv2d_10 (Conv2D)             (None, 61, 61, 96)   82944       ['activation_9[0][0]']           \n",
      "                                                                                                  \n",
      " conv2d_11 (Conv2D)             (None, 61, 61, 32)   6144        ['average_pooling2d[0][0]']      \n",
      "                                                                                                  \n",
      " batch_normalization_5 (BatchNo  (None, 61, 61, 64)  192         ['conv2d_5[0][0]']               \n",
      " rmalization)                                                                                     \n",
      "                                                                                                  \n",
      " batch_normalization_7 (BatchNo  (None, 61, 61, 64)  192         ['conv2d_7[0][0]']               \n",
      " rmalization)                                                                                     \n",
      "                                                                                                  \n",
      " batch_normalization_10 (BatchN  (None, 61, 61, 96)  288         ['conv2d_10[0][0]']              \n",
      " ormalization)                                                                                    \n",
      "                                                                                                  \n",
      " batch_normalization_11 (BatchN  (None, 61, 61, 32)  96          ['conv2d_11[0][0]']              \n",
      " ormalization)                                                                                    \n",
      "                                                                                                  \n",
      " activation_5 (Activation)      (None, 61, 61, 64)   0           ['batch_normalization_5[0][0]']  \n",
      "                                                                                                  \n",
      " activation_7 (Activation)      (None, 61, 61, 64)   0           ['batch_normalization_7[0][0]']  \n",
      "                                                                                                  \n",
      " activation_10 (Activation)     (None, 61, 61, 96)   0           ['batch_normalization_10[0][0]'] \n",
      "                                                                                                  \n",
      " activation_11 (Activation)     (None, 61, 61, 32)   0           ['batch_normalization_11[0][0]'] \n",
      "                                                                                                  \n",
      " mixed0 (Concatenate)           (None, 61, 61, 256)  0           ['activation_5[0][0]',           \n",
      "                                                                  'activation_7[0][0]',           \n",
      "                                                                  'activation_10[0][0]',          \n",
      "                                                                  'activation_11[0][0]']          \n",
      "                                                                                                  \n",
      " conv2d_15 (Conv2D)             (None, 61, 61, 64)   16384       ['mixed0[0][0]']                 \n",
      "                                                                                                  \n",
      " batch_normalization_15 (BatchN  (None, 61, 61, 64)  192         ['conv2d_15[0][0]']              \n",
      " ormalization)                                                                                    \n",
      "                                                                                                  \n",
      " activation_15 (Activation)     (None, 61, 61, 64)   0           ['batch_normalization_15[0][0]'] \n",
      "                                                                                                  \n",
      " conv2d_13 (Conv2D)             (None, 61, 61, 48)   12288       ['mixed0[0][0]']                 \n",
      "                                                                                                  \n",
      " conv2d_16 (Conv2D)             (None, 61, 61, 96)   55296       ['activation_15[0][0]']          \n",
      "                                                                                                  \n",
      " batch_normalization_13 (BatchN  (None, 61, 61, 48)  144         ['conv2d_13[0][0]']              \n",
      " ormalization)                                                                                    \n",
      "                                                                                                  \n",
      " batch_normalization_16 (BatchN  (None, 61, 61, 96)  288         ['conv2d_16[0][0]']              \n",
      " ormalization)                                                                                    \n",
      "                                                                                                  \n",
      " activation_13 (Activation)     (None, 61, 61, 48)   0           ['batch_normalization_13[0][0]'] \n",
      "                                                                                                  \n",
      " activation_16 (Activation)     (None, 61, 61, 96)   0           ['batch_normalization_16[0][0]'] \n",
      "                                                                                                  \n",
      " average_pooling2d_1 (AveragePo  (None, 61, 61, 256)  0          ['mixed0[0][0]']                 \n",
      " oling2D)                                                                                         \n",
      "                                                                                                  \n",
      " conv2d_12 (Conv2D)             (None, 61, 61, 64)   16384       ['mixed0[0][0]']                 \n",
      "                                                                                                  \n",
      " conv2d_14 (Conv2D)             (None, 61, 61, 64)   76800       ['activation_13[0][0]']          \n",
      "                                                                                                  \n",
      " conv2d_17 (Conv2D)             (None, 61, 61, 96)   82944       ['activation_16[0][0]']          \n",
      "                                                                                                  \n",
      " conv2d_18 (Conv2D)             (None, 61, 61, 64)   16384       ['average_pooling2d_1[0][0]']    \n",
      "                                                                                                  \n",
      " batch_normalization_12 (BatchN  (None, 61, 61, 64)  192         ['conv2d_12[0][0]']              \n",
      " ormalization)                                                                                    \n",
      "                                                                                                  \n",
      " batch_normalization_14 (BatchN  (None, 61, 61, 64)  192         ['conv2d_14[0][0]']              \n",
      " ormalization)                                                                                    \n",
      "                                                                                                  \n",
      " batch_normalization_17 (BatchN  (None, 61, 61, 96)  288         ['conv2d_17[0][0]']              \n",
      " ormalization)                                                                                    \n",
      "                                                                                                  \n",
      " batch_normalization_18 (BatchN  (None, 61, 61, 64)  192         ['conv2d_18[0][0]']              \n",
      " ormalization)                                                                                    \n",
      "                                                                                                  \n",
      " activation_12 (Activation)     (None, 61, 61, 64)   0           ['batch_normalization_12[0][0]'] \n",
      "                                                                                                  \n",
      " activation_14 (Activation)     (None, 61, 61, 64)   0           ['batch_normalization_14[0][0]'] \n",
      "                                                                                                  \n",
      " activation_17 (Activation)     (None, 61, 61, 96)   0           ['batch_normalization_17[0][0]'] \n",
      "                                                                                                  \n",
      " activation_18 (Activation)     (None, 61, 61, 64)   0           ['batch_normalization_18[0][0]'] \n",
      "                                                                                                  \n",
      " mixed1 (Concatenate)           (None, 61, 61, 288)  0           ['activation_12[0][0]',          \n"
     ]
    },
    {
     "name": "stdout",
     "output_type": "stream",
     "text": [
      "                                                                  'activation_14[0][0]',          \n",
      "                                                                  'activation_17[0][0]',          \n",
      "                                                                  'activation_18[0][0]']          \n",
      "                                                                                                  \n",
      " conv2d_22 (Conv2D)             (None, 61, 61, 64)   18432       ['mixed1[0][0]']                 \n",
      "                                                                                                  \n",
      " batch_normalization_22 (BatchN  (None, 61, 61, 64)  192         ['conv2d_22[0][0]']              \n",
      " ormalization)                                                                                    \n",
      "                                                                                                  \n",
      " activation_22 (Activation)     (None, 61, 61, 64)   0           ['batch_normalization_22[0][0]'] \n",
      "                                                                                                  \n",
      " conv2d_20 (Conv2D)             (None, 61, 61, 48)   13824       ['mixed1[0][0]']                 \n",
      "                                                                                                  \n",
      " conv2d_23 (Conv2D)             (None, 61, 61, 96)   55296       ['activation_22[0][0]']          \n",
      "                                                                                                  \n",
      " batch_normalization_20 (BatchN  (None, 61, 61, 48)  144         ['conv2d_20[0][0]']              \n",
      " ormalization)                                                                                    \n",
      "                                                                                                  \n",
      " batch_normalization_23 (BatchN  (None, 61, 61, 96)  288         ['conv2d_23[0][0]']              \n",
      " ormalization)                                                                                    \n",
      "                                                                                                  \n",
      " activation_20 (Activation)     (None, 61, 61, 48)   0           ['batch_normalization_20[0][0]'] \n",
      "                                                                                                  \n",
      " activation_23 (Activation)     (None, 61, 61, 96)   0           ['batch_normalization_23[0][0]'] \n",
      "                                                                                                  \n",
      " average_pooling2d_2 (AveragePo  (None, 61, 61, 288)  0          ['mixed1[0][0]']                 \n",
      " oling2D)                                                                                         \n",
      "                                                                                                  \n",
      " conv2d_19 (Conv2D)             (None, 61, 61, 64)   18432       ['mixed1[0][0]']                 \n",
      "                                                                                                  \n",
      " conv2d_21 (Conv2D)             (None, 61, 61, 64)   76800       ['activation_20[0][0]']          \n",
      "                                                                                                  \n",
      " conv2d_24 (Conv2D)             (None, 61, 61, 96)   82944       ['activation_23[0][0]']          \n",
      "                                                                                                  \n",
      " conv2d_25 (Conv2D)             (None, 61, 61, 64)   18432       ['average_pooling2d_2[0][0]']    \n",
      "                                                                                                  \n",
      " batch_normalization_19 (BatchN  (None, 61, 61, 64)  192         ['conv2d_19[0][0]']              \n",
      " ormalization)                                                                                    \n",
      "                                                                                                  \n",
      " batch_normalization_21 (BatchN  (None, 61, 61, 64)  192         ['conv2d_21[0][0]']              \n",
      " ormalization)                                                                                    \n",
      "                                                                                                  \n",
      " batch_normalization_24 (BatchN  (None, 61, 61, 96)  288         ['conv2d_24[0][0]']              \n",
      " ormalization)                                                                                    \n",
      "                                                                                                  \n",
      " batch_normalization_25 (BatchN  (None, 61, 61, 64)  192         ['conv2d_25[0][0]']              \n",
      " ormalization)                                                                                    \n",
      "                                                                                                  \n",
      " activation_19 (Activation)     (None, 61, 61, 64)   0           ['batch_normalization_19[0][0]'] \n",
      "                                                                                                  \n",
      " activation_21 (Activation)     (None, 61, 61, 64)   0           ['batch_normalization_21[0][0]'] \n",
      "                                                                                                  \n",
      " activation_24 (Activation)     (None, 61, 61, 96)   0           ['batch_normalization_24[0][0]'] \n",
      "                                                                                                  \n",
      " activation_25 (Activation)     (None, 61, 61, 64)   0           ['batch_normalization_25[0][0]'] \n",
      "                                                                                                  \n",
      " mixed2 (Concatenate)           (None, 61, 61, 288)  0           ['activation_19[0][0]',          \n",
      "                                                                  'activation_21[0][0]',          \n",
      "                                                                  'activation_24[0][0]',          \n",
      "                                                                  'activation_25[0][0]']          \n",
      "                                                                                                  \n",
      " conv2d_27 (Conv2D)             (None, 61, 61, 64)   18432       ['mixed2[0][0]']                 \n",
      "                                                                                                  \n",
      " batch_normalization_27 (BatchN  (None, 61, 61, 64)  192         ['conv2d_27[0][0]']              \n",
      " ormalization)                                                                                    \n",
      "                                                                                                  \n",
      " activation_27 (Activation)     (None, 61, 61, 64)   0           ['batch_normalization_27[0][0]'] \n",
      "                                                                                                  \n",
      " conv2d_28 (Conv2D)             (None, 61, 61, 96)   55296       ['activation_27[0][0]']          \n",
      "                                                                                                  \n",
      " batch_normalization_28 (BatchN  (None, 61, 61, 96)  288         ['conv2d_28[0][0]']              \n",
      " ormalization)                                                                                    \n",
      "                                                                                                  \n",
      " activation_28 (Activation)     (None, 61, 61, 96)   0           ['batch_normalization_28[0][0]'] \n",
      "                                                                                                  \n",
      " conv2d_26 (Conv2D)             (None, 30, 30, 384)  995328      ['mixed2[0][0]']                 \n",
      "                                                                                                  \n",
      " conv2d_29 (Conv2D)             (None, 30, 30, 96)   82944       ['activation_28[0][0]']          \n",
      "                                                                                                  \n",
      " batch_normalization_26 (BatchN  (None, 30, 30, 384)  1152       ['conv2d_26[0][0]']              \n",
      " ormalization)                                                                                    \n",
      "                                                                                                  \n",
      " batch_normalization_29 (BatchN  (None, 30, 30, 96)  288         ['conv2d_29[0][0]']              \n"
     ]
    },
    {
     "name": "stdout",
     "output_type": "stream",
     "text": [
      " ormalization)                                                                                    \n",
      "                                                                                                  \n",
      " activation_26 (Activation)     (None, 30, 30, 384)  0           ['batch_normalization_26[0][0]'] \n",
      "                                                                                                  \n",
      " activation_29 (Activation)     (None, 30, 30, 96)   0           ['batch_normalization_29[0][0]'] \n",
      "                                                                                                  \n",
      " max_pooling2d_2 (MaxPooling2D)  (None, 30, 30, 288)  0          ['mixed2[0][0]']                 \n",
      "                                                                                                  \n",
      " mixed3 (Concatenate)           (None, 30, 30, 768)  0           ['activation_26[0][0]',          \n",
      "                                                                  'activation_29[0][0]',          \n",
      "                                                                  'max_pooling2d_2[0][0]']        \n",
      "                                                                                                  \n",
      " conv2d_34 (Conv2D)             (None, 30, 30, 128)  98304       ['mixed3[0][0]']                 \n",
      "                                                                                                  \n",
      " batch_normalization_34 (BatchN  (None, 30, 30, 128)  384        ['conv2d_34[0][0]']              \n",
      " ormalization)                                                                                    \n",
      "                                                                                                  \n",
      " activation_34 (Activation)     (None, 30, 30, 128)  0           ['batch_normalization_34[0][0]'] \n",
      "                                                                                                  \n",
      " conv2d_35 (Conv2D)             (None, 30, 30, 128)  114688      ['activation_34[0][0]']          \n",
      "                                                                                                  \n",
      " batch_normalization_35 (BatchN  (None, 30, 30, 128)  384        ['conv2d_35[0][0]']              \n",
      " ormalization)                                                                                    \n",
      "                                                                                                  \n",
      " activation_35 (Activation)     (None, 30, 30, 128)  0           ['batch_normalization_35[0][0]'] \n",
      "                                                                                                  \n",
      " conv2d_31 (Conv2D)             (None, 30, 30, 128)  98304       ['mixed3[0][0]']                 \n",
      "                                                                                                  \n",
      " conv2d_36 (Conv2D)             (None, 30, 30, 128)  114688      ['activation_35[0][0]']          \n",
      "                                                                                                  \n",
      " batch_normalization_31 (BatchN  (None, 30, 30, 128)  384        ['conv2d_31[0][0]']              \n",
      " ormalization)                                                                                    \n",
      "                                                                                                  \n",
      " batch_normalization_36 (BatchN  (None, 30, 30, 128)  384        ['conv2d_36[0][0]']              \n",
      " ormalization)                                                                                    \n",
      "                                                                                                  \n",
      " activation_31 (Activation)     (None, 30, 30, 128)  0           ['batch_normalization_31[0][0]'] \n",
      "                                                                                                  \n",
      " activation_36 (Activation)     (None, 30, 30, 128)  0           ['batch_normalization_36[0][0]'] \n",
      "                                                                                                  \n",
      " conv2d_32 (Conv2D)             (None, 30, 30, 128)  114688      ['activation_31[0][0]']          \n",
      "                                                                                                  \n",
      " conv2d_37 (Conv2D)             (None, 30, 30, 128)  114688      ['activation_36[0][0]']          \n",
      "                                                                                                  \n",
      " batch_normalization_32 (BatchN  (None, 30, 30, 128)  384        ['conv2d_32[0][0]']              \n",
      " ormalization)                                                                                    \n",
      "                                                                                                  \n",
      " batch_normalization_37 (BatchN  (None, 30, 30, 128)  384        ['conv2d_37[0][0]']              \n",
      " ormalization)                                                                                    \n",
      "                                                                                                  \n",
      " activation_32 (Activation)     (None, 30, 30, 128)  0           ['batch_normalization_32[0][0]'] \n",
      "                                                                                                  \n",
      " activation_37 (Activation)     (None, 30, 30, 128)  0           ['batch_normalization_37[0][0]'] \n",
      "                                                                                                  \n",
      " average_pooling2d_3 (AveragePo  (None, 30, 30, 768)  0          ['mixed3[0][0]']                 \n",
      " oling2D)                                                                                         \n",
      "                                                                                                  \n",
      " conv2d_30 (Conv2D)             (None, 30, 30, 192)  147456      ['mixed3[0][0]']                 \n",
      "                                                                                                  \n",
      " conv2d_33 (Conv2D)             (None, 30, 30, 192)  172032      ['activation_32[0][0]']          \n",
      "                                                                                                  \n",
      " conv2d_38 (Conv2D)             (None, 30, 30, 192)  172032      ['activation_37[0][0]']          \n",
      "                                                                                                  \n",
      " conv2d_39 (Conv2D)             (None, 30, 30, 192)  147456      ['average_pooling2d_3[0][0]']    \n",
      "                                                                                                  \n",
      " batch_normalization_30 (BatchN  (None, 30, 30, 192)  576        ['conv2d_30[0][0]']              \n",
      " ormalization)                                                                                    \n",
      "                                                                                                  \n",
      " batch_normalization_33 (BatchN  (None, 30, 30, 192)  576        ['conv2d_33[0][0]']              \n",
      " ormalization)                                                                                    \n",
      "                                                                                                  \n",
      " batch_normalization_38 (BatchN  (None, 30, 30, 192)  576        ['conv2d_38[0][0]']              \n",
      " ormalization)                                                                                    \n",
      "                                                                                                  \n",
      " batch_normalization_39 (BatchN  (None, 30, 30, 192)  576        ['conv2d_39[0][0]']              \n",
      " ormalization)                                                                                    \n",
      "                                                                                                  \n",
      " activation_30 (Activation)     (None, 30, 30, 192)  0           ['batch_normalization_30[0][0]'] \n",
      "                                                                                                  \n",
      " activation_33 (Activation)     (None, 30, 30, 192)  0           ['batch_normalization_33[0][0]'] \n",
      "                                                                                                  \n",
      " activation_38 (Activation)     (None, 30, 30, 192)  0           ['batch_normalization_38[0][0]'] \n",
      "                                                                                                  \n"
     ]
    },
    {
     "name": "stdout",
     "output_type": "stream",
     "text": [
      " activation_39 (Activation)     (None, 30, 30, 192)  0           ['batch_normalization_39[0][0]'] \n",
      "                                                                                                  \n",
      " mixed4 (Concatenate)           (None, 30, 30, 768)  0           ['activation_30[0][0]',          \n",
      "                                                                  'activation_33[0][0]',          \n",
      "                                                                  'activation_38[0][0]',          \n",
      "                                                                  'activation_39[0][0]']          \n",
      "                                                                                                  \n",
      " conv2d_44 (Conv2D)             (None, 30, 30, 160)  122880      ['mixed4[0][0]']                 \n",
      "                                                                                                  \n",
      " batch_normalization_44 (BatchN  (None, 30, 30, 160)  480        ['conv2d_44[0][0]']              \n",
      " ormalization)                                                                                    \n",
      "                                                                                                  \n",
      " activation_44 (Activation)     (None, 30, 30, 160)  0           ['batch_normalization_44[0][0]'] \n",
      "                                                                                                  \n",
      " conv2d_45 (Conv2D)             (None, 30, 30, 160)  179200      ['activation_44[0][0]']          \n",
      "                                                                                                  \n",
      " batch_normalization_45 (BatchN  (None, 30, 30, 160)  480        ['conv2d_45[0][0]']              \n",
      " ormalization)                                                                                    \n",
      "                                                                                                  \n",
      " activation_45 (Activation)     (None, 30, 30, 160)  0           ['batch_normalization_45[0][0]'] \n",
      "                                                                                                  \n",
      " conv2d_41 (Conv2D)             (None, 30, 30, 160)  122880      ['mixed4[0][0]']                 \n",
      "                                                                                                  \n",
      " conv2d_46 (Conv2D)             (None, 30, 30, 160)  179200      ['activation_45[0][0]']          \n",
      "                                                                                                  \n",
      " batch_normalization_41 (BatchN  (None, 30, 30, 160)  480        ['conv2d_41[0][0]']              \n",
      " ormalization)                                                                                    \n",
      "                                                                                                  \n",
      " batch_normalization_46 (BatchN  (None, 30, 30, 160)  480        ['conv2d_46[0][0]']              \n",
      " ormalization)                                                                                    \n",
      "                                                                                                  \n",
      " activation_41 (Activation)     (None, 30, 30, 160)  0           ['batch_normalization_41[0][0]'] \n",
      "                                                                                                  \n",
      " activation_46 (Activation)     (None, 30, 30, 160)  0           ['batch_normalization_46[0][0]'] \n",
      "                                                                                                  \n",
      " conv2d_42 (Conv2D)             (None, 30, 30, 160)  179200      ['activation_41[0][0]']          \n",
      "                                                                                                  \n",
      " conv2d_47 (Conv2D)             (None, 30, 30, 160)  179200      ['activation_46[0][0]']          \n",
      "                                                                                                  \n",
      " batch_normalization_42 (BatchN  (None, 30, 30, 160)  480        ['conv2d_42[0][0]']              \n",
      " ormalization)                                                                                    \n",
      "                                                                                                  \n",
      " batch_normalization_47 (BatchN  (None, 30, 30, 160)  480        ['conv2d_47[0][0]']              \n",
      " ormalization)                                                                                    \n",
      "                                                                                                  \n",
      " activation_42 (Activation)     (None, 30, 30, 160)  0           ['batch_normalization_42[0][0]'] \n",
      "                                                                                                  \n",
      " activation_47 (Activation)     (None, 30, 30, 160)  0           ['batch_normalization_47[0][0]'] \n",
      "                                                                                                  \n",
      " average_pooling2d_4 (AveragePo  (None, 30, 30, 768)  0          ['mixed4[0][0]']                 \n",
      " oling2D)                                                                                         \n",
      "                                                                                                  \n",
      " conv2d_40 (Conv2D)             (None, 30, 30, 192)  147456      ['mixed4[0][0]']                 \n",
      "                                                                                                  \n",
      " conv2d_43 (Conv2D)             (None, 30, 30, 192)  215040      ['activation_42[0][0]']          \n",
      "                                                                                                  \n",
      " conv2d_48 (Conv2D)             (None, 30, 30, 192)  215040      ['activation_47[0][0]']          \n",
      "                                                                                                  \n",
      " conv2d_49 (Conv2D)             (None, 30, 30, 192)  147456      ['average_pooling2d_4[0][0]']    \n",
      "                                                                                                  \n",
      " batch_normalization_40 (BatchN  (None, 30, 30, 192)  576        ['conv2d_40[0][0]']              \n",
      " ormalization)                                                                                    \n",
      "                                                                                                  \n",
      " batch_normalization_43 (BatchN  (None, 30, 30, 192)  576        ['conv2d_43[0][0]']              \n",
      " ormalization)                                                                                    \n",
      "                                                                                                  \n",
      " batch_normalization_48 (BatchN  (None, 30, 30, 192)  576        ['conv2d_48[0][0]']              \n",
      " ormalization)                                                                                    \n",
      "                                                                                                  \n",
      " batch_normalization_49 (BatchN  (None, 30, 30, 192)  576        ['conv2d_49[0][0]']              \n",
      " ormalization)                                                                                    \n",
      "                                                                                                  \n",
      " activation_40 (Activation)     (None, 30, 30, 192)  0           ['batch_normalization_40[0][0]'] \n",
      "                                                                                                  \n",
      " activation_43 (Activation)     (None, 30, 30, 192)  0           ['batch_normalization_43[0][0]'] \n",
      "                                                                                                  \n",
      " activation_48 (Activation)     (None, 30, 30, 192)  0           ['batch_normalization_48[0][0]'] \n",
      "                                                                                                  \n",
      " activation_49 (Activation)     (None, 30, 30, 192)  0           ['batch_normalization_49[0][0]'] \n",
      "                                                                                                  \n",
      " mixed5 (Concatenate)           (None, 30, 30, 768)  0           ['activation_40[0][0]',          \n",
      "                                                                  'activation_43[0][0]',          \n",
      "                                                                  'activation_48[0][0]',          \n"
     ]
    },
    {
     "name": "stdout",
     "output_type": "stream",
     "text": [
      "                                                                  'activation_49[0][0]']          \n",
      "                                                                                                  \n",
      " conv2d_54 (Conv2D)             (None, 30, 30, 160)  122880      ['mixed5[0][0]']                 \n",
      "                                                                                                  \n",
      " batch_normalization_54 (BatchN  (None, 30, 30, 160)  480        ['conv2d_54[0][0]']              \n",
      " ormalization)                                                                                    \n",
      "                                                                                                  \n",
      " activation_54 (Activation)     (None, 30, 30, 160)  0           ['batch_normalization_54[0][0]'] \n",
      "                                                                                                  \n",
      " conv2d_55 (Conv2D)             (None, 30, 30, 160)  179200      ['activation_54[0][0]']          \n",
      "                                                                                                  \n",
      " batch_normalization_55 (BatchN  (None, 30, 30, 160)  480        ['conv2d_55[0][0]']              \n",
      " ormalization)                                                                                    \n",
      "                                                                                                  \n",
      " activation_55 (Activation)     (None, 30, 30, 160)  0           ['batch_normalization_55[0][0]'] \n",
      "                                                                                                  \n",
      " conv2d_51 (Conv2D)             (None, 30, 30, 160)  122880      ['mixed5[0][0]']                 \n",
      "                                                                                                  \n",
      " conv2d_56 (Conv2D)             (None, 30, 30, 160)  179200      ['activation_55[0][0]']          \n",
      "                                                                                                  \n",
      " batch_normalization_51 (BatchN  (None, 30, 30, 160)  480        ['conv2d_51[0][0]']              \n",
      " ormalization)                                                                                    \n",
      "                                                                                                  \n",
      " batch_normalization_56 (BatchN  (None, 30, 30, 160)  480        ['conv2d_56[0][0]']              \n",
      " ormalization)                                                                                    \n",
      "                                                                                                  \n",
      " activation_51 (Activation)     (None, 30, 30, 160)  0           ['batch_normalization_51[0][0]'] \n",
      "                                                                                                  \n",
      " activation_56 (Activation)     (None, 30, 30, 160)  0           ['batch_normalization_56[0][0]'] \n",
      "                                                                                                  \n",
      " conv2d_52 (Conv2D)             (None, 30, 30, 160)  179200      ['activation_51[0][0]']          \n",
      "                                                                                                  \n",
      " conv2d_57 (Conv2D)             (None, 30, 30, 160)  179200      ['activation_56[0][0]']          \n",
      "                                                                                                  \n",
      " batch_normalization_52 (BatchN  (None, 30, 30, 160)  480        ['conv2d_52[0][0]']              \n",
      " ormalization)                                                                                    \n",
      "                                                                                                  \n",
      " batch_normalization_57 (BatchN  (None, 30, 30, 160)  480        ['conv2d_57[0][0]']              \n",
      " ormalization)                                                                                    \n",
      "                                                                                                  \n",
      " activation_52 (Activation)     (None, 30, 30, 160)  0           ['batch_normalization_52[0][0]'] \n",
      "                                                                                                  \n",
      " activation_57 (Activation)     (None, 30, 30, 160)  0           ['batch_normalization_57[0][0]'] \n",
      "                                                                                                  \n",
      " average_pooling2d_5 (AveragePo  (None, 30, 30, 768)  0          ['mixed5[0][0]']                 \n",
      " oling2D)                                                                                         \n",
      "                                                                                                  \n",
      " conv2d_50 (Conv2D)             (None, 30, 30, 192)  147456      ['mixed5[0][0]']                 \n",
      "                                                                                                  \n",
      " conv2d_53 (Conv2D)             (None, 30, 30, 192)  215040      ['activation_52[0][0]']          \n",
      "                                                                                                  \n",
      " conv2d_58 (Conv2D)             (None, 30, 30, 192)  215040      ['activation_57[0][0]']          \n",
      "                                                                                                  \n",
      " conv2d_59 (Conv2D)             (None, 30, 30, 192)  147456      ['average_pooling2d_5[0][0]']    \n",
      "                                                                                                  \n",
      " batch_normalization_50 (BatchN  (None, 30, 30, 192)  576        ['conv2d_50[0][0]']              \n",
      " ormalization)                                                                                    \n",
      "                                                                                                  \n",
      " batch_normalization_53 (BatchN  (None, 30, 30, 192)  576        ['conv2d_53[0][0]']              \n",
      " ormalization)                                                                                    \n",
      "                                                                                                  \n",
      " batch_normalization_58 (BatchN  (None, 30, 30, 192)  576        ['conv2d_58[0][0]']              \n",
      " ormalization)                                                                                    \n",
      "                                                                                                  \n",
      " batch_normalization_59 (BatchN  (None, 30, 30, 192)  576        ['conv2d_59[0][0]']              \n",
      " ormalization)                                                                                    \n",
      "                                                                                                  \n",
      " activation_50 (Activation)     (None, 30, 30, 192)  0           ['batch_normalization_50[0][0]'] \n",
      "                                                                                                  \n",
      " activation_53 (Activation)     (None, 30, 30, 192)  0           ['batch_normalization_53[0][0]'] \n",
      "                                                                                                  \n",
      " activation_58 (Activation)     (None, 30, 30, 192)  0           ['batch_normalization_58[0][0]'] \n",
      "                                                                                                  \n",
      " activation_59 (Activation)     (None, 30, 30, 192)  0           ['batch_normalization_59[0][0]'] \n",
      "                                                                                                  \n",
      " mixed6 (Concatenate)           (None, 30, 30, 768)  0           ['activation_50[0][0]',          \n",
      "                                                                  'activation_53[0][0]',          \n",
      "                                                                  'activation_58[0][0]',          \n",
      "                                                                  'activation_59[0][0]']          \n",
      "                                                                                                  \n",
      " conv2d_64 (Conv2D)             (None, 30, 30, 192)  147456      ['mixed6[0][0]']                 \n",
      "                                                                                                  \n",
      " batch_normalization_64 (BatchN  (None, 30, 30, 192)  576        ['conv2d_64[0][0]']              \n"
     ]
    },
    {
     "name": "stdout",
     "output_type": "stream",
     "text": [
      " ormalization)                                                                                    \n",
      "                                                                                                  \n",
      " activation_64 (Activation)     (None, 30, 30, 192)  0           ['batch_normalization_64[0][0]'] \n",
      "                                                                                                  \n",
      " conv2d_65 (Conv2D)             (None, 30, 30, 192)  258048      ['activation_64[0][0]']          \n",
      "                                                                                                  \n",
      " batch_normalization_65 (BatchN  (None, 30, 30, 192)  576        ['conv2d_65[0][0]']              \n",
      " ormalization)                                                                                    \n",
      "                                                                                                  \n",
      " activation_65 (Activation)     (None, 30, 30, 192)  0           ['batch_normalization_65[0][0]'] \n",
      "                                                                                                  \n",
      " conv2d_61 (Conv2D)             (None, 30, 30, 192)  147456      ['mixed6[0][0]']                 \n",
      "                                                                                                  \n",
      " conv2d_66 (Conv2D)             (None, 30, 30, 192)  258048      ['activation_65[0][0]']          \n",
      "                                                                                                  \n",
      " batch_normalization_61 (BatchN  (None, 30, 30, 192)  576        ['conv2d_61[0][0]']              \n",
      " ormalization)                                                                                    \n",
      "                                                                                                  \n",
      " batch_normalization_66 (BatchN  (None, 30, 30, 192)  576        ['conv2d_66[0][0]']              \n",
      " ormalization)                                                                                    \n",
      "                                                                                                  \n",
      " activation_61 (Activation)     (None, 30, 30, 192)  0           ['batch_normalization_61[0][0]'] \n",
      "                                                                                                  \n",
      " activation_66 (Activation)     (None, 30, 30, 192)  0           ['batch_normalization_66[0][0]'] \n",
      "                                                                                                  \n",
      " conv2d_62 (Conv2D)             (None, 30, 30, 192)  258048      ['activation_61[0][0]']          \n",
      "                                                                                                  \n",
      " conv2d_67 (Conv2D)             (None, 30, 30, 192)  258048      ['activation_66[0][0]']          \n",
      "                                                                                                  \n",
      " batch_normalization_62 (BatchN  (None, 30, 30, 192)  576        ['conv2d_62[0][0]']              \n",
      " ormalization)                                                                                    \n",
      "                                                                                                  \n",
      " batch_normalization_67 (BatchN  (None, 30, 30, 192)  576        ['conv2d_67[0][0]']              \n",
      " ormalization)                                                                                    \n",
      "                                                                                                  \n",
      " activation_62 (Activation)     (None, 30, 30, 192)  0           ['batch_normalization_62[0][0]'] \n",
      "                                                                                                  \n",
      " activation_67 (Activation)     (None, 30, 30, 192)  0           ['batch_normalization_67[0][0]'] \n",
      "                                                                                                  \n",
      " average_pooling2d_6 (AveragePo  (None, 30, 30, 768)  0          ['mixed6[0][0]']                 \n",
      " oling2D)                                                                                         \n",
      "                                                                                                  \n",
      " conv2d_60 (Conv2D)             (None, 30, 30, 192)  147456      ['mixed6[0][0]']                 \n",
      "                                                                                                  \n",
      " conv2d_63 (Conv2D)             (None, 30, 30, 192)  258048      ['activation_62[0][0]']          \n",
      "                                                                                                  \n",
      " conv2d_68 (Conv2D)             (None, 30, 30, 192)  258048      ['activation_67[0][0]']          \n",
      "                                                                                                  \n",
      " conv2d_69 (Conv2D)             (None, 30, 30, 192)  147456      ['average_pooling2d_6[0][0]']    \n",
      "                                                                                                  \n",
      " batch_normalization_60 (BatchN  (None, 30, 30, 192)  576        ['conv2d_60[0][0]']              \n",
      " ormalization)                                                                                    \n",
      "                                                                                                  \n",
      " batch_normalization_63 (BatchN  (None, 30, 30, 192)  576        ['conv2d_63[0][0]']              \n",
      " ormalization)                                                                                    \n",
      "                                                                                                  \n",
      " batch_normalization_68 (BatchN  (None, 30, 30, 192)  576        ['conv2d_68[0][0]']              \n",
      " ormalization)                                                                                    \n",
      "                                                                                                  \n",
      " batch_normalization_69 (BatchN  (None, 30, 30, 192)  576        ['conv2d_69[0][0]']              \n",
      " ormalization)                                                                                    \n",
      "                                                                                                  \n",
      " activation_60 (Activation)     (None, 30, 30, 192)  0           ['batch_normalization_60[0][0]'] \n",
      "                                                                                                  \n",
      " activation_63 (Activation)     (None, 30, 30, 192)  0           ['batch_normalization_63[0][0]'] \n",
      "                                                                                                  \n",
      " activation_68 (Activation)     (None, 30, 30, 192)  0           ['batch_normalization_68[0][0]'] \n",
      "                                                                                                  \n",
      " activation_69 (Activation)     (None, 30, 30, 192)  0           ['batch_normalization_69[0][0]'] \n",
      "                                                                                                  \n",
      " mixed7 (Concatenate)           (None, 30, 30, 768)  0           ['activation_60[0][0]',          \n",
      "                                                                  'activation_63[0][0]',          \n",
      "                                                                  'activation_68[0][0]',          \n",
      "                                                                  'activation_69[0][0]']          \n",
      "                                                                                                  \n",
      " conv2d_72 (Conv2D)             (None, 30, 30, 192)  147456      ['mixed7[0][0]']                 \n",
      "                                                                                                  \n",
      " batch_normalization_72 (BatchN  (None, 30, 30, 192)  576        ['conv2d_72[0][0]']              \n",
      " ormalization)                                                                                    \n",
      "                                                                                                  \n",
      " activation_72 (Activation)     (None, 30, 30, 192)  0           ['batch_normalization_72[0][0]'] \n",
      "                                                                                                  \n",
      " conv2d_73 (Conv2D)             (None, 30, 30, 192)  258048      ['activation_72[0][0]']          \n"
     ]
    },
    {
     "name": "stdout",
     "output_type": "stream",
     "text": [
      "                                                                                                  \n",
      " batch_normalization_73 (BatchN  (None, 30, 30, 192)  576        ['conv2d_73[0][0]']              \n",
      " ormalization)                                                                                    \n",
      "                                                                                                  \n",
      " activation_73 (Activation)     (None, 30, 30, 192)  0           ['batch_normalization_73[0][0]'] \n",
      "                                                                                                  \n",
      " conv2d_70 (Conv2D)             (None, 30, 30, 192)  147456      ['mixed7[0][0]']                 \n",
      "                                                                                                  \n",
      " conv2d_74 (Conv2D)             (None, 30, 30, 192)  258048      ['activation_73[0][0]']          \n",
      "                                                                                                  \n",
      " batch_normalization_70 (BatchN  (None, 30, 30, 192)  576        ['conv2d_70[0][0]']              \n",
      " ormalization)                                                                                    \n",
      "                                                                                                  \n",
      " batch_normalization_74 (BatchN  (None, 30, 30, 192)  576        ['conv2d_74[0][0]']              \n",
      " ormalization)                                                                                    \n",
      "                                                                                                  \n",
      " activation_70 (Activation)     (None, 30, 30, 192)  0           ['batch_normalization_70[0][0]'] \n",
      "                                                                                                  \n",
      " activation_74 (Activation)     (None, 30, 30, 192)  0           ['batch_normalization_74[0][0]'] \n",
      "                                                                                                  \n",
      " conv2d_71 (Conv2D)             (None, 14, 14, 320)  552960      ['activation_70[0][0]']          \n",
      "                                                                                                  \n",
      " conv2d_75 (Conv2D)             (None, 14, 14, 192)  331776      ['activation_74[0][0]']          \n",
      "                                                                                                  \n",
      " batch_normalization_71 (BatchN  (None, 14, 14, 320)  960        ['conv2d_71[0][0]']              \n",
      " ormalization)                                                                                    \n",
      "                                                                                                  \n",
      " batch_normalization_75 (BatchN  (None, 14, 14, 192)  576        ['conv2d_75[0][0]']              \n",
      " ormalization)                                                                                    \n",
      "                                                                                                  \n",
      " activation_71 (Activation)     (None, 14, 14, 320)  0           ['batch_normalization_71[0][0]'] \n",
      "                                                                                                  \n",
      " activation_75 (Activation)     (None, 14, 14, 192)  0           ['batch_normalization_75[0][0]'] \n",
      "                                                                                                  \n",
      " max_pooling2d_3 (MaxPooling2D)  (None, 14, 14, 768)  0          ['mixed7[0][0]']                 \n",
      "                                                                                                  \n",
      " mixed8 (Concatenate)           (None, 14, 14, 1280  0           ['activation_71[0][0]',          \n",
      "                                )                                 'activation_75[0][0]',          \n",
      "                                                                  'max_pooling2d_3[0][0]']        \n",
      "                                                                                                  \n",
      " conv2d_80 (Conv2D)             (None, 14, 14, 448)  573440      ['mixed8[0][0]']                 \n",
      "                                                                                                  \n",
      " batch_normalization_80 (BatchN  (None, 14, 14, 448)  1344       ['conv2d_80[0][0]']              \n",
      " ormalization)                                                                                    \n",
      "                                                                                                  \n",
      " activation_80 (Activation)     (None, 14, 14, 448)  0           ['batch_normalization_80[0][0]'] \n",
      "                                                                                                  \n",
      " conv2d_77 (Conv2D)             (None, 14, 14, 384)  491520      ['mixed8[0][0]']                 \n",
      "                                                                                                  \n",
      " conv2d_81 (Conv2D)             (None, 14, 14, 384)  1548288     ['activation_80[0][0]']          \n",
      "                                                                                                  \n",
      " batch_normalization_77 (BatchN  (None, 14, 14, 384)  1152       ['conv2d_77[0][0]']              \n",
      " ormalization)                                                                                    \n",
      "                                                                                                  \n",
      " batch_normalization_81 (BatchN  (None, 14, 14, 384)  1152       ['conv2d_81[0][0]']              \n",
      " ormalization)                                                                                    \n",
      "                                                                                                  \n",
      " activation_77 (Activation)     (None, 14, 14, 384)  0           ['batch_normalization_77[0][0]'] \n",
      "                                                                                                  \n",
      " activation_81 (Activation)     (None, 14, 14, 384)  0           ['batch_normalization_81[0][0]'] \n",
      "                                                                                                  \n",
      " conv2d_78 (Conv2D)             (None, 14, 14, 384)  442368      ['activation_77[0][0]']          \n",
      "                                                                                                  \n",
      " conv2d_79 (Conv2D)             (None, 14, 14, 384)  442368      ['activation_77[0][0]']          \n",
      "                                                                                                  \n",
      " conv2d_82 (Conv2D)             (None, 14, 14, 384)  442368      ['activation_81[0][0]']          \n",
      "                                                                                                  \n",
      " conv2d_83 (Conv2D)             (None, 14, 14, 384)  442368      ['activation_81[0][0]']          \n",
      "                                                                                                  \n",
      " average_pooling2d_7 (AveragePo  (None, 14, 14, 1280  0          ['mixed8[0][0]']                 \n",
      " oling2D)                       )                                                                 \n",
      "                                                                                                  \n",
      " conv2d_76 (Conv2D)             (None, 14, 14, 320)  409600      ['mixed8[0][0]']                 \n",
      "                                                                                                  \n",
      " batch_normalization_78 (BatchN  (None, 14, 14, 384)  1152       ['conv2d_78[0][0]']              \n",
      " ormalization)                                                                                    \n",
      "                                                                                                  \n",
      " batch_normalization_79 (BatchN  (None, 14, 14, 384)  1152       ['conv2d_79[0][0]']              \n",
      " ormalization)                                                                                    \n",
      "                                                                                                  \n",
      " batch_normalization_82 (BatchN  (None, 14, 14, 384)  1152       ['conv2d_82[0][0]']              \n",
      " ormalization)                                                                                    \n",
      "                                                                                                  \n"
     ]
    },
    {
     "name": "stdout",
     "output_type": "stream",
     "text": [
      " batch_normalization_83 (BatchN  (None, 14, 14, 384)  1152       ['conv2d_83[0][0]']              \n",
      " ormalization)                                                                                    \n",
      "                                                                                                  \n",
      " conv2d_84 (Conv2D)             (None, 14, 14, 192)  245760      ['average_pooling2d_7[0][0]']    \n",
      "                                                                                                  \n",
      " batch_normalization_76 (BatchN  (None, 14, 14, 320)  960        ['conv2d_76[0][0]']              \n",
      " ormalization)                                                                                    \n",
      "                                                                                                  \n",
      " activation_78 (Activation)     (None, 14, 14, 384)  0           ['batch_normalization_78[0][0]'] \n",
      "                                                                                                  \n",
      " activation_79 (Activation)     (None, 14, 14, 384)  0           ['batch_normalization_79[0][0]'] \n",
      "                                                                                                  \n",
      " activation_82 (Activation)     (None, 14, 14, 384)  0           ['batch_normalization_82[0][0]'] \n",
      "                                                                                                  \n",
      " activation_83 (Activation)     (None, 14, 14, 384)  0           ['batch_normalization_83[0][0]'] \n",
      "                                                                                                  \n",
      " batch_normalization_84 (BatchN  (None, 14, 14, 192)  576        ['conv2d_84[0][0]']              \n",
      " ormalization)                                                                                    \n",
      "                                                                                                  \n",
      " activation_76 (Activation)     (None, 14, 14, 320)  0           ['batch_normalization_76[0][0]'] \n",
      "                                                                                                  \n",
      " mixed9_0 (Concatenate)         (None, 14, 14, 768)  0           ['activation_78[0][0]',          \n",
      "                                                                  'activation_79[0][0]']          \n",
      "                                                                                                  \n",
      " concatenate (Concatenate)      (None, 14, 14, 768)  0           ['activation_82[0][0]',          \n",
      "                                                                  'activation_83[0][0]']          \n",
      "                                                                                                  \n",
      " activation_84 (Activation)     (None, 14, 14, 192)  0           ['batch_normalization_84[0][0]'] \n",
      "                                                                                                  \n",
      " mixed9 (Concatenate)           (None, 14, 14, 2048  0           ['activation_76[0][0]',          \n",
      "                                )                                 'mixed9_0[0][0]',               \n",
      "                                                                  'concatenate[0][0]',            \n",
      "                                                                  'activation_84[0][0]']          \n",
      "                                                                                                  \n",
      " conv2d_89 (Conv2D)             (None, 14, 14, 448)  917504      ['mixed9[0][0]']                 \n",
      "                                                                                                  \n",
      " batch_normalization_89 (BatchN  (None, 14, 14, 448)  1344       ['conv2d_89[0][0]']              \n",
      " ormalization)                                                                                    \n",
      "                                                                                                  \n",
      " activation_89 (Activation)     (None, 14, 14, 448)  0           ['batch_normalization_89[0][0]'] \n",
      "                                                                                                  \n",
      " conv2d_86 (Conv2D)             (None, 14, 14, 384)  786432      ['mixed9[0][0]']                 \n",
      "                                                                                                  \n",
      " conv2d_90 (Conv2D)             (None, 14, 14, 384)  1548288     ['activation_89[0][0]']          \n",
      "                                                                                                  \n",
      " batch_normalization_86 (BatchN  (None, 14, 14, 384)  1152       ['conv2d_86[0][0]']              \n",
      " ormalization)                                                                                    \n",
      "                                                                                                  \n",
      " batch_normalization_90 (BatchN  (None, 14, 14, 384)  1152       ['conv2d_90[0][0]']              \n",
      " ormalization)                                                                                    \n",
      "                                                                                                  \n",
      " activation_86 (Activation)     (None, 14, 14, 384)  0           ['batch_normalization_86[0][0]'] \n",
      "                                                                                                  \n",
      " activation_90 (Activation)     (None, 14, 14, 384)  0           ['batch_normalization_90[0][0]'] \n",
      "                                                                                                  \n",
      " conv2d_87 (Conv2D)             (None, 14, 14, 384)  442368      ['activation_86[0][0]']          \n",
      "                                                                                                  \n",
      " conv2d_88 (Conv2D)             (None, 14, 14, 384)  442368      ['activation_86[0][0]']          \n",
      "                                                                                                  \n",
      " conv2d_91 (Conv2D)             (None, 14, 14, 384)  442368      ['activation_90[0][0]']          \n",
      "                                                                                                  \n",
      " conv2d_92 (Conv2D)             (None, 14, 14, 384)  442368      ['activation_90[0][0]']          \n",
      "                                                                                                  \n",
      " average_pooling2d_8 (AveragePo  (None, 14, 14, 2048  0          ['mixed9[0][0]']                 \n",
      " oling2D)                       )                                                                 \n",
      "                                                                                                  \n",
      " conv2d_85 (Conv2D)             (None, 14, 14, 320)  655360      ['mixed9[0][0]']                 \n",
      "                                                                                                  \n",
      " batch_normalization_87 (BatchN  (None, 14, 14, 384)  1152       ['conv2d_87[0][0]']              \n",
      " ormalization)                                                                                    \n",
      "                                                                                                  \n",
      " batch_normalization_88 (BatchN  (None, 14, 14, 384)  1152       ['conv2d_88[0][0]']              \n",
      " ormalization)                                                                                    \n",
      "                                                                                                  \n",
      " batch_normalization_91 (BatchN  (None, 14, 14, 384)  1152       ['conv2d_91[0][0]']              \n",
      " ormalization)                                                                                    \n",
      "                                                                                                  \n",
      " batch_normalization_92 (BatchN  (None, 14, 14, 384)  1152       ['conv2d_92[0][0]']              \n",
      " ormalization)                                                                                    \n",
      "                                                                                                  \n",
      " conv2d_93 (Conv2D)             (None, 14, 14, 192)  393216      ['average_pooling2d_8[0][0]']    \n",
      "                                                                                                  \n",
      " batch_normalization_85 (BatchN  (None, 14, 14, 320)  960        ['conv2d_85[0][0]']              \n"
     ]
    },
    {
     "name": "stdout",
     "output_type": "stream",
     "text": [
      " ormalization)                                                                                    \n",
      "                                                                                                  \n",
      " activation_87 (Activation)     (None, 14, 14, 384)  0           ['batch_normalization_87[0][0]'] \n",
      "                                                                                                  \n",
      " activation_88 (Activation)     (None, 14, 14, 384)  0           ['batch_normalization_88[0][0]'] \n",
      "                                                                                                  \n",
      " activation_91 (Activation)     (None, 14, 14, 384)  0           ['batch_normalization_91[0][0]'] \n",
      "                                                                                                  \n",
      " activation_92 (Activation)     (None, 14, 14, 384)  0           ['batch_normalization_92[0][0]'] \n",
      "                                                                                                  \n",
      " batch_normalization_93 (BatchN  (None, 14, 14, 192)  576        ['conv2d_93[0][0]']              \n",
      " ormalization)                                                                                    \n",
      "                                                                                                  \n",
      " activation_85 (Activation)     (None, 14, 14, 320)  0           ['batch_normalization_85[0][0]'] \n",
      "                                                                                                  \n",
      " mixed9_1 (Concatenate)         (None, 14, 14, 768)  0           ['activation_87[0][0]',          \n",
      "                                                                  'activation_88[0][0]']          \n",
      "                                                                                                  \n",
      " concatenate_1 (Concatenate)    (None, 14, 14, 768)  0           ['activation_91[0][0]',          \n",
      "                                                                  'activation_92[0][0]']          \n",
      "                                                                                                  \n",
      " activation_93 (Activation)     (None, 14, 14, 192)  0           ['batch_normalization_93[0][0]'] \n",
      "                                                                                                  \n",
      " mixed10 (Concatenate)          (None, 14, 14, 2048  0           ['activation_85[0][0]',          \n",
      "                                )                                 'mixed9_1[0][0]',               \n",
      "                                                                  'concatenate_1[0][0]',          \n",
      "                                                                  'activation_93[0][0]']          \n",
      "                                                                                                  \n",
      "==================================================================================================\n",
      "Total params: 21,802,784\n",
      "Trainable params: 21,768,352\n",
      "Non-trainable params: 34,432\n",
      "__________________________________________________________________________________________________\n"
     ]
    }
   ],
   "source": [
    "IMG_SIZE = (512, 512, 1)\n",
    "\n",
    "inception = keras.applications.InceptionV3(\n",
    "    weights='imagenet',  # load weights pre-trained on ImageNet.\n",
    "    input_shape=(IMG_SIZE[0], IMG_SIZE[1], 3),  # should have exactly 3 inputs channels because it is pre-trained on RBG images\n",
    "    include_top=False\n",
    "    )\n",
    "\n",
    "inception.summary()"
   ]
  },
  {
   "cell_type": "code",
   "execution_count": 11,
   "id": "3591c771",
   "metadata": {},
   "outputs": [],
   "source": [
    "train_img_ids = cv_img[0]['train']\n",
    "val_img_ids = cv_img[0]['validate']"
   ]
  },
  {
   "cell_type": "code",
   "execution_count": 18,
   "id": "72c315ab-cd0e-4d13-932d-a2c13d27fe7c",
   "metadata": {},
   "outputs": [],
   "source": [
    "BATCH_SIZE = 4*32 \n",
    "IMG_SIZE = (512, 512, 1)\n",
    "RANDOM_STATE = 42 # the random state that used to create cv splits\n",
    "\n",
    "BASEPATH = '' # directory storing the preprocessed image of the training set\n",
    "\n",
    "train_gen, val_gen = rm.get_train_val_generators(\n",
    "        train_img_ids,\n",
    "        val_img_ids,\n",
    "        label_img_dict = splitter.labels,\n",
    "        patient_img_dict = splitter.trainset,\n",
    "    \n",
    "        train_img_by_class = cv_train_by_class[0],\n",
    "        train_class_ratio = (0.5, 0.5),\n",
    "    \n",
    "        from_numpy=True,\n",
    "        basepath=BASEPATH,\n",
    "        batch_size=BATCH_SIZE,\n",
    "        img_size=IMG_SIZE,\n",
    "\n",
    "        shuffle=True,\n",
    "        normalize=(0, 1),\n",
    "        feature_extractor='CNN',\n",
    "        CNN_preprocess = keras.applications.inception_v3.preprocess_input\n",
    "        )"
   ]
  },
  {
   "cell_type": "code",
   "execution_count": 19,
   "id": "74613d2e",
   "metadata": {},
   "outputs": [
    {
     "name": "stdout",
     "output_type": "stream",
     "text": [
      "428 54\n",
      "(128, 512, 512, 3) (128,)\n"
     ]
    }
   ],
   "source": [
    "print(len(train_gen), len(val_gen))\n",
    "X, y = train_gen[0]\n",
    "print(X.shape, y.shape)"
   ]
  },
  {
   "cell_type": "code",
   "execution_count": 20,
   "id": "573ff3c6",
   "metadata": {},
   "outputs": [
    {
     "name": "stdout",
     "output_type": "stream",
     "text": [
      "(128, 512, 512, 3) (128,)\n"
     ]
    }
   ],
   "source": [
    "X, y = val_gen[0]\n",
    "print(X.shape, y.shape)"
   ]
  },
  {
   "cell_type": "code",
   "execution_count": 21,
   "id": "2c337bd9",
   "metadata": {},
   "outputs": [
    {
     "data": {
      "text/plain": [
       "TensorShape([14, 14, 2048])"
      ]
     },
     "execution_count": 21,
     "metadata": {},
     "output_type": "execute_result"
    }
   ],
   "source": [
    "inception.output.shape[-3:]"
   ]
  },
  {
   "cell_type": "markdown",
   "id": "8383ccde",
   "metadata": {},
   "source": [
    "## Out of the box"
   ]
  },
  {
   "cell_type": "code",
   "execution_count": 22,
   "id": "28aca23e",
   "metadata": {
    "scrolled": true
   },
   "outputs": [
    {
     "name": "stdout",
     "output_type": "stream",
     "text": [
      "Model: \"sequential_3\"\n",
      "_________________________________________________________________\n",
      " Layer (type)                Output Shape              Param #   \n",
      "=================================================================\n",
      " global_average_pooling2d_1   (None, 2048)             0         \n",
      " (GlobalAveragePooling2D)                                        \n",
      "                                                                 \n",
      " dense_1 (Dense)             (None, 1)                 2049      \n",
      "                                                                 \n",
      "=================================================================\n",
      "Total params: 2,049\n",
      "Trainable params: 2,049\n",
      "Non-trainable params: 0\n",
      "_________________________________________________________________\n"
     ]
    }
   ],
   "source": [
    "model_layers = keras.Sequential([\n",
    "    keras.layers.Input(inception.output.shape[-3:]),\n",
    "    keras.layers.GlobalAvgPool2D(),\n",
    "    keras.layers.Dense(1, activation='sigmoid')\n",
    "])\n",
    "\n",
    "model_layers.summary()"
   ]
  },
  {
   "cell_type": "code",
   "execution_count": null,
   "id": "24b78c5d",
   "metadata": {},
   "outputs": [],
   "source": [
    "METRICS = [\n",
    "      keras.metrics.TruePositives(name='tp'),\n",
    "      keras.metrics.FalsePositives(name='fp'),\n",
    "      keras.metrics.TrueNegatives(name='tn'),\n",
    "      keras.metrics.FalseNegatives(name='fn'), \n",
    "      keras.metrics.BinaryAccuracy(name='accuracy'),\n",
    "      keras.metrics.Precision(name='precision'),\n",
    "      keras.metrics.Recall(name='recall'),\n",
    "      keras.metrics.AUC(name='auc'),\n",
    "      keras.metrics.AUC(name='prc', curve='PR'), # precision-recall curve\n",
    "]"
   ]
  },
  {
   "cell_type": "code",
   "execution_count": 23,
   "id": "3187a465",
   "metadata": {},
   "outputs": [
    {
     "name": "stdout",
     "output_type": "stream",
     "text": [
      "Checkpoint path:  models/inception_imagenet_checkpoint/adam\n",
      "---Checkpoint folder already exists\n",
      "Creating a new model...\n",
      "Model: \"sequential_5\"\n",
      "_________________________________________________________________\n",
      " Layer (type)                Output Shape              Param #   \n",
      "=================================================================\n",
      " sequential_4 (Sequential)   (None, 512, 512, 3)       0         \n",
      "                                                                 \n",
      " inception_v3 (Functional)   (None, 14, 14, 2048)      21802784  \n",
      "                                                                 \n",
      " sequential_3 (Sequential)   (None, 1)                 2049      \n",
      "                                                                 \n",
      "=================================================================\n",
      "Total params: 21,804,833\n",
      "Trainable params: 2,049\n",
      "Non-trainable params: 21,802,784\n",
      "_________________________________________________________________\n"
     ]
    }
   ],
   "source": [
    "model = rm.make_or_restore_model(\n",
    "    model_layers,\n",
    "    input_shape=(IMG_SIZE[0], IMG_SIZE[1]),\n",
    "    augment_layers=True,\n",
    "    base_model=inception,\n",
    "    trainable=False,\n",
    "    loss_func = keras.losses.BinaryCrossentropy(),\n",
    "    optimizer = keras.optimizers.Adam(),\n",
    "    metrics=METRICS,\n",
    "    checkpoint_path='../predictive_models/inception_imagenet_checkpoint/adam'\n",
    ")\n",
    "\n",
    "model.summary()"
   ]
  },
  {
   "cell_type": "code",
   "execution_count": 24,
   "id": "3c219894",
   "metadata": {
    "scrolled": true
   },
   "outputs": [
    {
     "name": "stdout",
     "output_type": "stream",
     "text": [
      "Epoch 1/100\n"
     ]
    },
    {
     "name": "stderr",
     "output_type": "stream",
     "text": [
      "2023-04-13 04:02:49.283766: I tensorflow/core/common_runtime/executor.cc:1197] [/device:CPU:0] (DEBUG INFO) Executor start aborting (this does not indicate an error and you can ignore this message): INVALID_ARGUMENT: You must feed a value for placeholder tensor 'Placeholder/_0' with dtype int32\n",
      "\t [[{{node Placeholder/_0}}]]\n",
      "2023-04-13 04:03:23.203506: I tensorflow/compiler/xla/stream_executor/cuda/cuda_dnn.cc:424] Loaded cuDNN version 8700\n"
     ]
    },
    {
     "name": "stdout",
     "output_type": "stream",
     "text": [
      "428/428 [==============================] - ETA: 0s - loss: 0.6932 - tp: 8832.0000 - fp: 8832.0000 - tn: 18560.0000 - fn: 18560.0000 - accuracy: 0.5000 - precision: 0.5000 - recall: 0.3224 - auc: 0.5000 - prc: 0.5000"
     ]
    },
    {
     "name": "stderr",
     "output_type": "stream",
     "text": [
      "2023-04-13 04:20:43.268699: I tensorflow/core/common_runtime/executor.cc:1197] [/device:CPU:0] (DEBUG INFO) Executor start aborting (this does not indicate an error and you can ignore this message): INVALID_ARGUMENT: You must feed a value for placeholder tensor 'Placeholder/_0' with dtype int32\n",
      "\t [[{{node Placeholder/_0}}]]\n"
     ]
    },
    {
     "name": "stdout",
     "output_type": "stream",
     "text": [
      "\n",
      "Epoch 1: val_loss improved from inf to 0.60225, saving model to models/inception_imagenet_checkpoint/imagenet_512_classratio_adam-lr-default-01-prc0.02-tp10.0-loss0.60.hdf5\n",
      "428/428 [==============================] - 1275s 3s/step - loss: 0.6932 - tp: 8832.0000 - fp: 8832.0000 - tn: 18560.0000 - fn: 18560.0000 - accuracy: 0.5000 - precision: 0.5000 - recall: 0.3224 - auc: 0.5000 - prc: 0.5000 - val_loss: 0.6022 - val_tp: 10.0000 - val_fp: 782.0000 - val_tn: 5989.0000 - val_fn: 131.0000 - val_accuracy: 0.8679 - val_precision: 0.0126 - val_recall: 0.0709 - val_auc: 0.4433 - val_prc: 0.0173\n",
      "Epoch 2/100\n",
      "428/428 [==============================] - ETA: 0s - loss: 0.6931 - tp: 7360.0000 - fp: 7360.0000 - tn: 20032.0000 - fn: 20032.0000 - accuracy: 0.5000 - precision: 0.5000 - recall: 0.2687 - auc: 0.5000 - prc: 0.5000\n",
      "Epoch 2: val_loss did not improve from 0.60225\n",
      "428/428 [==============================] - 1268s 3s/step - loss: 0.6931 - tp: 7360.0000 - fp: 7360.0000 - tn: 20032.0000 - fn: 20032.0000 - accuracy: 0.5000 - precision: 0.5000 - recall: 0.2687 - auc: 0.5000 - prc: 0.5000 - val_loss: 0.6024 - val_tp: 11.0000 - val_fp: 783.0000 - val_tn: 5986.0000 - val_fn: 132.0000 - val_accuracy: 0.8676 - val_precision: 0.0139 - val_recall: 0.0769 - val_auc: 0.4471 - val_prc: 0.0179\n",
      "Epoch 3/100\n",
      "428/428 [==============================] - ETA: 0s - loss: 0.6931 - tp: 9088.0000 - fp: 9088.0000 - tn: 18304.0000 - fn: 18304.0000 - accuracy: 0.5000 - precision: 0.5000 - recall: 0.3318 - auc: 0.5000 - prc: 0.5000\n",
      "Epoch 3: val_loss improved from 0.60225 to 0.60221, saving model to models/inception_imagenet_checkpoint/imagenet_512_classratio_adam-lr-default-03-prc0.02-tp11.0-loss0.60.hdf5\n",
      "428/428 [==============================] - 1250s 3s/step - loss: 0.6931 - tp: 9088.0000 - fp: 9088.0000 - tn: 18304.0000 - fn: 18304.0000 - accuracy: 0.5000 - precision: 0.5000 - recall: 0.3318 - auc: 0.5000 - prc: 0.5000 - val_loss: 0.6022 - val_tp: 11.0000 - val_fp: 779.0000 - val_tn: 5990.0000 - val_fn: 132.0000 - val_accuracy: 0.8682 - val_precision: 0.0139 - val_recall: 0.0769 - val_auc: 0.4462 - val_prc: 0.0179\n",
      "Epoch 4/100\n",
      "428/428 [==============================] - ETA: 0s - loss: 0.6931 - tp: 15616.0000 - fp: 15616.0000 - tn: 11776.0000 - fn: 11776.0000 - accuracy: 0.5000 - precision: 0.5000 - recall: 0.5701 - auc: 0.5000 - prc: 0.5000\n",
      "Epoch 4: val_loss did not improve from 0.60221\n",
      "428/428 [==============================] - 1309s 3s/step - loss: 0.6931 - tp: 15616.0000 - fp: 15616.0000 - tn: 11776.0000 - fn: 11776.0000 - accuracy: 0.5000 - precision: 0.5000 - recall: 0.5701 - auc: 0.5000 - prc: 0.5000 - val_loss: 0.6023 - val_tp: 11.0000 - val_fp: 780.0000 - val_tn: 5989.0000 - val_fn: 132.0000 - val_accuracy: 0.8681 - val_precision: 0.0139 - val_recall: 0.0769 - val_auc: 0.4469 - val_prc: 0.0179\n",
      "Epoch 5/100\n",
      "428/428 [==============================] - ETA: 0s - loss: 0.6931 - tp: 13184.0000 - fp: 13184.0000 - tn: 14208.0000 - fn: 14208.0000 - accuracy: 0.5000 - precision: 0.5000 - recall: 0.4813 - auc: 0.5000 - prc: 0.5000\n",
      "Epoch 5: val_loss did not improve from 0.60221\n",
      "428/428 [==============================] - 1247s 3s/step - loss: 0.6931 - tp: 13184.0000 - fp: 13184.0000 - tn: 14208.0000 - fn: 14208.0000 - accuracy: 0.5000 - precision: 0.5000 - recall: 0.4813 - auc: 0.5000 - prc: 0.5000 - val_loss: 0.6023 - val_tp: 11.0000 - val_fp: 781.0000 - val_tn: 5987.0000 - val_fn: 133.0000 - val_accuracy: 0.8678 - val_precision: 0.0139 - val_recall: 0.0764 - val_auc: 0.4445 - val_prc: 0.0179\n",
      "Epoch 6/100\n",
      "428/428 [==============================] - ETA: 0s - loss: 0.6931 - tp: 12992.0000 - fp: 12992.0000 - tn: 14400.0000 - fn: 14400.0000 - accuracy: 0.5000 - precision: 0.5000 - recall: 0.4743 - auc: 0.5000 - prc: 0.5000\n",
      "Epoch 6: val_loss did not improve from 0.60221\n",
      "428/428 [==============================] - 1287s 3s/step - loss: 0.6931 - tp: 12992.0000 - fp: 12992.0000 - tn: 14400.0000 - fn: 14400.0000 - accuracy: 0.5000 - precision: 0.5000 - recall: 0.4743 - auc: 0.5000 - prc: 0.5000 - val_loss: 0.6024 - val_tp: 11.0000 - val_fp: 784.0000 - val_tn: 5985.0000 - val_fn: 132.0000 - val_accuracy: 0.8675 - val_precision: 0.0138 - val_recall: 0.0769 - val_auc: 0.4440 - val_prc: 0.0178\n",
      "Epoch 7/100\n",
      "428/428 [==============================] - ETA: 0s - loss: 0.6932 - tp: 13568.0000 - fp: 13568.0000 - tn: 13824.0000 - fn: 13824.0000 - accuracy: 0.5000 - precision: 0.5000 - recall: 0.4953 - auc: 0.5000 - prc: 0.5000\n",
      "Epoch 7: val_loss did not improve from 0.60221\n",
      "428/428 [==============================] - 1258s 3s/step - loss: 0.6932 - tp: 13568.0000 - fp: 13568.0000 - tn: 13824.0000 - fn: 13824.0000 - accuracy: 0.5000 - precision: 0.5000 - recall: 0.4953 - auc: 0.5000 - prc: 0.5000 - val_loss: 0.6023 - val_tp: 11.0000 - val_fp: 779.0000 - val_tn: 5989.0000 - val_fn: 133.0000 - val_accuracy: 0.8681 - val_precision: 0.0139 - val_recall: 0.0764 - val_auc: 0.4449 - val_prc: 0.0179\n",
      "Epoch 8/100\n",
      "428/428 [==============================] - ETA: 0s - loss: 0.6931 - tp: 13248.0000 - fp: 13248.0000 - tn: 14144.0000 - fn: 14144.0000 - accuracy: 0.5000 - precision: 0.5000 - recall: 0.4836 - auc: 0.5000 - prc: 0.5000\n",
      "Epoch 8: val_loss did not improve from 0.60221\n",
      "428/428 [==============================] - 1298s 3s/step - loss: 0.6931 - tp: 13248.0000 - fp: 13248.0000 - tn: 14144.0000 - fn: 14144.0000 - accuracy: 0.5000 - precision: 0.5000 - recall: 0.4836 - auc: 0.5000 - prc: 0.5000 - val_loss: 0.6023 - val_tp: 11.0000 - val_fp: 782.0000 - val_tn: 5987.0000 - val_fn: 132.0000 - val_accuracy: 0.8678 - val_precision: 0.0139 - val_recall: 0.0769 - val_auc: 0.4473 - val_prc: 0.0179\n",
      "Epoch 9/100\n",
      "428/428 [==============================] - ETA: 0s - loss: 0.6932 - tp: 13504.0000 - fp: 13504.0000 - tn: 13888.0000 - fn: 13888.0000 - accuracy: 0.5000 - precision: 0.5000 - recall: 0.4930 - auc: 0.5000 - prc: 0.5000\n",
      "Epoch 9: val_loss did not improve from 0.60221\n",
      "428/428 [==============================] - 1259s 3s/step - loss: 0.6932 - tp: 13504.0000 - fp: 13504.0000 - tn: 13888.0000 - fn: 13888.0000 - accuracy: 0.5000 - precision: 0.5000 - recall: 0.4930 - auc: 0.5000 - prc: 0.5000 - val_loss: 0.6023 - val_tp: 11.0000 - val_fp: 780.0000 - val_tn: 5990.0000 - val_fn: 131.0000 - val_accuracy: 0.8682 - val_precision: 0.0139 - val_recall: 0.0775 - val_auc: 0.4492 - val_prc: 0.0178\n",
      "Epoch 10/100\n",
      "428/428 [==============================] - ETA: 0s - loss: 0.6931 - tp: 13760.0000 - fp: 13760.0000 - tn: 13632.0000 - fn: 13632.0000 - accuracy: 0.5000 - precision: 0.5000 - recall: 0.5023 - auc: 0.5000 - prc: 0.5000\n",
      "Epoch 10: val_loss did not improve from 0.60221\n",
      "428/428 [==============================] - 1277s 3s/step - loss: 0.6931 - tp: 13760.0000 - fp: 13760.0000 - tn: 13632.0000 - fn: 13632.0000 - accuracy: 0.5000 - precision: 0.5000 - recall: 0.5023 - auc: 0.5000 - prc: 0.5000 - val_loss: 0.6023 - val_tp: 11.0000 - val_fp: 778.0000 - val_tn: 5992.0000 - val_fn: 131.0000 - val_accuracy: 0.8685 - val_precision: 0.0139 - val_recall: 0.0775 - val_auc: 0.4476 - val_prc: 0.0178\n",
      "Epoch 11/100\n",
      "428/428 [==============================] - ETA: 0s - loss: 0.6931 - tp: 13568.0000 - fp: 13568.0000 - tn: 13824.0000 - fn: 13824.0000 - accuracy: 0.5000 - precision: 0.5000 - recall: 0.4953 - auc: 0.5000 - prc: 0.5000\n",
      "Epoch 11: val_loss did not improve from 0.60221\n",
      "428/428 [==============================] - 1225s 3s/step - loss: 0.6931 - tp: 13568.0000 - fp: 13568.0000 - tn: 13824.0000 - fn: 13824.0000 - accuracy: 0.5000 - precision: 0.5000 - recall: 0.4953 - auc: 0.5000 - prc: 0.5000 - val_loss: 0.6023 - val_tp: 11.0000 - val_fp: 778.0000 - val_tn: 5991.0000 - val_fn: 132.0000 - val_accuracy: 0.8683 - val_precision: 0.0139 - val_recall: 0.0769 - val_auc: 0.4461 - val_prc: 0.0179\n",
      "Epoch 12/100\n",
      "428/428 [==============================] - ETA: 0s - loss: 0.6932 - tp: 13568.0000 - fp: 13568.0000 - tn: 13824.0000 - fn: 13824.0000 - accuracy: 0.5000 - precision: 0.5000 - recall: 0.4953 - auc: 0.5000 - prc: 0.5000\n",
      "Epoch 12: val_loss did not improve from 0.60221\n",
      "428/428 [==============================] - 1267s 3s/step - loss: 0.6932 - tp: 13568.0000 - fp: 13568.0000 - tn: 13824.0000 - fn: 13824.0000 - accuracy: 0.5000 - precision: 0.5000 - recall: 0.4953 - auc: 0.5000 - prc: 0.5000 - val_loss: 0.6028 - val_tp: 11.0000 - val_fp: 790.0000 - val_tn: 5978.0000 - val_fn: 133.0000 - val_accuracy: 0.8665 - val_precision: 0.0137 - val_recall: 0.0764 - val_auc: 0.4439 - val_prc: 0.0179\n"
     ]
    },
    {
     "name": "stdout",
     "output_type": "stream",
     "text": [
      "Epoch 13/100\n",
      "428/428 [==============================] - ETA: 0s - loss: 0.6931 - tp: 12928.0000 - fp: 12928.0000 - tn: 14464.0000 - fn: 14464.0000 - accuracy: 0.5000 - precision: 0.5000 - recall: 0.4720 - auc: 0.5000 - prc: 0.5000\n",
      "Epoch 13: val_loss did not improve from 0.60221\n",
      "428/428 [==============================] - 1217s 3s/step - loss: 0.6931 - tp: 12928.0000 - fp: 12928.0000 - tn: 14464.0000 - fn: 14464.0000 - accuracy: 0.5000 - precision: 0.5000 - recall: 0.4720 - auc: 0.5000 - prc: 0.5000 - val_loss: 0.6023 - val_tp: 11.0000 - val_fp: 779.0000 - val_tn: 5990.0000 - val_fn: 132.0000 - val_accuracy: 0.8682 - val_precision: 0.0139 - val_recall: 0.0769 - val_auc: 0.4462 - val_prc: 0.0179\n",
      ">>> Training time:  16463.85455083847\n"
     ]
    }
   ],
   "source": [
    "start = time.time()\n",
    "\n",
    "EPOCH = 100\n",
    "\n",
    "early_stopping = tf.keras.callbacks.EarlyStopping('val_loss', patience=10)\n",
    "CHECKPOINT_PATH = '../predictive_models/inception_imagenet_checkpoint/imagenet_512_classratio_adam-lr-default-{epoch:02d}-prc{val_prc:.2f}-tp{val_tp}-loss{val_loss:.2f}.hdf5'\n",
    "checkpoint = tf.keras.callbacks.ModelCheckpoint(\n",
    "    filepath = CHECKPOINT_PATH,\n",
    "    save_weights_only = True,\n",
    "    monitor = 'val_loss',\n",
    "    mode = 'min',\n",
    "    save_best_only = True,\n",
    "    save_freq = 'epoch',\n",
    "    verbose = 1\n",
    ")\n",
    "\n",
    "history = model.fit(\n",
    "    train_gen,\n",
    "    epochs=EPOCH,\n",
    "    callbacks=[early_stopping, checkpoint],\n",
    "    use_multiprocessing = True,\n",
    "    workers = 40,\n",
    "    validation_data=val_gen,\n",
    "    verbose = 1\n",
    "    )\n",
    "\n",
    "stop = time.time()\n",
    "print('>>> Training time: ', (stop - start))  "
   ]
  },
  {
   "cell_type": "code",
   "execution_count": 25,
   "id": "430d2402",
   "metadata": {},
   "outputs": [
    {
     "data": {
      "image/png": "[encoded data removed]",
      "text/plain": [
       "<Figure size 576x576 with 4 Axes>"
      ]
     },
     "metadata": {
      "needs_background": "light"
     },
     "output_type": "display_data"
    }
   ],
   "source": [
    "ev.plot_history(history)"
   ]
  },
  {
   "cell_type": "code",
   "execution_count": 26,
   "id": "80e31fb4",
   "metadata": {},
   "outputs": [
    {
     "data": {
      "image/png": "[encoded data removed]",
      "text/plain": [
       "<Figure size 432x288 with 1 Axes>"
      ]
     },
     "metadata": {
      "needs_background": "light"
     },
     "output_type": "display_data"
    }
   ],
   "source": [
    "plt.plot(history.history['loss'])\n",
    "plt.title('Binary Cross Entropy loss')\n",
    "plt.ylabel('Loss')\n",
    "plt.xlabel('Epoch')\n",
    "plt.legend(['Train'], loc='upper left')\n",
    "plt.show()"
   ]
  },
  {
   "cell_type": "code",
   "execution_count": 27,
   "id": "c83838f6",
   "metadata": {
    "scrolled": true
   },
   "outputs": [
    {
     "data": {
      "image/png": "[encoded data removed]",
      "text/plain": [
       "<Figure size 432x288 with 1 Axes>"
      ]
     },
     "metadata": {
      "needs_background": "light"
     },
     "output_type": "display_data"
    }
   ],
   "source": [
    "plt.plot(history.history['val_loss'])\n",
    "plt.title('Binary Cross Entropy loss')\n",
    "plt.ylabel('Loss')\n",
    "plt.xlabel('Epoch')\n",
    "plt.legend(['Validation'], loc='upper left')\n",
    "plt.show()"
   ]
  },
  {
   "cell_type": "markdown",
   "id": "971c494b",
   "metadata": {},
   "source": [
    "### Increase learning rate to 0.01"
   ]
  },
  {
   "cell_type": "code",
   "execution_count": 28,
   "id": "72baa192",
   "metadata": {},
   "outputs": [
    {
     "name": "stdout",
     "output_type": "stream",
     "text": [
      "Checkpoint path:  models/inception_imagenet_checkpoint/adam\n",
      "---Checkpoint folder already exists\n",
      "Creating a new model...\n",
      "Model: \"sequential_7\"\n",
      "_________________________________________________________________\n",
      " Layer (type)                Output Shape              Param #   \n",
      "=================================================================\n",
      " sequential_6 (Sequential)   (None, 512, 512, 3)       0         \n",
      "                                                                 \n",
      " inception_v3 (Functional)   (None, 14, 14, 2048)      21802784  \n",
      "                                                                 \n",
      " sequential_3 (Sequential)   (None, 1)                 2049      \n",
      "                                                                 \n",
      "=================================================================\n",
      "Total params: 21,804,833\n",
      "Trainable params: 2,049\n",
      "Non-trainable params: 21,802,784\n",
      "_________________________________________________________________\n"
     ]
    }
   ],
   "source": [
    "LEARNING_RATE = 0.01\n",
    "\n",
    "model = rm.make_or_restore_model(\n",
    "    model_layers,\n",
    "    input_shape=(IMG_SIZE[0], IMG_SIZE[1]),\n",
    "    augment_layers=True,\n",
    "    base_model=inception,\n",
    "    trainable=False,\n",
    "    loss_func = keras.losses.BinaryCrossentropy(),\n",
    "    optimizer = keras.optimizers.Adam(learning_rate=LEARNING_RATE),\n",
    "    metrics=METRICS,\n",
    "    checkpoint_path='../predictive_models/inception_imagenet_checkpoint/adam'\n",
    ")\n",
    "\n",
    "model.summary()"
   ]
  },
  {
   "cell_type": "code",
   "execution_count": null,
   "id": "228cbe58",
   "metadata": {
    "scrolled": true
   },
   "outputs": [
    {
     "name": "stdout",
     "output_type": "stream",
     "text": [
      "Epoch 1/100\n"
     ]
    },
    {
     "name": "stderr",
     "output_type": "stream",
     "text": [
      "2023-04-13 09:14:53.144070: I tensorflow/core/common_runtime/executor.cc:1197] [/device:CPU:0] (DEBUG INFO) Executor start aborting (this does not indicate an error and you can ignore this message): INVALID_ARGUMENT: You must feed a value for placeholder tensor 'Placeholder/_0' with dtype int32\n",
      "\t [[{{node Placeholder/_0}}]]\n"
     ]
    },
    {
     "name": "stdout",
     "output_type": "stream",
     "text": [
      "428/428 [==============================] - ETA: 0s - loss: 0.6949 - tp: 12555.0000 - fp: 13323.0000 - tn: 20838.0000 - fn: 14980.0000 - accuracy: 0.5413 - precision: 0.4852 - recall: 0.4560 - auc: 0.5710 - prc: 0.4801"
     ]
    },
    {
     "name": "stderr",
     "output_type": "stream",
     "text": [
      "2023-04-13 09:32:40.237619: I tensorflow/core/common_runtime/executor.cc:1197] [/device:CPU:0] (DEBUG INFO) Executor start aborting (this does not indicate an error and you can ignore this message): INVALID_ARGUMENT: You must feed a value for placeholder tensor 'Placeholder/_0' with dtype int32\n",
      "\t [[{{node Placeholder/_0}}]]\n"
     ]
    },
    {
     "name": "stdout",
     "output_type": "stream",
     "text": [
      "\n",
      "Epoch 1: val_loss improved from inf to 0.50724, saving model to models/inception_imagenet_checkpoint/imagenet_512_classratio_adam-lr-1e-2-01-prc0.02-tp0.0-loss0.51.hdf5\n",
      "428/428 [==============================] - 1284s 3s/step - loss: 0.6949 - tp: 12555.0000 - fp: 13323.0000 - tn: 20838.0000 - fn: 14980.0000 - accuracy: 0.5413 - precision: 0.4852 - recall: 0.4560 - auc: 0.5710 - prc: 0.4801 - val_loss: 0.5072 - val_tp: 0.0000e+00 - val_fp: 40.0000 - val_tn: 6730.0000 - val_fn: 142.0000 - val_accuracy: 0.9737 - val_precision: 0.0000e+00 - val_recall: 0.0000e+00 - val_auc: 0.4318 - val_prc: 0.0172\n",
      "Epoch 2/100\n",
      "428/428 [==============================] - ETA: 0s - loss: 0.6931 - tp: 12288.0000 - fp: 12288.0000 - tn: 15104.0000 - fn: 15104.0000 - accuracy: 0.5000 - precision: 0.5000 - recall: 0.4486 - auc: 0.5000 - prc: 0.5000\n",
      "Epoch 2: val_loss did not improve from 0.50724\n",
      "428/428 [==============================] - 1244s 3s/step - loss: 0.6931 - tp: 12288.0000 - fp: 12288.0000 - tn: 15104.0000 - fn: 15104.0000 - accuracy: 0.5000 - precision: 0.5000 - recall: 0.4486 - auc: 0.5000 - prc: 0.5000 - val_loss: 0.5074 - val_tp: 0.0000e+00 - val_fp: 40.0000 - val_tn: 6730.0000 - val_fn: 142.0000 - val_accuracy: 0.9737 - val_precision: 0.0000e+00 - val_recall: 0.0000e+00 - val_auc: 0.4335 - val_prc: 0.0173\n",
      "Epoch 3/100\n",
      "428/428 [==============================] - ETA: 0s - loss: 0.6934 - tp: 13632.0000 - fp: 13632.0000 - tn: 13760.0000 - fn: 13760.0000 - accuracy: 0.5000 - precision: 0.5000 - recall: 0.4977 - auc: 0.5000 - prc: 0.5000\n",
      "Epoch 3: val_loss improved from 0.50724 to 0.50640, saving model to models/inception_imagenet_checkpoint/imagenet_512_classratio_adam-lr-1e-2-03-prc0.02-tp0.0-loss0.51.hdf5\n",
      "428/428 [==============================] - 1263s 3s/step - loss: 0.6934 - tp: 13632.0000 - fp: 13632.0000 - tn: 13760.0000 - fn: 13760.0000 - accuracy: 0.5000 - precision: 0.5000 - recall: 0.4977 - auc: 0.5000 - prc: 0.5000 - val_loss: 0.5064 - val_tp: 0.0000e+00 - val_fp: 37.0000 - val_tn: 6733.0000 - val_fn: 142.0000 - val_accuracy: 0.9741 - val_precision: 0.0000e+00 - val_recall: 0.0000e+00 - val_auc: 0.4393 - val_prc: 0.0174\n",
      "Epoch 4/100\n",
      "428/428 [==============================] - ETA: 0s - loss: 0.6934 - tp: 13760.0000 - fp: 13760.0000 - tn: 13632.0000 - fn: 13632.0000 - accuracy: 0.5000 - precision: 0.5000 - recall: 0.5023 - auc: 0.5000 - prc: 0.5000\n",
      "Epoch 4: val_loss did not improve from 0.50640\n",
      "428/428 [==============================] - 1377s 3s/step - loss: 0.6934 - tp: 13760.0000 - fp: 13760.0000 - tn: 13632.0000 - fn: 13632.0000 - accuracy: 0.5000 - precision: 0.5000 - recall: 0.5023 - auc: 0.5000 - prc: 0.5000 - val_loss: 0.5070 - val_tp: 0.0000e+00 - val_fp: 39.0000 - val_tn: 6732.0000 - val_fn: 141.0000 - val_accuracy: 0.9740 - val_precision: 0.0000e+00 - val_recall: 0.0000e+00 - val_auc: 0.4371 - val_prc: 0.0173\n",
      "Epoch 5/100\n",
      "428/428 [==============================] - ETA: 0s - loss: 0.6935 - tp: 13568.0000 - fp: 13568.0000 - tn: 13824.0000 - fn: 13824.0000 - accuracy: 0.5000 - precision: 0.5000 - recall: 0.4953 - auc: 0.5000 - prc: 0.5000\n",
      "Epoch 5: val_loss improved from 0.50640 to 0.50480, saving model to models/inception_imagenet_checkpoint/imagenet_512_classratio_adam-lr-1e-2-05-prc0.02-tp0.0-loss0.50.hdf5\n",
      "428/428 [==============================] - 1259s 3s/step - loss: 0.6935 - tp: 13568.0000 - fp: 13568.0000 - tn: 13824.0000 - fn: 13824.0000 - accuracy: 0.5000 - precision: 0.5000 - recall: 0.4953 - auc: 0.5000 - prc: 0.5000 - val_loss: 0.5048 - val_tp: 0.0000e+00 - val_fp: 36.0000 - val_tn: 6733.0000 - val_fn: 143.0000 - val_accuracy: 0.9741 - val_precision: 0.0000e+00 - val_recall: 0.0000e+00 - val_auc: 0.4344 - val_prc: 0.0173\n",
      "Epoch 6/100\n",
      "428/428 [==============================] - ETA: 0s - loss: 0.6937 - tp: 13248.0000 - fp: 13248.0000 - tn: 14144.0000 - fn: 14144.0000 - accuracy: 0.5000 - precision: 0.5000 - recall: 0.4836 - auc: 0.5000 - prc: 0.5000\n",
      "Epoch 6: val_loss did not improve from 0.50480\n",
      "428/428 [==============================] - 1478s 3s/step - loss: 0.6937 - tp: 13248.0000 - fp: 13248.0000 - tn: 14144.0000 - fn: 14144.0000 - accuracy: 0.5000 - precision: 0.5000 - recall: 0.4836 - auc: 0.5000 - prc: 0.5000 - val_loss: 0.5069 - val_tp: 0.0000e+00 - val_fp: 38.0000 - val_tn: 6732.0000 - val_fn: 142.0000 - val_accuracy: 0.9740 - val_precision: 0.0000e+00 - val_recall: 0.0000e+00 - val_auc: 0.4375 - val_prc: 0.0174\n",
      "Epoch 7/100\n",
      "428/428 [==============================] - ETA: 0s - loss: 0.6934 - tp: 13504.0000 - fp: 13504.0000 - tn: 13888.0000 - fn: 13888.0000 - accuracy: 0.5000 - precision: 0.5000 - recall: 0.4930 - auc: 0.5000 - prc: 0.5000\n",
      "Epoch 7: val_loss did not improve from 0.50480\n",
      "428/428 [==============================] - 1267s 3s/step - loss: 0.6934 - tp: 13504.0000 - fp: 13504.0000 - tn: 13888.0000 - fn: 13888.0000 - accuracy: 0.5000 - precision: 0.5000 - recall: 0.4930 - auc: 0.5000 - prc: 0.5000 - val_loss: 0.5072 - val_tp: 0.0000e+00 - val_fp: 39.0000 - val_tn: 6730.0000 - val_fn: 143.0000 - val_accuracy: 0.9737 - val_precision: 0.0000e+00 - val_recall: 0.0000e+00 - val_auc: 0.4331 - val_prc: 0.0174\n",
      "Epoch 8/100\n",
      "428/428 [==============================] - ETA: 0s - loss: 0.6936 - tp: 13632.0000 - fp: 13632.0000 - tn: 13760.0000 - fn: 13760.0000 - accuracy: 0.5000 - precision: 0.5000 - recall: 0.4977 - auc: 0.5000 - prc: 0.5000\n",
      "Epoch 8: val_loss did not improve from 0.50480\n",
      "428/428 [==============================] - 1278s 3s/step - loss: 0.6936 - tp: 13632.0000 - fp: 13632.0000 - tn: 13760.0000 - fn: 13760.0000 - accuracy: 0.5000 - precision: 0.5000 - recall: 0.4977 - auc: 0.5000 - prc: 0.5000 - val_loss: 0.5064 - val_tp: 0.0000e+00 - val_fp: 36.0000 - val_tn: 6734.0000 - val_fn: 142.0000 - val_accuracy: 0.9742 - val_precision: 0.0000e+00 - val_recall: 0.0000e+00 - val_auc: 0.4325 - val_prc: 0.0171\n",
      "Epoch 9/100\n",
      "428/428 [==============================] - ETA: 0s - loss: 0.6934 - tp: 13696.0000 - fp: 13696.0000 - tn: 13696.0000 - fn: 13696.0000 - accuracy: 0.5000 - precision: 0.5000 - recall: 0.5000 - auc: 0.5000 - prc: 0.5000\n",
      "Epoch 9: val_loss did not improve from 0.50480\n",
      "428/428 [==============================] - 1267s 3s/step - loss: 0.6934 - tp: 13696.0000 - fp: 13696.0000 - tn: 13696.0000 - fn: 13696.0000 - accuracy: 0.5000 - precision: 0.5000 - recall: 0.5000 - auc: 0.5000 - prc: 0.5000 - val_loss: 0.5074 - val_tp: 0.0000e+00 - val_fp: 40.0000 - val_tn: 6729.0000 - val_fn: 143.0000 - val_accuracy: 0.9735 - val_precision: 0.0000e+00 - val_recall: 0.0000e+00 - val_auc: 0.4326 - val_prc: 0.0173\n",
      "Epoch 10/100\n",
      "428/428 [==============================] - ETA: 0s - loss: 0.6937 - tp: 13888.0000 - fp: 13888.0000 - tn: 13504.0000 - fn: 13504.0000 - accuracy: 0.5000 - precision: 0.5000 - recall: 0.5070 - auc: 0.5000 - prc: 0.5000\n",
      "Epoch 10: val_loss did not improve from 0.50480\n",
      "428/428 [==============================] - 1287s 3s/step - loss: 0.6937 - tp: 13888.0000 - fp: 13888.0000 - tn: 13504.0000 - fn: 13504.0000 - accuracy: 0.5000 - precision: 0.5000 - recall: 0.5070 - auc: 0.5000 - prc: 0.5000 - val_loss: 0.5133 - val_tp: 0.0000e+00 - val_fp: 55.0000 - val_tn: 6715.0000 - val_fn: 142.0000 - val_accuracy: 0.9715 - val_precision: 0.0000e+00 - val_recall: 0.0000e+00 - val_auc: 0.4335 - val_prc: 0.0172\n",
      "Epoch 11/100\n",
      "428/428 [==============================] - ETA: 0s - loss: 0.6934 - tp: 13696.0000 - fp: 13696.0000 - tn: 13696.0000 - fn: 13696.0000 - accuracy: 0.5000 - precision: 0.5000 - recall: 0.5000 - auc: 0.5000 - prc: 0.5000\n",
      "Epoch 11: val_loss did not improve from 0.50480\n",
      "428/428 [==============================] - 1282s 3s/step - loss: 0.6934 - tp: 13696.0000 - fp: 13696.0000 - tn: 13696.0000 - fn: 13696.0000 - accuracy: 0.5000 - precision: 0.5000 - recall: 0.5000 - auc: 0.5000 - prc: 0.5000 - val_loss: 0.5073 - val_tp: 0.0000e+00 - val_fp: 38.0000 - val_tn: 6730.0000 - val_fn: 144.0000 - val_accuracy: 0.9737 - val_precision: 0.0000e+00 - val_recall: 0.0000e+00 - val_auc: 0.4353 - val_prc: 0.0176\n",
      "Epoch 12/100\n",
      "428/428 [==============================] - ETA: 0s - loss: 0.6936 - tp: 13568.0000 - fp: 13568.0000 - tn: 13824.0000 - fn: 13824.0000 - accuracy: 0.5000 - precision: 0.5000 - recall: 0.4953 - auc: 0.5000 - prc: 0.5000\n",
      "Epoch 12: val_loss did not improve from 0.50480\n"
     ]
    },
    {
     "name": "stdout",
     "output_type": "stream",
     "text": [
      "428/428 [==============================] - 1254s 3s/step - loss: 0.6936 - tp: 13568.0000 - fp: 13568.0000 - tn: 13824.0000 - fn: 13824.0000 - accuracy: 0.5000 - precision: 0.5000 - recall: 0.4953 - auc: 0.5000 - prc: 0.5000 - val_loss: 0.5090 - val_tp: 0.0000e+00 - val_fp: 45.0000 - val_tn: 6725.0000 - val_fn: 142.0000 - val_accuracy: 0.9729 - val_precision: 0.0000e+00 - val_recall: 0.0000e+00 - val_auc: 0.4339 - val_prc: 0.0172\n",
      "Epoch 13/100\n",
      "428/428 [==============================] - ETA: 0s - loss: 0.6934 - tp: 13440.0000 - fp: 13440.0000 - tn: 13952.0000 - fn: 13952.0000 - accuracy: 0.5000 - precision: 0.5000 - recall: 0.4907 - auc: 0.5000 - prc: 0.5000\n",
      "Epoch 13: val_loss did not improve from 0.50480\n",
      "428/428 [==============================] - 1252s 3s/step - loss: 0.6934 - tp: 13440.0000 - fp: 13440.0000 - tn: 13952.0000 - fn: 13952.0000 - accuracy: 0.5000 - precision: 0.5000 - recall: 0.4907 - auc: 0.5000 - prc: 0.5000 - val_loss: 0.5074 - val_tp: 0.0000e+00 - val_fp: 40.0000 - val_tn: 6728.0000 - val_fn: 144.0000 - val_accuracy: 0.9734 - val_precision: 0.0000e+00 - val_recall: 0.0000e+00 - val_auc: 0.4352 - val_prc: 0.0175\n",
      "Epoch 14/100\n",
      "428/428 [==============================] - ETA: 0s - loss: 0.6936 - tp: 13376.0000 - fp: 13376.0000 - tn: 14016.0000 - fn: 14016.0000 - accuracy: 0.5000 - precision: 0.5000 - recall: 0.4883 - auc: 0.5000 - prc: 0.5000\n",
      "Epoch 14: val_loss did not improve from 0.50480\n",
      "428/428 [==============================] - 1281s 3s/step - loss: 0.6936 - tp: 13376.0000 - fp: 13376.0000 - tn: 14016.0000 - fn: 14016.0000 - accuracy: 0.5000 - precision: 0.5000 - recall: 0.4883 - auc: 0.5000 - prc: 0.5000 - val_loss: 0.5081 - val_tp: 0.0000e+00 - val_fp: 41.0000 - val_tn: 6729.0000 - val_fn: 142.0000 - val_accuracy: 0.9735 - val_precision: 0.0000e+00 - val_recall: 0.0000e+00 - val_auc: 0.4389 - val_prc: 0.0174\n",
      "Epoch 15/100\n",
      "397/428 [==========================>...] - ETA: 1:14 - loss: 0.6934 - tp: 12928.0000 - fp: 12928.0000 - tn: 12480.0000 - fn: 12480.0000 - accuracy: 0.5000 - precision: 0.5000 - recall: 0.5088 - auc: 0.5000 - prc: 0.5000"
     ]
    }
   ],
   "source": [
    "start = time.time()\n",
    "\n",
    "EPOCH = 100\n",
    "\n",
    "early_stopping = tf.keras.callbacks.EarlyStopping('val_loss', patience=10)\n",
    "CHECKPOINT_PATH = '../predictive_models/inception_imagenet_checkpoint/imagenet_512_classratio_adam-lr-1e-2-{epoch:02d}-prc{val_prc:.2f}-tp{val_tp}-loss{val_loss:.2f}.hdf5'\n",
    "checkpoint = tf.keras.callbacks.ModelCheckpoint(\n",
    "    filepath = CHECKPOINT_PATH,\n",
    "    save_weights_only = True,\n",
    "    monitor = 'val_loss',\n",
    "    mode = 'min',\n",
    "    save_best_only = True,\n",
    "    save_freq = 'epoch',\n",
    "    verbose = 1\n",
    ")\n",
    "\n",
    "history = model.fit(\n",
    "    train_gen,\n",
    "    epochs=EPOCH,\n",
    "    callbacks=[early_stopping, checkpoint],\n",
    "    use_multiprocessing = True,\n",
    "    workers = 40,\n",
    "    validation_data=val_gen,\n",
    "    verbose = 1\n",
    "    )\n",
    "\n",
    "stop = time.time()\n",
    "print('>>> Training time: ', (stop - start))  "
   ]
  },
  {
   "cell_type": "code",
   "execution_count": 8,
   "id": "3e5d1258",
   "metadata": {},
   "outputs": [
    {
     "data": {
      "image/png": "[encoded data removed]",
      "text/plain": [
       "<Figure size 576x576 with 4 Axes>"
      ]
     },
     "metadata": {
      "needs_background": "light"
     },
     "output_type": "display_data"
    }
   ],
   "source": [
    "history={\n",
    "    'loss': [0.6949, 0.6931, 0.6934, 0.6934, 0.6935, 0.6937, 0.6934, 0.6936, 0.6934, 0.6937, 0.6934, 0.6936, 0.6934, 0.6936, 0.6934],\n",
    "    'prc': [ 0.4801, 0.5000, 0.5000, 0.5000, 0.5000, 0.5000, 0.5000, 0.5000, 0.5000, 0.5000, 0.5000, 0.5000, 0.5000, 0.5000, 0.5000],\n",
    "    'precision': [0.4852, 0.5000, 0.5000, 0.5000, 0.5000, 0.5000, 0.5000, 0.5000, 0.5000, 0.5000,  0.5000, 0.5000, 0.5000, 0.5000 , 0.5000],\n",
    "    'recall': [0.4560, 0.4486, 0.4977, 0.5023, 0.4953, 0.4836, 0.4930, 0.4977, 0.5000, 0.5070, 0.5000, 0.4953, 0.4907, 0.4883, 0.5070],\n",
    "    \n",
    "    'val_loss': [0.5072, 0.5074, 0.5064, 0.5070, 0.5048, 0.5069, 0.5072, 0.5064, 0.5074, 0.5133, 0.5073, 0.5090, 0.5074, 0.5081, 0.5071],\n",
    "    'val_prc': [0.0172, 0.0173, 0.0174, 0.0173, 0.0173, 0.0174, 0.0174, 0.0171, 0.0173, 0.0172,  0.0176, 0.0172, 0.0175,  0.0174,  0.5071], \n",
    "    'val_precision': [0, 0, 0, 0, 0, 0, 0, 0, 0, 0, 0, 0, 0, 0, 0 ],\n",
    "    'val_recall': [0, 0, 0, 0, 0, 0, 0, 0, 0, 0,0 , 0, 0, 0, 0]\n",
    "}\n",
    "\n",
    "metrics = ['loss', 'prc', 'precision', 'recall']\n",
    "metric_name = {'loss': 'Binary Cross Entropy Loss', 'prc':'PR AUC', 'precision': 'Precision', 'recall': 'Recall'}\n",
    "\n",
    "fig, ax = plt.subplots(2, 2, figsize=(8, 8))\n",
    "n=0\n",
    "for i in range(2):\n",
    "    for j in range(2):\n",
    "\n",
    "        metric = metrics[n]\n",
    "        val_metric = 'val_' + metric\n",
    "\n",
    "        ax[i, j].plot(history[metric])\n",
    "        ax[i, j].plot(history[val_metric])\n",
    "        ax[i, j].set_title(metric_name[metric])\n",
    "        ax[i, j].set_ylabel(metric)\n",
    "        ax[i, j].set_xlabel('Epoch')\n",
    "        ax[i, j].legend(['Train', 'Validate'], loc='upper left')\n",
    "\n",
    "        n = n + 1\n",
    "\n",
    "fig.tight_layout(pad=1) "
   ]
  },
  {
   "cell_type": "code",
   "execution_count": 9,
   "id": "bc706480",
   "metadata": {},
   "outputs": [
    {
     "data": {
      "image/png": "[encoded data removed]",
      "text/plain": [
       "<Figure size 432x288 with 1 Axes>"
      ]
     },
     "metadata": {
      "needs_background": "light"
     },
     "output_type": "display_data"
    }
   ],
   "source": [
    "plt.plot(history['loss'])\n",
    "plt.title('Binary Cross Entropy loss')\n",
    "plt.ylabel('Loss')\n",
    "plt.xlabel('Epoch')\n",
    "plt.legend(['Train'], loc='upper left')\n",
    "plt.show()"
   ]
  },
  {
   "cell_type": "code",
   "execution_count": 11,
   "id": "c943ad87",
   "metadata": {},
   "outputs": [
    {
     "data": {
      "image/png": "[encoded data removed]",
      "text/plain": [
       "<Figure size 432x288 with 1 Axes>"
      ]
     },
     "metadata": {
      "needs_background": "light"
     },
     "output_type": "display_data"
    }
   ],
   "source": [
    "plt.plot(history['val_loss'])\n",
    "plt.title('Binary Cross Entropy loss')\n",
    "plt.ylabel('Loss')\n",
    "plt.xlabel('Epoch')\n",
    "plt.legend(['Validate'], loc='upper left')\n",
    "plt.show()"
   ]
  },
  {
   "cell_type": "markdown",
   "id": "8582bb59",
   "metadata": {},
   "source": [
    "## Use initial bias and class weights"
   ]
  },
  {
   "cell_type": "code",
   "execution_count": 10,
   "id": "ba2e6e05",
   "metadata": {},
   "outputs": [
    {
     "name": "stdout",
     "output_type": "stream",
     "text": [
      "Weight for class 0: 0.33\n",
      "Weight for class 1: 15.11\n"
     ]
    }
   ],
   "source": [
    "pos = metadata[metadata.cancer==1].image_id.nunique()\n",
    "neg = metadata[metadata.cancer==0].image_id.nunique()\n",
    "total = metadata[metadata.patient_id.isin(splitter.trainset.keys())].image_id.nunique()\n",
    "\n",
    "# Scaling by total/2 helps keep the loss to a similar magnitude.\n",
    "# The sum of the weights of all examples stays the same.\n",
    "weight_for_0 = (1 / neg) * (total / 2.0)\n",
    "weight_for_1 = (1 / pos) * (total / 2.0)\n",
    "\n",
    "class_weight = {0: weight_for_0, 1: weight_for_1}\n",
    "\n",
    "print('Weight for class 0: {:.2f}'.format(weight_for_0))\n",
    "print('Weight for class 1: {:.2f}'.format(weight_for_1))"
   ]
  },
  {
   "cell_type": "code",
   "execution_count": 30,
   "id": "b42f2e45",
   "metadata": {},
   "outputs": [
    {
     "name": "stdout",
     "output_type": "stream",
     "text": [
      "Checkpoint path:  models/inception_imagenet_checkpoint/sgd\n",
      "---Checkpoint folder already exists\n",
      "Creating a new model...\n",
      "Model: \"sequential_10\"\n",
      "_________________________________________________________________\n",
      " Layer (type)                Output Shape              Param #   \n",
      "=================================================================\n",
      " sequential_9 (Sequential)   (None, 256, 256, 3)       0         \n",
      "                                                                 \n",
      " inception_v3 (Functional)   (None, 6, 6, 2048)        21802784  \n",
      "                                                                 \n",
      " sequential_4 (Sequential)   (None, 1)                 2049      \n",
      "                                                                 \n",
      "=================================================================\n",
      "Total params: 21,804,833\n",
      "Trainable params: 2,049\n",
      "Non-trainable params: 21,802,784\n",
      "_________________________________________________________________\n"
     ]
    }
   ],
   "source": [
    "model = rm.make_or_restore_model(\n",
    "    model_layers,\n",
    "    input_shape=(IMG_SIZE[0], IMG_SIZE[1]),\n",
    "    augment_layers=True,\n",
    "    base_model=inception,\n",
    "    trainable=False,\n",
    "    loss_func = keras.losses.BinaryCrossentropy(),\n",
    "    optimizer = keras.optimizers.Adam(),\n",
    "    metrics=METRICS,\n",
    "    checkpoint_path='../predictive_models/inception_imagenet_checkpoint/sgd'\n",
    ")\n",
    "\n",
    "model.summary()"
   ]
  },
  {
   "cell_type": "code",
   "execution_count": null,
   "id": "b3c40d7f",
   "metadata": {},
   "outputs": [],
   "source": [
    "start = time.time()\n",
    "\n",
    "EPOCH = 100\n",
    "\n",
    "early_stopping = tf.keras.callbacks.EarlyStopping('val_loss', patience=10)\n",
    "CHECKPOINT_PATH = '../predictive_models/inception_imagenet_checkpoint/imagenet_256_bias_weight_adam-lr-default-{epoch:02d}-prc{val_prc:.2f}-tp{val_tp}-loss{val_loss:.2f}.hdf5'\n",
    "checkpoint = tf.keras.callbacks.ModelCheckpoint(\n",
    "    filepath = CHECKPOINT_PATH,\n",
    "    save_weights_only = False,\n",
    "    monitor = 'val_loss',\n",
    "    mode = 'min',\n",
    "    save_best_only = True,\n",
    "    save_freq = 'epoch',\n",
    "    verbose = 1\n",
    ")\n",
    "\n",
    "history = model.fit(\n",
    "    train_gen,\n",
    "    epochs=EPOCH,\n",
    "    callbacks=[early_stopping, checkpoint],\n",
    "    use_multiprocessing = True,\n",
    "    workers = 32,\n",
    "    validation_data=val_gen,\n",
    "    class_weight=class_weight,\n",
    "    verbose = 1\n",
    "    )\n",
    "\n",
    "stop = time.time()\n",
    "print('>>> Training time: ', (stop - start))"
   ]
  }
 ],
 "metadata": {
  "kernelspec": {
   "display_name": "Python 3 (ipykernel)",
   "language": "python",
   "name": "python3"
  },
  "language_info": {
   "codemirror_mode": {
    "name": "ipython",
    "version": 3
   },
   "file_extension": ".py",
   "mimetype": "text/x-python",
   "name": "python",
   "nbconvert_exporter": "python",
   "pygments_lexer": "ipython3",
   "version": "3.9.7"
  }
 },
 "nbformat": 4,
 "nbformat_minor": 5
}
